{
 "cells": [
  {
   "cell_type": "markdown",
   "metadata": {},
   "source": [
    "Import the required libraries"
   ]
  },
  {
   "cell_type": "code",
   "execution_count": 1,
   "metadata": {},
   "outputs": [],
   "source": [
    "from jupyter_core.paths import jupyter_path\n",
    "import warnings\n",
    "warnings.filterwarnings('ignore')\n",
    "\n",
    "import numpy as np\n",
    "import pandas as pd\n",
    "import seaborn as sns\n",
    "import os\n",
    "import glob\n",
    "import matplotlib.pyplot as plt\n",
    "from datetime import date\n",
    "from datetime import datetime\n",
    "from datetime import timedelta"
   ]
  },
  {
   "cell_type": "code",
   "execution_count": 2,
   "metadata": {},
   "outputs": [],
   "source": [
    "from sklearn.model_selection import train_test_split\n",
    "from sklearn.preprocessing import LabelEncoder\n",
    "from sklearn.model_selection import TimeSeriesSplit\n",
    "from sklearn import metrics\n",
    "from sklearn.metrics import mean_absolute_error as mae\n",
    "from sklearn.metrics import accuracy_score, roc_auc_score\n",
    "from sklearn.metrics import confusion_matrix\n",
    "from sklearn.metrics import classification_report\n",
    "from sklearn.metrics import precision_score\n",
    "from sklearn.model_selection import GridSearchCV\n",
    "from sklearn.model_selection import KFold\n",
    "import lightgbm as lgb # Our ML library"
   ]
  },
  {
   "cell_type": "code",
   "execution_count": 3,
   "metadata": {},
   "outputs": [],
   "source": [
    "#Cross validation libraries\n",
    "from sklearn.model_selection import TimeSeriesSplit"
   ]
  },
  {
   "cell_type": "code",
   "execution_count": 4,
   "metadata": {},
   "outputs": [],
   "source": [
    "import joblib"
   ]
  },
  {
   "cell_type": "markdown",
   "metadata": {},
   "source": [
    "Read all CSVs with stocks data and append to one big file"
   ]
  },
  {
   "cell_type": "code",
   "execution_count": 5,
   "metadata": {},
   "outputs": [],
   "source": [
    "#os.chdir(\"/Users/olegkazanskyi/Documents/GitHub/Trading/CSVs\")\n",
    "os.chdir(\"C:/Users/oleg.kazanskyi/Personal-oleg.kazanskyi/Trading Python/SP500_CSVs_01032023\")\n",
    "filepaths = [f for f in os.listdir(\"./\") if f.endswith('.csv')]\n",
    "df = pd.DataFrame()\n",
    "for i in filepaths:\n",
    "    iterate_df = pd.DataFrame()\n",
    "    iterate_df = pd.read_csv(i, encoding= 'unicode_escape')\n",
    "    iterate_df[\"stock\"] = i[:-4]\n",
    "    df = pd.concat([df,iterate_df])\n",
    "#df = pd.concat(map(pd.read_csv, filepaths))\n",
    "\n",
    "df = df[df.close.notna()]\n",
    "os.chdir(\"C:/Users/oleg.kazanskyi/Personal-oleg.kazanskyi/Trading Python/ML_part/EOD\")\n",
    "df.to_csv(\"THE_FINAL_DATASET_2023.csv\")"
   ]
  },
  {
   "cell_type": "markdown",
   "metadata": {},
   "source": [
    "record the dataframe to speed up the future reading process"
   ]
  },
  {
   "cell_type": "markdown",
   "metadata": {},
   "source": [
    "os.chdir(\"C:/Users/oleg.kazanskyi/Personal-oleg.kazanskyi/Trading Python/\")\n",
    "df.to_csv(\"THE_FINAL_DATASET_2023.csv\")"
   ]
  },
  {
   "cell_type": "raw",
   "metadata": {},
   "source": [
    "os.chdir(\"C:/Users/oleg.kazanskyi/Personal-oleg.kazanskyi/Trading Python/ML_part/EOD\")\n",
    "df= pd.read_csv(\"THE_FINAL_DATASET_2023.csv\")\n",
    "#df.drop([\"Unnamed: 0\",\"dataCode\",\"name\",\"description\",\"statementType\",\"units\",\"Unnamed: 0.2\", \"Unnamed: 0.1\"], axis = 1, inplace = True)\n",
    "df = df[df.close.notna()]"
   ]
  },
  {
   "cell_type": "code",
   "execution_count": 6,
   "metadata": {},
   "outputs": [],
   "source": [
    "df['YoY_DY'] = 100*df['DY'].pct_change(periods = -365)"
   ]
  },
  {
   "cell_type": "code",
   "execution_count": 7,
   "metadata": {
    "scrolled": true
   },
   "outputs": [
    {
     "data": {
      "text/plain": [
       "(905697, 61)"
      ]
     },
     "execution_count": 7,
     "metadata": {},
     "output_type": "execute_result"
    }
   ],
   "source": [
    "df.shape"
   ]
  },
  {
   "cell_type": "code",
   "execution_count": 8,
   "metadata": {},
   "outputs": [
    {
     "data": {
      "text/plain": [
       "0"
      ]
     },
     "execution_count": 8,
     "metadata": {},
     "output_type": "execute_result"
    }
   ],
   "source": [
    "df.duplicated().sum()"
   ]
  },
  {
   "cell_type": "markdown",
   "metadata": {},
   "source": [
    "Set up Date column as an index columns"
   ]
  },
  {
   "cell_type": "code",
   "execution_count": 9,
   "metadata": {},
   "outputs": [],
   "source": [
    "df[\"date\"] = pd.to_datetime(df[\"date\"])"
   ]
  },
  {
   "cell_type": "markdown",
   "metadata": {},
   "source": [
    "Let's check how much empty values we have by column"
   ]
  },
  {
   "cell_type": "code",
   "execution_count": 10,
   "metadata": {
    "scrolled": true
   },
   "outputs": [
    {
     "name": "stdout",
     "output_type": "stream",
     "text": [
      "days_after_earnings_report    240298\n",
      "LTDE                            4553\n",
      "DE                              1208\n",
      "DPR                           102881\n",
      "Acc_Rec_Pay_Ration              1888\n",
      "DY                            102881\n",
      "PEG_Forward                     3140\n",
      "PEG_Backwards                    119\n",
      "EPS_surprise                  240298\n",
      "EPS_YoY_Growth                240298\n",
      "EPS_QoQ_frcst_diff            240298\n",
      "EPS_1Y_exp_Change             254091\n",
      "YoY_ROE                         7919\n",
      "YoY_LTDE                        7919\n",
      "YoY_DE                          7919\n",
      "YoY_CR                          7919\n",
      "YoY_GM                          7919\n",
      "YoY_ROA                         7919\n",
      "YoY_DPR                        99368\n",
      "YoY_AR_Ration                   9354\n",
      "YoY_ES                          7919\n",
      "YoY_Piotroski                   7919\n",
      "YoY_PE                          7919\n",
      "YoY_PB                          7919\n",
      "YoY_PEGF                        7919\n",
      "YoY_PEGB                        7919\n",
      "YoY_DY                           365\n",
      "future_15dprice_change          5445\n",
      "future_30dprice_change         10890\n",
      "future_60dprice_change         21780\n",
      "future_90dprice_change         32670\n",
      "future_120dprice_change        43560\n",
      "future_150dprice_change        54450\n",
      "VIX_high                         146\n",
      "days_after_crisis             135418\n",
      "VIX_DoD                          495\n",
      "VIX_WoW                         2475\n",
      "VIX_MoM                        10890\n",
      "10YB_MoM                         373\n",
      "10YB_YoY                        4877\n",
      "10YB_30MA_Vector                 409\n",
      "10YB_200MA_Vector               2671\n",
      "10Y_Val_to_30MA                  391\n",
      "10Y_Val_to_200MA                2651\n",
      "Fed_Balance_MoM                 6225\n",
      "Fed_Balance_YoY                 6225\n",
      "dtype: int64\n"
     ]
    }
   ],
   "source": [
    "zeroes = df.isnull().sum()\n",
    "print(zeroes[zeroes>0])\n",
    "del zeroes"
   ]
  },
  {
   "cell_type": "markdown",
   "metadata": {},
   "source": [
    "### Dealing with \"EPS\" column"
   ]
  },
  {
   "cell_type": "markdown",
   "metadata": {},
   "source": [
    "There are many null values in the \"current_ratio\" column. Let's see the stocks where it happens and then decide what to do"
   ]
  },
  {
   "cell_type": "code",
   "execution_count": 11,
   "metadata": {},
   "outputs": [
    {
     "data": {
      "text/plain": [
       "array(['A', 'AAL', 'AAP', 'AAPL', 'ABBV', 'ABC', 'ABT', 'ACGL', 'ACN',\n",
       "       'ADBE', 'ADI', 'ADM', 'ADP', 'ADSK', 'AEE', 'AEP', 'AES', 'AFL',\n",
       "       'AIG', 'AIZ', 'AJG', 'AKAM', 'ALB', 'ALGN', 'ALK', 'ALL', 'ALLE',\n",
       "       'AMAT', 'AMCR', 'AMD', 'AME', 'AMGN', 'AMP', 'AMT', 'AMZN', 'ANET',\n",
       "       'ANSS', 'AON', 'AOS', 'APA', 'APD', 'APH', 'APTV', 'ARE', 'ATO',\n",
       "       'ATVI', 'AVB', 'AVGO', 'AVY', 'AWK', 'AXP', 'AZO', 'BA', 'BAC',\n",
       "       'BALL', 'BAX', 'BBWI', 'BBY', 'BDX', 'BEN', 'BF-B', 'BIIB', 'BIO',\n",
       "       'BK', 'BKNG', 'BKR', 'BLK', 'BMY', 'BR', 'BRK-B', 'BRO', 'BSX',\n",
       "       'BWA', 'BXP', 'C', 'CAG', 'CAH', 'CARR', 'CAT', 'CB', 'CBOE',\n",
       "       'CBRE', 'CCI', 'CCL', 'CDAY', 'CDNS', 'CDW', 'CE', 'CF', 'CFG',\n",
       "       'CHD', 'CHRW', 'CHTR', 'CI', 'CINF', 'CL', 'CLX', 'CMA', 'CMCSA',\n",
       "       'CME', 'CMG', 'CMI', 'CMS', 'CNC', 'CNP', 'COF', 'COO', 'COP',\n",
       "       'COST', 'CPB', 'CPRT', 'CPT', 'CRL', 'CRM', 'CSCO', 'CSGP', 'CSX',\n",
       "       'CTAS', 'CTLT', 'CTRA', 'CTSH', 'CTVA', 'CVS', 'CVX', 'CZR', 'D',\n",
       "       'DAL', 'DD', 'DE', 'DFS', 'DG', 'DGX', 'DHI', 'DHR', 'DIS', 'DISH',\n",
       "       'DLR', 'DLTR', 'DOV', 'DOW', 'DPZ', 'DRI', 'DTE', 'DUK', 'DVA',\n",
       "       'DVN', 'DXC', 'DXCM', 'EA', 'EBAY', 'ECL', 'ED', 'EFX', 'EIX',\n",
       "       'EL', 'ELV', 'EMN', 'EMR', 'ENPH', 'EOG', 'EPAM', 'EQIX', 'EQR',\n",
       "       'EQT', 'ES', 'ESS', 'ETN', 'ETR', 'ETSY', 'EVRG', 'EW', 'EXC',\n",
       "       'EXPD', 'EXPE', 'EXR', 'F', 'FANG', 'FAST', 'FCX', 'FDS', 'FDX',\n",
       "       'FE', 'FFIV', 'FIS', 'FISV', 'FITB', 'FLT', 'FMC', 'FOX', 'FOXA',\n",
       "       'FRC', 'FRT', 'FSLR', 'FTNT', 'FTV', 'GD', 'GE', 'GILD', 'GIS',\n",
       "       'GL', 'GLW', 'GM', 'GNRC', 'GOOG', 'GOOGL', 'GPC', 'GPN', 'GRMN',\n",
       "       'GS', 'GWW', 'HAL', 'HAS', 'HBAN', 'HCA', 'HD', 'HES', 'HIG',\n",
       "       'HII', 'HLT', 'HOLX', 'HON', 'HPE', 'HPQ', 'HRL', 'HSIC', 'HSY',\n",
       "       'HUM', 'HWM', 'IBM', 'ICE', 'IDXX', 'IEX', 'IFF', 'ILMN', 'INCY',\n",
       "       'INTC', 'INTU', 'INVH', 'IP', 'IPG', 'IQV', 'IR', 'IRM', 'ISRG',\n",
       "       'IT', 'ITW', 'IVZ', 'J', 'JBHT', 'JCI', 'JKHY', 'JNJ', 'JNPR',\n",
       "       'JPM', 'K', 'KDP', 'KEY', 'KEYS', 'KHC', 'KIM', 'KLAC', 'KMB',\n",
       "       'KMI', 'KMX', 'KO', 'L', 'LEN', 'LH', 'LHX', 'LIN', 'LKQ', 'LLY',\n",
       "       'LMT', 'LNC', 'LNT', 'LOW', 'LRCX', 'LUMN', 'LUV', 'LVS', 'LW',\n",
       "       'LYB', 'LYV', 'MA', 'MAA', 'MAR', 'MAS', 'MCD', 'MCHP', 'MCK',\n",
       "       'MCO', 'MDLZ', 'MDT', 'MET', 'META', 'MGM', 'MHK', 'MKC', 'MKTX',\n",
       "       'MLM', 'MMC', 'MMM', 'MNST', 'MO', 'MOH', 'MOS', 'MPC', 'MPWR',\n",
       "       'MRK', 'MRNA', 'MRO', 'MS', 'MSCI', 'MSFT', 'MSI', 'MTB', 'MTCH',\n",
       "       'MTD', 'MU', 'NCLH', 'NDAQ', 'NDSN', 'NEE', 'NEM', 'NFLX', 'NI',\n",
       "       'NKE', 'NOC', 'NOW', 'NRG', 'NSC', 'NTAP', 'NTRS', 'NUE', 'NVDA',\n",
       "       'NVR', 'NWL', 'NWSA', 'NXPI', 'O', 'ODFL', 'OGN', 'OKE', 'OMC',\n",
       "       'ON', 'ORCL', 'ORLY', 'OTIS', 'OXY', 'PARA', 'PAYC', 'PAYX',\n",
       "       'PCAR', 'PCG', 'PEAK', 'PEG', 'PEP', 'PFE', 'PFG', 'PG', 'PGR',\n",
       "       'PH', 'PHM', 'PKG', 'PKI', 'PLD', 'PM', 'PNC', 'PNR', 'PNW',\n",
       "       'POOL', 'PPG', 'PPL', 'PRU', 'PSA', 'PSX', 'PTC', 'PWR', 'PXD',\n",
       "       'PYPL', 'QCOM', 'QRVO', 'RCL', 'RE', 'REG', 'REGN', 'RF', 'RHI',\n",
       "       'RJF', 'RL', 'RMD', 'ROK', 'ROL', 'ROP', 'ROST', 'RSG', 'RTX',\n",
       "       'SBAC', 'SBNY', 'SBUX', 'SCHW', 'SEDG', 'SEE', 'SHW', 'SIVB',\n",
       "       'SJM', 'SLB', 'SNA', 'SNPS', 'SO', 'SPG', 'SPGI', 'SRE', 'STE',\n",
       "       'STLD', 'STT', 'STZ', 'SWK', 'SWKS', 'SYF', 'SYK', 'SYY', 'T',\n",
       "       'TAP', 'TDG', 'TDY', 'TECH', 'TEL', 'TER', 'TFC', 'TFX', 'TGT',\n",
       "       'TMO', 'TMUS', 'TPR', 'TRGP', 'TRMB', 'TROW', 'TRV', 'TSCO',\n",
       "       'TSLA', 'TSN', 'TT', 'TTWO', 'TXN', 'TXT', 'TYL', 'UAL', 'UDR',\n",
       "       'UHS', 'ULTA', 'UNH', 'UNP', 'UPS', 'URI', 'USB', 'V', 'VFC',\n",
       "       'VICI', 'VLO', 'VMC', 'VRSK', 'VRSN', 'VRTX', 'VTR', 'VTRS', 'VZ',\n",
       "       'WAB', 'WAT', 'WBA', 'WBD', 'WDC', 'WEC', 'WELL', 'WFC', 'WHR',\n",
       "       'WM', 'WMB', 'WMT', 'WRB', 'WRK', 'WST', 'WTW', 'WY', 'WYNN',\n",
       "       'XEL', 'XOM', 'XRAY', 'XYL', 'YUM', 'ZBH', 'ZBRA', 'ZION', 'ZTS'],\n",
       "      dtype=object)"
      ]
     },
     "execution_count": 11,
     "metadata": {},
     "output_type": "execute_result"
    }
   ],
   "source": [
    "df[df.EPS_surprise.isnull()].stock.unique()"
   ]
  },
  {
   "cell_type": "markdown",
   "metadata": {},
   "source": [
    "After checking the original files, it's apparently the null values comes from the older data.\n",
    "\n",
    "Before 2017 our API did not provide us info about earinings. \n",
    "\n",
    "We can drop the reocrds with 'nan' values"
   ]
  },
  {
   "cell_type": "markdown",
   "metadata": {},
   "source": [
    "we will remove only 10k records "
   ]
  },
  {
   "cell_type": "code",
   "execution_count": 12,
   "metadata": {},
   "outputs": [],
   "source": [
    "df = df[df.EPS_surprise.notnull()]"
   ]
  },
  {
   "cell_type": "markdown",
   "metadata": {},
   "source": [
    "Let's check the dataset again"
   ]
  },
  {
   "cell_type": "code",
   "execution_count": 13,
   "metadata": {},
   "outputs": [
    {
     "name": "stdout",
     "output_type": "stream",
     "text": [
      "LTDE                        4553\n",
      "DE                          1208\n",
      "DPR                        61224\n",
      "Acc_Rec_Pay_Ration          1839\n",
      "DY                         61224\n",
      "PEG_Forward                 3140\n",
      "PEG_Backwards                119\n",
      "EPS_1Y_exp_Change          13793\n",
      "YoY_ROE                     7919\n",
      "YoY_LTDE                    7919\n",
      "YoY_DE                      7919\n",
      "YoY_CR                      7919\n",
      "YoY_GM                      7919\n",
      "YoY_ROA                     7919\n",
      "YoY_DPR                    61096\n",
      "YoY_AR_Ration               9305\n",
      "YoY_ES                      7919\n",
      "YoY_Piotroski               7919\n",
      "YoY_PE                      7919\n",
      "YoY_PB                      7919\n",
      "YoY_PEGF                    7919\n",
      "YoY_PEGB                    7919\n",
      "YoY_DY                       365\n",
      "future_15dprice_change        47\n",
      "future_30dprice_change       227\n",
      "future_60dprice_change      1239\n",
      "future_90dprice_change      9610\n",
      "future_120dprice_change    19580\n",
      "future_150dprice_change    29568\n",
      "VIX_DoD                      495\n",
      "VIX_WoW                     2475\n",
      "VIX_MoM                    10890\n",
      "Fed_Balance_MoM             1428\n",
      "Fed_Balance_YoY             1428\n",
      "dtype: int64\n"
     ]
    }
   ],
   "source": [
    "def check_null_cols(df):\n",
    "    zeroes = df.isnull().sum()\n",
    "    print(zeroes[zeroes>0])\n",
    "    \n",
    "check_null_cols(df)   "
   ]
  },
  {
   "cell_type": "markdown",
   "metadata": {},
   "source": [
    "### Dealing with the null values in the \"dividends\" column"
   ]
  },
  {
   "cell_type": "markdown",
   "metadata": {},
   "source": [
    "About 30% of data is affected by null values in the dividends columns.\n",
    "Let's check how many companies are in the list"
   ]
  },
  {
   "cell_type": "code",
   "execution_count": 14,
   "metadata": {},
   "outputs": [
    {
     "name": "stdout",
     "output_type": "stream",
     "text": [
      "Number of companies with zero values in dividends 49\n"
     ]
    }
   ],
   "source": [
    "print(\"Number of companies with zero values in dividends\",len(df[df['DY'].isnull()].stock.unique()))"
   ]
  },
  {
   "cell_type": "markdown",
   "metadata": {},
   "source": [
    "This companies do not pay dividends, we can replace payments to \"0\""
   ]
  },
  {
   "cell_type": "code",
   "execution_count": 15,
   "metadata": {},
   "outputs": [],
   "source": [
    "df['DY'].fillna(0, inplace=True)\n",
    "df['YoY_DPR'].fillna(0, inplace=True)\n",
    "df['DPR'].fillna(0, inplace=True)\n",
    "df['YoY_DY'].fillna(0, inplace=True)                   "
   ]
  },
  {
   "cell_type": "markdown",
   "metadata": {},
   "source": [
    "### Dealing with YoY"
   ]
  },
  {
   "cell_type": "markdown",
   "metadata": {},
   "source": [
    "The YoY variables with null values are caused by YoY calculation of the rows without historical data.\n",
    "Let's drop these"
   ]
  },
  {
   "cell_type": "code",
   "execution_count": 16,
   "metadata": {},
   "outputs": [],
   "source": [
    "df = df[df.YoY_CR.notnull()]"
   ]
  },
  {
   "cell_type": "markdown",
   "metadata": {},
   "source": [
    "Let's check the dataset again"
   ]
  },
  {
   "cell_type": "code",
   "execution_count": 17,
   "metadata": {},
   "outputs": [
    {
     "name": "stdout",
     "output_type": "stream",
     "text": [
      "LTDE                        4553\n",
      "DE                          1208\n",
      "Acc_Rec_Pay_Ration          1839\n",
      "PEG_Forward                 2175\n",
      "PEG_Backwards                119\n",
      "EPS_1Y_exp_Change          12828\n",
      "YoY_AR_Ration               1386\n",
      "future_15dprice_change        47\n",
      "future_30dprice_change       227\n",
      "future_60dprice_change      1239\n",
      "future_90dprice_change      9610\n",
      "future_120dprice_change    19580\n",
      "future_150dprice_change    29568\n",
      "VIX_DoD                      457\n",
      "VIX_WoW                     2285\n",
      "VIX_MoM                    10054\n",
      "Fed_Balance_MoM             1428\n",
      "Fed_Balance_YoY             1428\n",
      "dtype: int64\n"
     ]
    }
   ],
   "source": [
    "check_null_cols(df)   "
   ]
  },
  {
   "cell_type": "code",
   "execution_count": 18,
   "metadata": {},
   "outputs": [
    {
     "data": {
      "text/plain": [
       "(657480, 61)"
      ]
     },
     "execution_count": 18,
     "metadata": {},
     "output_type": "execute_result"
    }
   ],
   "source": [
    "df.shape"
   ]
  },
  {
   "cell_type": "markdown",
   "metadata": {},
   "source": [
    "### Dealing with debt ratio"
   ]
  },
  {
   "cell_type": "markdown",
   "metadata": {},
   "source": [
    "Let's check the companies that contain null values"
   ]
  },
  {
   "cell_type": "code",
   "execution_count": 19,
   "metadata": {},
   "outputs": [
    {
     "data": {
      "text/plain": [
       "array(['FFIV', 'FTNT'], dtype=object)"
      ]
     },
     "execution_count": 19,
     "metadata": {},
     "output_type": "execute_result"
    }
   ],
   "source": [
    "df[df['DE'].isnull()].stock.unique()"
   ]
  },
  {
   "cell_type": "markdown",
   "metadata": {},
   "source": [
    "It seems these companies had zero debt for some quarters.\n",
    "\n",
    "Let's replace with \"0\""
   ]
  },
  {
   "cell_type": "code",
   "execution_count": 20,
   "metadata": {},
   "outputs": [],
   "source": [
    "df['DE'].fillna(0, inplace=True)\n",
    "df['LTDE'].fillna(0, inplace=True)"
   ]
  },
  {
   "cell_type": "code",
   "execution_count": 21,
   "metadata": {},
   "outputs": [
    {
     "name": "stdout",
     "output_type": "stream",
     "text": [
      "Acc_Rec_Pay_Ration          1839\n",
      "PEG_Forward                 2175\n",
      "PEG_Backwards                119\n",
      "EPS_1Y_exp_Change          12828\n",
      "YoY_AR_Ration               1386\n",
      "future_15dprice_change        47\n",
      "future_30dprice_change       227\n",
      "future_60dprice_change      1239\n",
      "future_90dprice_change      9610\n",
      "future_120dprice_change    19580\n",
      "future_150dprice_change    29568\n",
      "VIX_DoD                      457\n",
      "VIX_WoW                     2285\n",
      "VIX_MoM                    10054\n",
      "Fed_Balance_MoM             1428\n",
      "Fed_Balance_YoY             1428\n",
      "dtype: int64\n"
     ]
    }
   ],
   "source": [
    "check_null_cols(df)   "
   ]
  },
  {
   "cell_type": "markdown",
   "metadata": {},
   "source": [
    "### Dealing with VIX"
   ]
  },
  {
   "cell_type": "markdown",
   "metadata": {},
   "source": [
    "Let's remove null values for VIX as these are related to the historical calculations"
   ]
  },
  {
   "cell_type": "code",
   "execution_count": 22,
   "metadata": {},
   "outputs": [],
   "source": [
    "df = df[df.VIX_MoM.notnull()]"
   ]
  },
  {
   "cell_type": "code",
   "execution_count": 23,
   "metadata": {},
   "outputs": [
    {
     "name": "stdout",
     "output_type": "stream",
     "text": [
      "Acc_Rec_Pay_Ration          1795\n",
      "PEG_Forward                 1953\n",
      "PEG_Backwards                 61\n",
      "EPS_1Y_exp_Change          12606\n",
      "YoY_AR_Ration               1364\n",
      "future_15dprice_change        47\n",
      "future_30dprice_change       227\n",
      "future_60dprice_change      1239\n",
      "future_90dprice_change      9610\n",
      "future_120dprice_change    19580\n",
      "future_150dprice_change    29568\n",
      "Fed_Balance_MoM             1406\n",
      "Fed_Balance_YoY             1406\n",
      "dtype: int64\n"
     ]
    }
   ],
   "source": [
    "check_null_cols(df) "
   ]
  },
  {
   "cell_type": "markdown",
   "metadata": {},
   "source": [
    "### Dealing with Accounts Payable"
   ]
  },
  {
   "cell_type": "code",
   "execution_count": 24,
   "metadata": {},
   "outputs": [
    {
     "data": {
      "text/plain": [
       "array(['CINF', 'MAA'], dtype=object)"
      ]
     },
     "execution_count": 24,
     "metadata": {},
     "output_type": "execute_result"
    }
   ],
   "source": [
    "df[df['Acc_Rec_Pay_Ration'].isnull()].stock.unique()"
   ]
  },
  {
   "cell_type": "markdown",
   "metadata": {},
   "source": [
    "It seems these companies had zero Accounts receivables for some quarters"
   ]
  },
  {
   "cell_type": "code",
   "execution_count": 25,
   "metadata": {},
   "outputs": [],
   "source": [
    "df['Acc_Rec_Pay_Ration'].fillna(0, inplace=True)"
   ]
  },
  {
   "cell_type": "markdown",
   "metadata": {},
   "source": [
    "### Dealing with PEG"
   ]
  },
  {
   "cell_type": "code",
   "execution_count": 26,
   "metadata": {},
   "outputs": [
    {
     "data": {
      "text/plain": [
       "array(['LHX', 'PLD', 'SEDG'], dtype=object)"
      ]
     },
     "execution_count": 26,
     "metadata": {},
     "output_type": "execute_result"
    }
   ],
   "source": [
    "df[df['PEG_Forward'].isnull()].stock.unique()"
   ]
  },
  {
   "cell_type": "markdown",
   "metadata": {},
   "source": [
    "We can drop the rows as the effect would be unsignificant"
   ]
  },
  {
   "cell_type": "code",
   "execution_count": 27,
   "metadata": {},
   "outputs": [],
   "source": [
    "df = df[df.PEG_Forward.notnull()]"
   ]
  },
  {
   "cell_type": "code",
   "execution_count": 28,
   "metadata": {},
   "outputs": [
    {
     "data": {
      "text/plain": [
       "array(['PKI', 'SYF'], dtype=object)"
      ]
     },
     "execution_count": 28,
     "metadata": {},
     "output_type": "execute_result"
    }
   ],
   "source": [
    "df[df['PEG_Backwards'].isnull()].stock.unique()"
   ]
  },
  {
   "cell_type": "code",
   "execution_count": 29,
   "metadata": {},
   "outputs": [],
   "source": [
    "df = df[df.PEG_Backwards.notnull()]"
   ]
  },
  {
   "cell_type": "code",
   "execution_count": 30,
   "metadata": {},
   "outputs": [],
   "source": [
    "df = df[df.EPS_1Y_exp_Change.notnull()]"
   ]
  },
  {
   "cell_type": "code",
   "execution_count": 31,
   "metadata": {},
   "outputs": [
    {
     "name": "stdout",
     "output_type": "stream",
     "text": [
      "YoY_AR_Ration               1346\n",
      "future_15dprice_change        11\n",
      "future_30dprice_change        22\n",
      "future_60dprice_change        44\n",
      "future_90dprice_change        66\n",
      "future_120dprice_change     9584\n",
      "future_150dprice_change    19572\n",
      "Fed_Balance_MoM             1406\n",
      "Fed_Balance_YoY             1406\n",
      "dtype: int64\n"
     ]
    }
   ],
   "source": [
    "check_null_cols(df) "
   ]
  },
  {
   "cell_type": "markdown",
   "metadata": {},
   "source": [
    "### Dealing with Industry"
   ]
  },
  {
   "cell_type": "code",
   "execution_count": 32,
   "metadata": {},
   "outputs": [
    {
     "data": {
      "text/plain": [
       "array([], dtype=object)"
      ]
     },
     "execution_count": 32,
     "metadata": {},
     "output_type": "execute_result"
    }
   ],
   "source": [
    "df[df['sector'].isnull()].stock.unique()"
   ]
  },
  {
   "cell_type": "markdown",
   "metadata": {},
   "source": [
    "Let's fill the sector and industry values for the GEN company"
   ]
  },
  {
   "cell_type": "code",
   "execution_count": 33,
   "metadata": {},
   "outputs": [],
   "source": [
    "df.loc[df['stock'] == 'GEN','sector'] = 'Information Technology'\n",
    "df.loc[df['stock'] == 'GEN','industry'] = 'Software & Services'"
   ]
  },
  {
   "cell_type": "code",
   "execution_count": 34,
   "metadata": {},
   "outputs": [
    {
     "name": "stdout",
     "output_type": "stream",
     "text": [
      "YoY_AR_Ration               1346\n",
      "future_15dprice_change        11\n",
      "future_30dprice_change        22\n",
      "future_60dprice_change        44\n",
      "future_90dprice_change        66\n",
      "future_120dprice_change     9584\n",
      "future_150dprice_change    19572\n",
      "Fed_Balance_MoM             1406\n",
      "Fed_Balance_YoY             1406\n",
      "dtype: int64\n"
     ]
    }
   ],
   "source": [
    "check_null_cols(df) "
   ]
  },
  {
   "cell_type": "code",
   "execution_count": 35,
   "metadata": {},
   "outputs": [],
   "source": [
    "df = df[df.YoY_AR_Ration.notnull()]"
   ]
  },
  {
   "cell_type": "markdown",
   "metadata": {},
   "source": [
    "### Working with data types"
   ]
  },
  {
   "cell_type": "markdown",
   "metadata": {},
   "source": [
    "Now we can keep only the necessery columns"
   ]
  },
  {
   "cell_type": "code",
   "execution_count": 36,
   "metadata": {},
   "outputs": [
    {
     "name": "stdout",
     "output_type": "stream",
     "text": [
      "column days_after_earnings_report, data: \n",
      " [45.0 44.0 43.0 42.0 41.0 38.0 37.0 36.0 35.0 34.0 31.0 30.0 29.0 28.0\n",
      " 27.0 24.0 23.0 22.0 21.0 17.0 16.0 15.0 14.0 13.0 10.0 9.0 8.0 7.0 6.0\n",
      " 3.0 2.0 1.0 0.0 83.0 80.0 79.0 78.0 77.0 76.0 73.0 72.0 71.0 70.0 69.0\n",
      " 66.0 65.0 64.0 63.0 62.0 59.0 58.0 57.0 56.0 55.0 52.0 51.0 50.0 49.0\n",
      " 48.0 20.0 90.0 87.0 86.0 85.0 84.0 88.0 81.0 74.0 67.0 60.0 53.0 46.0\n",
      " 39.0 25.0 18.0 11.0 4.0 94.0 93.0 92.0 91.0 97.0 82.0 75.0 68.0 61.0 54.0\n",
      " 47.0 40.0 33.0 32.0 26.0 19.0 12.0 5.0 100.0 99.0 98.0 96.0 89.0 102.0\n",
      " 101.0 95.0 105.0 104.0 103.0 107.0 106.0 109.0 108.0 118.0 117.0 113.0\n",
      " 112.0 111.0 110.0 125.0 124.0 123.0 120.0 119.0 116.0 115.0 114.0 121.0\n",
      " 122.0 126.0 127.0 128.0 129.0 132.0 133.0 134.0 135.0 136.0 139.0 140.0\n",
      " 141.0 142.0 143.0 146.0 147.0 148.0 149.0 150.0 153.0 154.0 155.0 156.0\n",
      " 157.0 160.0 161.0 162.0 163.0 164.0 167.0 130.0 131.0 137.0 138.0 144.0]\n",
      "column open, data: \n",
      " [123.02 122.81 122.77 ... 91.635 84.3335 87.445]\n",
      "column close, data: \n",
      " [121.55 122.74 123.72 ... 49.835 49.305 49.495]\n",
      "column sector, data: \n",
      " ['Health Care' 'Industrials' 'Consumer Discretionary'\n",
      " 'Information Technology' 'Financials' 'Consumer Staples' 'Utilities'\n",
      " 'Materials' 'Real Estate' 'Energy' 'Communication Services']\n",
      "column industry, data: \n",
      " ['Pharmaceuticals, Biotechnology & Life Sciences' 'Transportation'\n",
      " 'Retailing' 'Technology Hardware & Equipment'\n",
      " 'Health Care Equipment & Services' 'Insurance' 'Software & Services'\n",
      " 'Semiconductors & Semiconductor Equipment' 'Food, Beverage & Tobacco'\n",
      " 'Utilities' 'Materials' 'Capital Goods' 'Diversified Financials'\n",
      " 'Real Estate' 'Energy' 'Automobiles & Components' 'Media & Entertainment'\n",
      " 'Banks' 'Consumer Services' 'Household & Personal Products'\n",
      " 'Food & Staples Retailing' 'Commercial & Professional Services'\n",
      " 'Consumer Durables & Apparel' 'Telecommunication Services']\n",
      "column ROE, data: \n",
      " [0.0313811522319725 0.0262075561932089 0.0274038927084342 ...\n",
      " 0.0320844099913867 0.0316585490899769 0.0311151784546999]\n",
      "column CR, data: \n",
      " [1.9400630914826495 2.009376723662438 2.1931818181818183 ...\n",
      " 2.8029782359679265 2.008968609865471 1.955491329479769]\n",
      "column GM, data: \n",
      " [0.5465657741559954 0.5357809583074051 0.5436081242532855 ...\n",
      " 0.6770601336302895 0.653270291568164 0.6401299756295694]\n",
      "column ROA, data: \n",
      " [0.0313811522319725 0.0262075561932089 0.0274038927084342 ...\n",
      " 0.0320844099913867 0.0316585490899769 0.0311151784546999]\n",
      "column ES, data: \n",
      " [0.905252528309778 0.8964758417472178 0.8893747560301771 ...\n",
      " 0.7721627164866052 0.7755275314228767 0.7769068043162722]\n",
      "column Piotroski_Score, data: \n",
      " [6 8 5 7 4 9 2 3 1]\n",
      "column PE, data: \n",
      " [22.67723880597015 22.899253731343283 23.08208955223881 ...\n",
      " 29.353773584905657 29.22641509433962 29.17452830188679]\n",
      "column PB, data: \n",
      " [7.138764486348457 7.208654488312708 7.266210960518562 ...\n",
      " 18.85169357798165 18.769900917431197 18.736577981651376]\n",
      "column PEG_Forward, data: \n",
      " [0.4709053417124901 0.4755156037991858 0.4793122902235235 ...\n",
      " 0.0660544158741849 0.0657678227151614 0.065651062539263]\n",
      "column PEG_Backwards, data: \n",
      " [1.3482084440809643 1.3614076875894492 1.372277652831731 ...\n",
      " 3.59583726415094 3.5802358490566006 3.573879716981129]\n",
      "column EPS_surprise, data: \n",
      " [11.666666666666677 0.8928571428571237 2.5423728813559348 ...\n",
      " 32.9268292682927 13.636363636363628 39.0625]\n",
      "column EPS_YoY_Growth, data: \n",
      " [16.82027649769586 15.43778801843318 22.105263157894733 ...\n",
      " -28.88888888888889 15.335463258785945 29.583333333333336]\n",
      "column EPS_QoQ_frcst_diff, data: \n",
      " [0.0 1.3824884792626817 -6.667475139461553 ... 1.177394034536892\n",
      " 11.06750392464677 12.990580847723692]\n",
      "column EPS_1Y_exp_Change, data: \n",
      " [48.15668202764977 48.387096774193566 48.84792626728111 ...\n",
      " 308.6261980830671 306.7092651757189 303.83386581469654]\n",
      "column YoY_ROE, data: \n",
      " [24.7044197218272 26.16026356341994 -11.968090759338969 ...\n",
      " 6.254005383235062 4.430317688586749 13.677169128862165]\n",
      "column YoY_LTDE, data: \n",
      " [0.9534083744246802 -1.0037957438127965 18.73702395926471 ...\n",
      " -21.44814689222875 -20.18552202977294 -21.84336264040861]\n",
      "column YoY_DE, data: \n",
      " [2.7102540130723662 -2.02321042978596 10.472665887547072 ...\n",
      " -3.581022152329993 -4.171086310536043 -6.161584407419052]\n",
      "column YoY_CR, data: \n",
      " [-7.911102155394046 0.5260182185135465 -2.6753220551670176 ...\n",
      " -37.28009658502932 -38.94965470764784 -31.229621524494377]\n",
      "column YoY_GM, data: \n",
      " [1.7433471609634488 0.0080736130713354 -1.027574766126127 ...\n",
      " -2.4535831626276705 -4.4156970876984 -3.773475849733554]\n",
      "column YoY_ROA, data: \n",
      " [24.7044197218272 26.16026356341994 -11.968090759338969 ...\n",
      " 6.254005383235062 4.430317688586749 13.677169128862165]\n",
      "column YoY_AR_Ration, data: \n",
      " [-10.630658258741754 -3.2315872208608765 -9.95590395072069 ...\n",
      " 23.5909276110281 4.176904176904173 -4.485382458950726]\n",
      "column YoY_ES, data: \n",
      " [65.2914993185592 66.25551974221129 64.83550449887478 ...\n",
      " -10.7726411167108 -12.282869740571057 -9.843951919261762]\n",
      "column YoY_Piotroski, data: \n",
      " [-14.28571428571429 0.0 -28.57142857142857 16.666666666666675\n",
      " 60.00000000000001 33.33333333333333 75.0 -25.0 -42.85714285714286 -50.0\n",
      " -33.333333333333336 -12.5 14.28571428571428 39.99999999999999\n",
      " 28.57142857142858 20.0 -37.5 100.0 50.0 200.0 -55.55555555555556 -75.0\n",
      " -71.42857142857143 -57.14285714285714 -16.666666666666664\n",
      " -22.22222222222222 -11.111111111111116 12.5 80.0 -62.5 125.0\n",
      " -44.44444444444444 166.66666666666666 25.0 -20.0 133.33333333333334 150.0\n",
      " -66.66666666666667 300.0 250.0 -60.0 -40.0 66.66666666666667 -80.0\n",
      " -83.33333333333334 -87.5 -77.77777777777779 500.0 350.0 700.0\n",
      " -85.71428571428572 600.0 800.0]\n",
      "column YoY_PE, data: \n",
      " [-36.65977861596605 -37.02705223880597 -36.48455657920528 ...\n",
      " 3.889816360600995 3.4390651085141943 3.255425709515869]\n",
      "column YoY_PB, data: \n",
      " [-26.752557248189955 -27.177277166677595 -26.549928242069587 ...\n",
      " -5.0747578966293005 -3.44042698170558 -6.052574125083421]\n",
      "column YoY_PEGF, data: \n",
      " [-2.555922108720565 -3.1209444393884067 -2.2863564295155125 ...\n",
      " 3.889816360600995 3.4390651085141943 3.255425709515869]\n",
      "column YoY_PEGB, data: \n",
      " [-52.92867109474191 -53.20161073911266 -52.79845471810803 ...\n",
      " 55.834724540901504 55.15859766277129 54.88313856427381]\n",
      "column future_15dprice_change, data: \n",
      " [6.129084701674525 2.35322856444915 4.178545247210241 ...\n",
      " 0.8895358240336382 1.992871030460153 0.2395783421178743]\n",
      "column future_30dprice_change, data: \n",
      " [14.52609331815964 12.653692696034511 13.032499796367205 ...\n",
      " -0.4941814124023502 2.640959170447177 0.7027631368790921]\n",
      "column future_60dprice_change, data: \n",
      " [26.54039993496993 27.1231984366094 26.23605115256169 ...\n",
      " -0.822447992259312 -1.1179520414776325 -2.9867433317361414]\n",
      "column future_90dprice_change, data: \n",
      " [23.64656153470981 23.49971500692125 22.212266840433337 ...\n",
      " 5.144331559425908 5.63836681788723 4.2165788212745525]\n",
      "column future_120dprice_change, data: \n",
      " [nan 14.136651723604876 18.364329624153772 ... 5.724883083373666\n",
      " 6.626701231367482 4.951285737102684]\n",
      "column future_150dprice_change, data: \n",
      " [nan 10.605947120065906 15.87567608745335 ... 14.159006611836825\n",
      " 14.079714841218394 11.196294521641924]\n",
      "column VIX_high, data: \n",
      " [33.25 33.46 34.88 ... 30.11 29.62 33.06]\n",
      "column days_after_crisis, data: \n",
      " [154.0 153.0 152.0 ... 3106.0 3105.0 3104.0]\n",
      "column VIX_DoD, data: \n",
      " [-0.6276150627615107 -4.071100917431192 2.1675454012888062 ...\n",
      " 1.6542876434841205 -10.405323653962494 -0.5714285714285672]\n",
      "column VIX_WoW, data: \n",
      " [2.909316001238005 17.899929527836523 15.57322730284958 ...\n",
      " -13.675458715596331 -13.23960164030462 0.5474452554744547]\n",
      "column VIX_MoM, data: \n",
      " [20.07945106536655 20.925189736176364 34.67181467181468 ...\n",
      " 14.573820395738204 7.905282331511843 24.192336589030816]\n",
      "column 10YBond, data: \n",
      " [3.804 3.747 3.707 ... 3.759 3.617 3.651]\n",
      "column 10YB_MoM, data: \n",
      " [21.45593869731799 20.4823151125402 19.196141479099676 ...\n",
      " 16.54729792577434 13.350047007207788 14.41554371670324]\n",
      "column 10YB_YoY, data: \n",
      " [154.87437185929647 145.9306904699396 139.76456891533533 ...\n",
      " 146.088379705401 144.29285424827776 149.50454452265424]\n",
      "column 10YB_30MA_Vector, data: \n",
      " [0.6479213007019924 0.6179708244041349 0.5825396190366705 ...\n",
      " 0.5014737898433097 0.4018856550406013 0.4358524658353291]\n",
      "column 10YB_200MA_Vector, data: \n",
      " [0.2827495071744623 0.2914045220249184 0.2925993913932556 ...\n",
      " -0.0341489985753673 -0.0288768777817582 -0.0131606159168073]\n",
      "column 10Y_Val_to_30MA, data: \n",
      " [8.527602523659311 7.733920469709089 7.311123100440597 ...\n",
      " 5.152079453755432 1.920283844806938 3.222587418971967]\n",
      "column 10Y_Val_to_200MA, data: \n",
      " [22.51618033648791 21.559274085935414 20.943242514162392 ...\n",
      " -10.255781683626273 -8.10081558676939 -8.629604365620734]\n",
      "column Fed_Balance_MoM, data: \n",
      " [-0.345860846922863 -0.6311857194696957 -0.3912811435342278\n",
      " -0.3724393944153581 -0.192129460656687 -0.5223367403457413\n",
      " -0.6389922084778954 -0.5884082924113909 -0.5468065111520315\n",
      " -0.7189085629207836 -0.4338355753270795 -0.5368676983009579\n",
      " -0.555678350433908 -0.5182743851723459 -0.1880536208556216\n",
      " -0.1429736058330299 -0.1937841738463674 -0.4367842991453541\n",
      " -0.2641931898537009 -0.4963094108958787 -0.3932352742998746\n",
      " -0.3717581573638551 -0.4092172110133685 -0.2510244718304744\n",
      " -0.2960557077652193 -0.2602228815317908 -0.0167918295466695\n",
      " -0.0081666709855765 0.2250882600627113 -0.1291318099088556\n",
      " -0.150661230432092 -0.1072242386721211 -0.2656450318541448\n",
      " -0.2429314096285773 -0.2787704480506248 -0.2701472469736954\n",
      " -0.2787498074491856 -0.4641658285739702 -0.1111340508009761\n",
      " -0.2184934293028351 -0.2618820371944053 0.0494092816051505\n",
      " 0.0266290965172721 0.0316656040600049 0.023016306555279\n",
      " -0.2596939193352243 -0.0738970065631394 0.0172542685050069\n",
      " 0.1248672984818677 0.6143030865646715 0.3012541708058647 0.37213956384754\n",
      " 0.3670859137364424 0.1009506023042394 0.384683061815072\n",
      " 0.5772731399378728 0.4856114885894769 0.8593931364565988\n",
      " 0.3687651138898351 0.4230373874801296 0.3521160490830288\n",
      " 0.4962482302041104 0.7634345072532689 0.679929281490832\n",
      " 0.4871426325752104 1.3968037879548143 1.021030513600052\n",
      " 1.2809898923317409 1.2262539499032554 1.3217416922258307\n",
      " 1.176425584587304 0.7962008965365364 0.8798025594690673\n",
      " 1.2695242687114083 0.361004976094792 1.428283884954329 1.1679464446056054\n",
      " 1.3331056753200563 1.2376072233406088 0.8718152091318654\n",
      " 1.252325130437093 1.33170489350396 0.9417438907569632 1.0798538216671982\n",
      " 0.0162412674329592 1.0455317636848482 0.8808412394775367\n",
      " 1.1012039132879403 1.4678277610069346 1.364025423169779\n",
      " 1.2846203413145796 2.287811896367176 2.1480514782438176\n",
      " 2.3521295760696503 1.3095295480924474 1.502015688718994\n",
      " 1.2807793956922886 0.7816063089175929 0.8848122175441953\n",
      " 1.3750285544523069 0.3807891562913834 1.4792791080962209\n",
      " 1.2769413713544786 1.3756931375119352 1.1834465521315618\n",
      " 1.382953968459133 1.8851055408765085 1.7647500215160816\n",
      " 1.2726491196147771 2.3205439062030875 1.2129474556563655\n",
      " 1.4843948560018916 1.3855372016738698 1.5532496427343334\n",
      " 1.3534071084342123 1.1190178301638376 1.2386096525344836\n",
      " 1.7185198443581573 0.6767905632658611 1.968269547689228\n",
      " 1.6955278939036589 1.9375892487557111 1.769242081246314\n",
      " 1.4753000668358052 1.710515191105344 2.1858554359068583\n",
      " 1.7037403445847588 3.135233246821967 1.828974085195445 2.042289133048447\n",
      " 1.799979157486109 2.2142353661479097 2.5103178436096 2.2600611418848398\n",
      " 1.7843757127298243 2.9830679726608134 1.5536870888199328\n",
      " 1.8160329587685096 1.603190889785866 1.988712963769768 1.575370757497585\n",
      " 1.0560484483466803 1.30335862097537 1.66530563431464 0.4819517357910197\n",
      " 1.579749177636902 1.318012131979707 1.5801559320940628 1.1961782226737716\n",
      " 0.7945984919986993 1.3125772220453191 1.6564879523067957\n",
      " 1.2945723315221924 2.8127412218180714 1.7016185303739384 2.00274587285465\n",
      " 1.739511511971381 1.302708221263171 1.706312331927684 2.146504843860364\n",
      " 1.8009363535246736 3.376423045527388 1.8499306323041864 2.284606451463156\n",
      " 1.9826470144514552 2.060763335109628 2.500835254802003 2.362378559400735\n",
      " 1.921255756282392 3.046563606495156 1.476104068084294 1.4644689452717907\n",
      " 1.03327843983394 0.641650791874504 0.5646206462248005 0.0119799477015236\n",
      " 0.1472574631224965 0.7110267688335892 -0.3887761266684331\n",
      " 1.2607249990266078 1.2723367581349176 1.5561971385190665\n",
      " 1.9513835678763412 2.0352166153027484 2.5990372037336678\n",
      " 2.222245232691056 1.6500162914119487 2.608559195932436 0.93710233147426\n",
      " 1.1900698556013944 0.9072328399426732 1.0649977764735974\n",
      " 0.9819618695309228 0.546378042332285 0.916992754203716 1.2816185191596663\n",
      " 0.3354715549038767 1.4243533495442715 1.170800134395367 1.436339953535426\n",
      " 1.2779953427722202 0.7492428269991303 1.1857054985781268\n",
      " 1.5965800714136558 1.2308204077443818 2.0085544575696224\n",
      " 0.9134007377955776 0.8144932691052542 0.5505813187959507\n",
      " 0.9400153181111648 1.469769046715097 1.1771255593464591\n",
      " 0.7679473348855437 1.5408039668393323 0.7666361422723256\n",
      " 0.9413213688748144 1.0403532665623991 0.9851731867114744\n",
      " 0.5955649650195793 0.368469529796811 0.6587740703011047 0.747750554565263\n",
      " -0.0190699168971297 0.5282834897429645 0.3543130508461889\n",
      " -0.9102958465067924 -0.8561514843687612 -1.881732803825653\n",
      " -1.6597287153244822 -1.8314401333955344 -1.9181387770290212\n",
      " -2.933936082007149 -3.462438498544273 -3.412332103828819\n",
      " -2.179654852044255 -1.24379413288066 -0.2115447586101604\n",
      " 0.6400788488925668 0.816113321410139 2.314071921787386 3.384789681676126\n",
      " 6.658057374780935 6.602726804752557 7.651644120602841 6.63148600293062\n",
      " 7.974580169952361 7.060891483152032 10.511665800602298 8.893687969023322\n",
      " 13.990897136857416 10.492589272548503 15.655101936521175\n",
      " 14.528201924183804 26.67637684949293 25.100651316888836\n",
      " 40.806287289437584 36.40955038031692 47.68131809770657 41.077610368117526\n",
      " 43.4193318553995 37.01750344865633 39.74787893244831 26.3461562045449\n",
      " 25.954448804646702 11.905397727953735 11.6079153864894 3.089447960391034\n",
      " 3.484862266533262 1.7951826226322076 2.1648605487483152\n",
      " 0.1687770827361712 0.3069288494304656 0.6188746890913199\n",
      " -0.1024941029969972 0.1637750398122639 0.7987624664300474\n",
      " 0.4136117125158822 -0.1657791091008165 -0.527023743862054\n",
      " -0.3351505224588824 -0.4724179594204014 0.2141621618485745\n",
      " 0.9378175570430304 1.962133478012773 1.3198173308157646\n",
      " 2.0623283196776088 2.6546500279410967 2.9793911729327998\n",
      " 2.781136847299748 3.358154793909751 2.650034774526344 2.2028804199331957\n",
      " 1.1761459449657783 1.3875180315702007 0.6499163374752426\n",
      " 1.141169648514384 0.822225257181719 2.1209716027918546 1.5508604832816797\n",
      " 1.607928054938501 2.052479395412199 2.479192800930652 2.2655447973457976\n",
      " 2.3724280132626063 1.8751943506957192 4.202176677126235 2.876962139504857\n",
      " 3.225353376535711 3.167377386242598 5.220558918505658 4.78243073072917\n",
      " 5.009879016607166 4.9002421369301885 4.943821001684601 2.600276706101634\n",
      " 2.466196672072796 2.120367630614206 1.5498341529279536\n",
      " -0.4317200816266631 -0.3138930325531142 -0.5298101859479099\n",
      " -0.4655603368207583 -0.5068929073626438 -1.1434397739307325\n",
      " -1.0140830554267288 -1.135576440806596 -0.5801303008579062\n",
      " -0.7606739434836585 -0.8779729061676456 -0.8301430977358137\n",
      " -0.8941576073416613 -1.2468586817713012 -0.6109777394633698\n",
      " -1.055666781824005 -0.9340751963571424 -1.0868958208602453\n",
      " -0.9069456655986908 -0.8474534423004165 -0.8952749019205286\n",
      " -0.993030146615137 -0.6394225126991282 -0.8708345044017074\n",
      " -0.4253147637507171 -0.5364643344237918 -0.3827932939500122\n",
      " -1.0857824951133188 -1.1451317193084898 -1.0809599014420468\n",
      " -0.9832914748240884 -1.9557958420914237 -1.726916637412934\n",
      " -1.815746216707903 -1.706026231571223 -1.8297930493519576\n",
      " -1.132091575255334 -1.1000610086268403 -1.1642204350186924\n",
      " -1.6666426501858012 -0.6912701608876692 -0.8699770967015796\n",
      " -0.7802918580742446 -1.0004131878690423 -0.8756007401627408\n",
      " -0.8150392503755266 -0.8471621265495166 -0.9832712304917002\n",
      " -0.477357412965862 -0.6480853564808542 -0.4689784046897793\n",
      " -1.630485913746571 -1.4117655235996396 -1.3608106597787106\n",
      " -1.421038906205374 -1.7462777973888066 -1.6112175277336438\n",
      " -1.7904884839631374 -1.6217236645340805 -1.694401344775509\n",
      " -0.5336485233246813 -0.6934934820437944 -0.7447930674317149\n",
      " -0.7891822792258418 -0.4607752161084999 -0.8822672093386164\n",
      " -0.7013383923392569 -0.9113492385672496 -0.8380926451065696\n",
      " -0.9360826981489212 -0.7766282139776925 -0.7215047121372109\n",
      " -0.6770852198361044 -0.9467998642965768 -0.5255822921675257\n",
      " -0.7442894862839 -0.5339245696383887 -1.4862422851342982\n",
      " -1.388796427885719 -1.294611988210348 -1.3494172773311774\n",
      " -1.296871704948943 -1.028110280595529 -1.818804860690093\n",
      " -1.6024653312788906 -1.658457563575244 -0.7078046273380156\n",
      " -0.7425113229744706 -0.837222575753438 -0.78491792471993\n",
      " -0.8377360406869538 -1.268284143538534 -0.4731559878833558\n",
      " -0.8314759845334918 -0.7750128978704862 -0.8398855137678907\n",
      " -0.8052128663070257 -0.7506244511103266 -0.802947181130742\n",
      " -1.0479000045983344 -0.6163908531911289 -0.8491498097104255\n",
      " -0.4908936728892143 -0.4933879161696963 -0.4282886143141873\n",
      " -1.1089165647024557 -1.163307914692946 -1.1081025638133513\n",
      " -0.8632987698950045 -1.373805106084347 -1.1422777902326042\n",
      " -1.4632486837705572 -1.4607787511228263 -1.4512720331674056\n",
      " -0.7730003791479367 -0.7397609751958356 -0.795171948853135\n",
      " -1.1575450976439194 -0.6459193620425685 -0.8854476567554004\n",
      " -0.5625946501027879 -0.7697508338909587 -0.779323296275114\n",
      " -0.6480380237873229 -0.6813081431221724 -0.8724398437072178\n",
      " -0.5090214508590263 -0.7334054058042105 -0.4935096734121069\n",
      " -0.5005753169545657 -0.2928571939056712 -0.7640986304689013\n",
      " -0.8952305386137005 -0.847954686374075 -0.6567757750057468\n",
      " -1.0374613013007905 -0.8137646396453091 -1.1081412425217765\n",
      " -1.101118743392182 -1.0510565998826604 -0.5811778403735257\n",
      " -0.636031430171291 -0.6834083277551084 -0.8212061478102717\n",
      " -0.439688738986721 -0.6438211932958571 -0.3480624244811992\n",
      " -0.4845416356383025 -0.5348904012426825 -0.2823641061605375\n",
      " -0.2273152753453855 -0.1660900063527148 -0.0273819758314752\n",
      " -0.4411491366061781 -0.2366002819800261 -0.7585578179077901\n",
      " -0.6224544027628398 -0.3050843240223089 -0.5575530821162467\n",
      " -0.523349682353802 -0.5843558542504623 -1.0788691732654954\n",
      " -0.6677523806564611 -0.6191507598873214 -0.0964600165121898\n",
      " -0.251885826153575 -0.5694252576774694 -0.5169769998906282\n",
      " -0.5511825907944634 -0.6621065124935988 -0.1655097691899643\n",
      " -0.138348319381576 -0.1871850737610425 -0.3050041704789397\n",
      " -0.1496611289353966 0.2008948090079565 0.1480680833724657\n",
      " 0.1154870733782287 0.227279281357684 -0.0434771374293263\n",
      " -0.0706643913256921 -0.0184115735286094 0.0997462170286178\n",
      " -0.1306702265668313 -0.480066173950644 -0.4205447759334957\n",
      " -0.3881382090703877 -0.5049183870317719 -0.2354118934786986\n",
      " -0.4274985273136633 -0.4795375462864237 -0.2494946085977667\n",
      " -0.0193523141488238 -0.0419242842941813 -0.1016719942642185\n",
      " 0.0050721991641689 0.1224509674322193 0.0569912904927472\n",
      " 0.2500125600640279 -0.032452326838539 -0.2629958037866586\n",
      " 0.1334014748935352 0.1560130361151657 0.1810725098599475\n",
      " 0.0741404558481262 -0.1831608098593173 -0.1178582461680344\n",
      " -0.0962384975949359 0.1860461572830596 0.0467881218585652\n",
      " -0.349266281248306 -0.2993611152029896 -0.3243004124162785\n",
      " -0.289432878177509 -0.0324055535997236 -0.2918535425047164\n",
      " -0.3134309588570527 -0.0857679782533038 0.0533055484784883\n",
      " 0.0405392821390737 -0.0095360210884853 0.0783940840808572\n",
      " 0.0433979253685601 -0.2005472640485339 0.0591383105619458\n",
      " 0.0141635813218465 -0.2137271017447761 0.0954409949886159\n",
      " 0.1082142673867192 0.1649807597186914 0.0769745784335862\n",
      " -0.1678650959593408 0.0761599802453716 0.1600364262516196\n",
      " 0.2050767521179164 0.0628149268832034 -0.2462523966353602\n",
      " -0.1968802432252614 -0.2534416580970977 -0.2288070490825577\n",
      " 0.0158831643379597 -0.1879324086290879 -0.271517457085646\n",
      " -0.3876470289165379 -0.2460256367945335 -0.0262591309143966\n",
      " -0.0757156898195443 0.0364236943738882 0.0117235969606444\n",
      " -0.1807408095509055 0.0230894486132449 0.2168661598178189\n",
      " 0.3337004821709177 0.5527552557939241 0.3317159359977006\n",
      " 0.3727216893247176 0.2602053199426191 0.0204981222735378\n",
      " 0.2133505434016358 0.5288824596895392 0.3345024419284303\n",
      " 0.2993782196454519 0.0808754293982527 0.1337934264521223 0.09288528364364\n",
      " 0.1163303044036112 0.3562671716330179 0.178086325238902\n",
      " -0.1363445405466956 0.0486691885406731 0.0837056140706282\n",
      " 0.0704003794209873 0.0175158838750855 0.0545889418978262\n",
      " 0.0311583795935321 -0.3636311561483807 -0.1864138306487017\n",
      " -0.2284737572783357 -0.4129749832978202 0.087465365648387\n",
      " 0.1007728692371534 0.1528009649356176 0.1156915165776872\n",
      " -0.3209068422954764 0.0740519801459171 0.3470425156271384\n",
      " 0.389345058292867 0.3565811397173712 -0.1452047962250846\n",
      " -0.1003573476107688 -0.1522539308124848 -0.1800272364438471\n",
      " 0.2571881806585407 -0.0358151597512845 -0.3077641446377344\n",
      " -0.0911905651751143 -0.0585728328836965 -0.0968738668616686\n",
      " -0.1417228792976232 0.0243710582340295 0.0522012344109423\n",
      " -0.418195085570594 -0.1263125325282721 -0.3180312542186092\n",
      " -0.5341131082741035 -0.0380320734162498 0.0002915194306618\n",
      " 0.0336480774497882 -0.1324612648940459 -0.4881265311231564\n",
      " -0.0180605475385786 0.1467823850391125 0.339395084625993\n",
      " 0.2843186812768739 -0.2133620829509741 nan]\n",
      "column Fed_Balance_YoY, data: \n",
      " [4.114426867200582 4.365788701466067 3.851410818410361 4.039365244791893\n",
      " 4.544910087503862 4.422312360260716 5.5650296255471465 5.609206498642982\n",
      " 5.712182511968544 6.015721557093134 6.224756961783173 6.204667538648434\n",
      " 6.079209378181716 6.431329904665195 7.5326029206898015 7.477886764685038\n",
      " 7.766136377904598 7.952947108058428 8.131523390029983 8.24353494805614\n",
      " 7.993211601680961 7.952607417241375 8.464344556967852 8.415378806047702\n",
      " 9.806128178698014 10.07412778797332 10.336132352562544 10.593517841828914\n",
      " 10.27408850590814 10.250316436361896 10.765567119202668\n",
      " 10.589903074765594 12.146469832037845 12.10617973833319\n",
      " 12.341023851321054 12.331333468503036 12.78844507797201\n",
      " 13.188480960622597 12.912155840241478 12.863057551146472\n",
      " 14.192221016279216 14.166220663563234 14.461148768463318\n",
      " 14.451251817108446 14.885524437723774 15.099533965080417\n",
      " 14.511066944825624 14.634274515058788 15.043851589815826\n",
      " 14.685906924891531 15.938887117483436 15.933049695143865\n",
      " 16.23300751672392 16.562465697696503 16.09990748251664 15.994099192939748\n",
      " 16.387847101178576 15.821681298487311 17.55757759896863\n",
      " 17.474555406462432 17.822384685778037 18.135635427687703\n",
      " 17.628437844980137 17.403197397244917 17.911327199479388\n",
      " 17.474351635654696 19.292402473722568 19.227932506743617\n",
      " 19.73677427921472 19.565047247199207 19.65663127491077 19.755876020908246\n",
      " 19.594111457648623 18.521196794256788 19.829783822345547\n",
      " 19.52221498648481 19.508510719229367 19.395883382921085\n",
      " 18.933078159658567 19.38171900266603 18.72567121810136 18.268771950012685\n",
      " 18.934554569912333 17.68306596372582 19.631825774460143\n",
      " 19.436842109623285 19.771616525998105 20.2059449929068 20.304788484136303\n",
      " 20.21054586169435 19.76907613888015 19.605430286563184 20.733289786502997\n",
      " 19.503451855132603 19.802950172819237 19.541824712304432\n",
      " 19.72872418281557 19.8513329823828 19.334356471441417 18.163980290542423\n",
      " 18.59092158682758 18.354465249308326 19.638896572819363 19.41201605902993\n",
      " 19.725433024254517 20.31843522135153 19.69027630981448 19.11149345122718\n",
      " 19.5951574603916 18.30056727499212 19.209444422414347 19.09332049945982\n",
      " 18.97659448703326 18.74246525681824 19.20235671171595 19.343335405693907\n",
      " 18.99914372973526 17.780438496530348 18.683775275873018 18.36632349121645\n",
      " 18.57151886969444 18.375701217971383 18.31105397125816 18.585293606361297\n",
      " 18.31758618932038 17.759361240991247 17.86345364673718 16.37065422892292\n",
      " 17.007734459844915 16.72988748563009 15.25892276260372 15.59279159485465\n",
      " 14.397056211384385 13.86491284895788 13.66609393786058 12.088435153614885\n",
      " 10.92757697934532 10.69568761668398 10.75314257753812 10.304279688947314\n",
      " 11.359575929830369 11.632101487379163 12.584802205631808\n",
      " 11.27434861703238 12.927699078787017 12.636722160956085\n",
      " 16.202915455365098 15.763663035489529 16.902719364945142\n",
      " 17.50347697519008 18.983511066863667 18.559908086490218\n",
      " 22.381317382045253 21.05871225415903 26.72535454956575 26.39831955234968\n",
      " 32.30399096153611 32.83110850406781 46.92069966606258 46.42365706572815\n",
      " 64.80626843853707 62.37268144634391 75.78982961383016 75.27087177819764\n",
      " 78.1801609663735 78.94844921863857 82.51439113344108 81.72785939239226\n",
      " 81.16445367092007 78.40345481437446 77.92919817849236 77.17305781041813\n",
      " 77.85263038653787 77.71650370424415 78.3618964117708 78.6031510515147\n",
      " 78.84947871541894 76.89637406679157 75.62814756277166 75.64828717506616\n",
      " 76.76180804445019 77.44964265953078 76.42575065422727 77.4006343644591\n",
      " 77.74282208694996 76.74783722165715 77.96711281366538 75.0680919650031\n",
      " 76.84468113835435 76.35038143167694 77.64274554713386 77.49679267707177\n",
      " 78.05829195324307 78.71461616753538 79.7179280982391 78.0390492001859\n",
      " 77.26349236464898 76.82034703580787 77.18975116123683 76.91315362043727\n",
      " 77.77663344878619 78.54679173685011 80.84675082520725 80.1956812054325\n",
      " 80.29694405934143 78.3612939562649 79.10707843507079 78.63821233406456\n",
      " 78.82491672856744 79.76342625925945 83.86949269191737 83.12589188159312\n",
      " 83.74604487482102 82.34512750686336 85.97406194118165 86.15651808525567\n",
      " 86.56060282205966 85.84083830208522 85.9180424399712 86.4557895246368\n",
      " 86.21212547803827 84.79481075820495 83.76238570445254 83.4443734815841\n",
      " 83.6614577700161 83.76181363004467 83.88050917916479 84.2965603997987\n",
      " 83.11744959031782 82.95572740017185 82.73117110587667 81.73624186276132\n",
      " 81.40621404033197 83.72136791298016 83.81001983112337 85.73129430992043\n",
      " 85.07030777797841 85.39402328358005 84.56452834743664 86.49599793549247\n",
      " 86.20830633085322 86.11170779918207 86.22344317108256 84.45870136148214\n",
      " 84.27675438095426 82.71739119145963 82.29184016827121 79.62294404646109\n",
      " 79.42244114688948 73.91608096670703 72.68877164062837 71.00615690393339\n",
      " 71.11716586227543 68.98864202837707 67.32890000262202 62.10398309893432\n",
      " 61.95745641911508 54.7153778637768 54.52056805758203 47.62321224634118\n",
      " 47.67103823164933 33.50949013202613 32.830807431558725 18.01476229877665\n",
      " 17.802393692457862 8.81113308239636 8.569732943662679 6.79702857240696\n",
      " 6.862277766384306 4.774416787137947 4.630590828236381 4.9559828812531626\n",
      " 4.775934214426014 5.055206433885395 3.8292327707735385 3.4325026294356187\n",
      " 3.485961230394774 3.1115029741577427 2.7713099905487537 2.629764055451944\n",
      " 2.442765746523645 3.182514086797017 3.1062872403361474 2.456763432693565\n",
      " 2.292112805840807 2.885768075092132 2.8397551928381226 2.641769692226803\n",
      " 2.2071401862187923 1.5069059160337297 1.292224762589389\n",
      " 0.2746387730108157 0.1755491383489626 -0.5532353923891398\n",
      " -0.4979877847619884 -0.8117631626091137 -1.0811120846828448\n",
      " -1.6333469199471873 -1.849618552247112 -1.4201945449293985\n",
      " -2.364026848745693 -2.5675777371914177 -2.47451916205369\n",
      " -2.948210691811748 -2.8965167060371777 -4.131452019466964\n",
      " -4.897353746761979 -4.950767660259714 -5.004854571224248\n",
      " -5.400405130374097 -5.433471569625937 -5.532204938296436\n",
      " -5.48237671461258 -7.593089234590044 -7.994306578082188\n",
      " -8.304830846555456 -8.63495497567881 -10.41777218427783 -10.4763404303018\n",
      " -10.670246023807284 -10.621086487904464 -10.658201884948928\n",
      " -10.878818577482264 -10.762200888664708 -10.971198098381151\n",
      " -10.471011048477374 -10.473255135348849 -10.579074015044965\n",
      " -11.19031570937734 -11.247642689224824 -11.198069955421651\n",
      " -10.626265816315383 -11.086497567256648 -10.977232757655376\n",
      " -11.266271555113873 -11.104840485458269 -11.09626419270503\n",
      " -11.13914263163156 -11.109375713908742 -10.79189904153236\n",
      " -11.11775637203748 -10.718289737453867 -10.933535006404227\n",
      " -10.79592742735228 -10.981764690377084 -11.035176255853884\n",
      " -10.917461163444733 -10.82950487718649 -11.001107100858489\n",
      " -10.793343714955384 -10.994533236222248 -10.895070459716772\n",
      " -10.901397521076706 -10.268168477149509 -10.692264043447231\n",
      " -10.750200713274982 -10.707625967917844 -9.821931352354351\n",
      " -10.167495791109117 -10.086222234012045 -10.353078944062377\n",
      " -10.240057748655184 -10.194621692622007 -10.22370681828344\n",
      " -10.273240215006297 -9.814792353304892 -9.939920741278051\n",
      " -9.77756467263088 -9.962551309613554 -9.762356909058434 -9.88594268817482\n",
      " -9.940965561807367 -9.71231981459918 -9.588209723306829\n",
      " -9.532728744769711 -9.377268316732302 -9.7523381221581 -8.686730165062585\n",
      " -9.164477008647165 -9.21140066784476 -8.921460070644205\n",
      " -8.619972425462219 -8.588542108627639 -8.421680271993392\n",
      " -8.877209170162814 -8.809841765404268 -8.765223933888166\n",
      " -8.618371330515217 -8.760539101793906 -8.719716459194672\n",
      " -8.67156736768625 -8.28319888885838 -8.385498619815312 -8.191328663783414\n",
      " -8.166350756722363 -8.075512594801094 -8.184020305763251\n",
      " -8.235000312168317 -7.91283049382171 -7.6620838430451315\n",
      " -7.692123988868538 -7.488726154600378 -7.738638367955886\n",
      " -6.846761627325659 -6.798052015055678 -6.8869850857262165\n",
      " -7.101318993251615 -7.150774511545455 -7.095242765357379\n",
      " -6.3470415654615975 -6.456835810403538 -6.403575606737055\n",
      " -6.583786064595055 -6.5511218480429285 -6.335113462191789\n",
      " -6.38449213630039 -6.40562709088961 -5.997481852613951 -5.897037499037738\n",
      " -5.557020608165653 -5.618767068229857 -5.557020896357945\n",
      " -5.823123859639545 -5.874922335833944 -5.500829240273997\n",
      " -5.266899503623468 -5.2431968663809725 -5.020753038837833\n",
      " -5.264954791135967 -5.262580152456287 -5.242073992279861\n",
      " -4.5898929187063615 -4.722512425927194 -4.775700070909405\n",
      " -4.728011666397269 -4.234867286671628 -4.201367706958836\n",
      " -3.889315886738676 -4.138753955580454 -4.14800141973145\n",
      " -3.9290957847646912 -3.961267172065652 -3.973521200410457\n",
      " -3.6214718960475234 -3.5367180727825964 -3.303597053959728\n",
      " -3.539380951965876 -3.338006734972976 -3.381454510441617\n",
      " -3.509127802640999 -3.2101698553908653 -3.023545622879664\n",
      " -2.968554999042583 -2.749223415518776 -2.987148758223268\n",
      " -2.980259690994025 -2.8989449102193143 -2.4378412162857965\n",
      " -2.5763508730045404 -2.622802623205001 -2.574606720363859\n",
      " -2.199834229653208 -2.175680325144036 -1.884481522063508\n",
      " -2.08442447095174 -2.133963793207372 -2.247924625576314\n",
      " -2.1939608767280627 -1.97848583817134 -1.8422959285608664\n",
      " -1.732139077657191 -1.5302426292358784 -1.719739647486196\n",
      " -1.5849544329508358 -1.3942930169902 -1.6440034482010255\n",
      " -1.4292665207720434 -1.489717119896683 -1.4494557895459392\n",
      " -1.039879157060375 -1.276478046645313 -0.7572444973954373\n",
      " -0.4447685982100657 -0.7616940042328602 -0.7964344796819511\n",
      " -0.830543983756693 -0.7781079018500892 -0.2820910572150392\n",
      " -0.2587338681532936 -0.3075117486870171 -0.4845140668917724\n",
      " -0.329450734606096 -0.1447947662767235 -0.1974392415602044\n",
      " -0.2107071005126526 -0.0992791315534979 -0.0622493654316325\n",
      " -0.0894315134548295 -0.4837451212092669 -0.3661372597413059\n",
      " -0.4081214536522548 -0.756546729313734 -0.2578328820321274\n",
      " -0.2253733631433441 -0.1735147842917728 0.0968893960763495\n",
      " -0.339626967908424 -0.3917119107023192 -0.1199919256930193\n",
      " 0.1104491546564334 0.0777762589148078 0.0179570006152429\n",
      " 0.0628777295390792 0.1803243457852987 0.1524585313243731\n",
      " 0.3456639680167184 0.0524020556111004 -0.178337111086535\n",
      " 0.0385176384761765 0.061107773563851 0.0227608738112561\n",
      " -0.0840022002925544 0.0821877438509588 0.147663904912898\n",
      " -0.32318123366879 -0.0415378204314254 -0.2334192766702325\n",
      " -0.6283644250368425 -0.1327534638114524 -0.1577344365624622\n",
      " -0.1244305904093523 0.1330220661848624 -0.2235886844411116\n",
      " -0.2451808737013339 -0.0807124005591908 0.0583681631783017\n",
      " 0.0034460158127469 -0.0466107203761834 0.0011865336047689\n",
      " -0.0337826265958574 0.0176055628202664 0.2778587872589444\n",
      " -0.0908284874735931 -0.3184799372814795 -0.1229819225518014\n",
      " -0.110236523305518 -0.0745536677921654 -0.1623493911897866\n",
      " -0.0701894690273041 0.1740743609847772 -0.1729581533638113\n",
      " -0.1280675696992084 0.0771773135364028 -0.2319343715604715\n",
      " -0.0246217017785377 -0.0812807407211568 -0.0331510808395441\n",
      " 0.2120189815154161 0.2183536791619866 0.1344283968724324\n",
      " -0.1482651767279352 -0.0063034493950397 -0.1105749338325634\n",
      " -0.1599897820901197 -0.1345462748505221 -0.1592041578908576\n",
      " -0.1010801925954263 0.1029127320145706 -0.2418860385142385\n",
      " -0.1255865363393615 -0.3386203924725217 -0.5577002526152119\n",
      " -0.2104115703839504 -0.3222742558154245 -0.2949469532706916\n",
      " -0.10270275093468 -0.3254276733045347 -0.5181558193372293\n",
      " -0.3734898858377189 -0.5905268289268739 -0.4740595074895992\n",
      " -0.514719321199808 -0.4570072245413392 -0.2184444069813773\n",
      " -0.4698209005487119 -0.7822181675960382 -0.6457492357195505\n",
      " -0.6109559912294227 -0.6696419615547677 -0.7221353647723139\n",
      " -0.6605114982842664 -0.6837745999493716 -0.6583824686565043\n",
      " -0.4816893999106231 -0.625595922331823 -0.8093627752381427\n",
      " -1.0926106722023543 -1.0794600700402834 -0.7467782996768646\n",
      " -0.783554428447697 -0.7831342621908322 -0.3900069250858173\n",
      " -0.610115860632765 -0.5682168199740101 -0.4147369260420697\n",
      " -0.9126662483659452 -0.7101541010740897 -0.7617339026826819\n",
      " -0.7092789325041648 -0.2743816587015502 -0.2525302160690135\n",
      " -0.523889635405872 -0.7374650663591553 -0.7050583265596377\n",
      " -0.8220147230238894 -0.8665382015898393 -0.8155329685578194\n",
      " -0.7879364821985924 -0.7799143704674605 -0.4890920467356063\n",
      " -0.7551031107848938 -0.9702375186943056 -1.0434869860483589\n",
      " -1.0055488662518153 -0.5968991470481022 -0.7619614438548528\n",
      " -0.7160616675189302 -0.2470723851394352 -0.5436817562886276\n",
      " -0.3523970290944866 -0.1375726997294268 -0.6331597445434989 nan]\n"
     ]
    }
   ],
   "source": [
    "categoric_columns = df.select_dtypes(include='object').columns\n",
    "for col in categoric_columns:\n",
    "    if col == \"stock\":\n",
    "        continue\n",
    "    print(f\"column {col}, data: \\n {df[col].unique()}\")"
   ]
  },
  {
   "cell_type": "code",
   "execution_count": 37,
   "metadata": {},
   "outputs": [
    {
     "data": {
      "text/plain": [
       "industry\n",
       "Automobiles & Components                           5\n",
       "Banks                                             18\n",
       "Capital Goods                                     48\n",
       "Commercial & Professional Services                 9\n",
       "Consumer Durables & Apparel                       13\n",
       "Consumer Services                                 15\n",
       "Diversified Financials                            26\n",
       "Energy                                            23\n",
       "Food & Staples Retailing                           4\n",
       "Food, Beverage & Tobacco                          22\n",
       "Health Care Equipment & Services                  36\n",
       "Household & Personal Products                      6\n",
       "Insurance                                         23\n",
       "Materials                                         29\n",
       "Media & Entertainment                             20\n",
       "Pharmaceuticals, Biotechnology & Life Sciences    27\n",
       "Real Estate                                       29\n",
       "Retailing                                         22\n",
       "Semiconductors & Semiconductor Equipment          21\n",
       "Software & Services                               34\n",
       "Technology Hardware & Equipment                   17\n",
       "Telecommunication Services                         4\n",
       "Transportation                                    14\n",
       "Utilities                                         29\n",
       "Name: stock, dtype: int64"
      ]
     },
     "execution_count": 37,
     "metadata": {},
     "output_type": "execute_result"
    }
   ],
   "source": [
    "#Number of stocks per industry\n",
    "df[['sector','industry','stock']].groupby('industry').stock.nunique()"
   ]
  },
  {
   "cell_type": "code",
   "execution_count": 38,
   "metadata": {},
   "outputs": [
    {
     "data": {
      "text/plain": [
       "sector\n",
       "Communication Services    24\n",
       "Consumer Discretionary    55\n",
       "Consumer Staples          32\n",
       "Energy                    23\n",
       "Financials                67\n",
       "Health Care               63\n",
       "Industrials               71\n",
       "Information Technology    72\n",
       "Materials                 29\n",
       "Real Estate               29\n",
       "Utilities                 29\n",
       "Name: stock, dtype: int64"
      ]
     },
     "execution_count": 38,
     "metadata": {},
     "output_type": "execute_result"
    }
   ],
   "source": [
    "#Number of stocks per sector\n",
    "df[['sector','industry','stock']].groupby('sector').stock.nunique()"
   ]
  },
  {
   "cell_type": "markdown",
   "metadata": {},
   "source": [
    "We can drop \"Stocks\" and \"Industry\" columns as there are too many unique values that block us from generalizing the data. "
   ]
  },
  {
   "cell_type": "code",
   "execution_count": 39,
   "metadata": {},
   "outputs": [],
   "source": [
    "#df.drop([\"industry\", \"stock\"], axis = 1, inplace = True)\n",
    "#df.drop([\"industry\"], axis = 1, inplace = True)"
   ]
  },
  {
   "cell_type": "markdown",
   "metadata": {},
   "source": [
    "Let's also check if there are any infinite numbers that can cause same trublesas nan"
   ]
  },
  {
   "cell_type": "code",
   "execution_count": 40,
   "metadata": {},
   "outputs": [
    {
     "name": "stdout",
     "output_type": "stream",
     "text": [
      "EPS_YoY_Growth                36\n",
      "EPS_QoQ_frcst_diff           101\n",
      "EPS_1Y_exp_Change            206\n",
      "future_15dprice_change        11\n",
      "future_30dprice_change        22\n",
      "future_60dprice_change        44\n",
      "future_90dprice_change        66\n",
      "future_120dprice_change     9563\n",
      "future_150dprice_change    19529\n",
      "Fed_Balance_MoM             1406\n",
      "Fed_Balance_YoY             1406\n",
      "dtype: int64\n"
     ]
    }
   ],
   "source": [
    "df.replace([np.inf, -np.inf], np.nan, inplace = True)\n",
    "\n",
    "check_null_cols(df) "
   ]
  },
  {
   "cell_type": "code",
   "execution_count": 41,
   "metadata": {},
   "outputs": [],
   "source": [
    "df = df[df.EPS_1Y_exp_Change.notnull() & df.EPS_YoY_Growth.notnull() & df.EPS_QoQ_frcst_diff.notnull()]"
   ]
  },
  {
   "cell_type": "code",
   "execution_count": 42,
   "metadata": {},
   "outputs": [
    {
     "name": "stdout",
     "output_type": "stream",
     "text": [
      "future_15dprice_change        11\n",
      "future_30dprice_change        22\n",
      "future_60dprice_change        44\n",
      "future_90dprice_change        66\n",
      "future_120dprice_change     9563\n",
      "future_150dprice_change    19529\n",
      "Fed_Balance_MoM             1406\n",
      "Fed_Balance_YoY             1406\n",
      "dtype: int64\n"
     ]
    }
   ],
   "source": [
    "check_null_cols(df)"
   ]
  },
  {
   "cell_type": "code",
   "execution_count": 49,
   "metadata": {},
   "outputs": [],
   "source": [
    "df = df[df['Fed_Balance_YoY'].notnull()]"
   ]
  },
  {
   "cell_type": "markdown",
   "metadata": {},
   "source": [
    "### Data Cleaning is Over!"
   ]
  },
  {
   "cell_type": "markdown",
   "metadata": {},
   "source": [
    "## Trimming the data to avoid overfitting"
   ]
  },
  {
   "cell_type": "markdown",
   "metadata": {},
   "source": [
    " Our dataset have the range of dates that are very close to each other. \n",
    "\n",
    "The changes in trading value are rarely very different between today and yesterday. \n",
    "\n",
    "There are exemptions but mostly these are connected with big surprises, and in any case we would notice the change even if we track every other day or every 4th day.\n",
    "\n",
    "It means that removing part of the dataset should help us in building more generalized model since we will be looking for trend but not for matching values.\n",
    "\n",
    "\n",
    "Let's do this, let's remove 4/5 of the dataset.\n",
    "\n",
    "That means we will keep only one day of data per week. It will help us to generalize the dataset"
   ]
  },
  {
   "cell_type": "code",
   "execution_count": 50,
   "metadata": {},
   "outputs": [
    {
     "name": "stdout",
     "output_type": "stream",
     "text": [
      "Old dataframe shape: (631727, 61)\n",
      "New dataframe shape: (126346, 61)\n"
     ]
    }
   ],
   "source": [
    "print(\"Old dataframe shape:\", df.shape)\n",
    "df_compact = df.iloc[::5, :]\n",
    "print(\"New dataframe shape:\", df_compact.shape)"
   ]
  },
  {
   "cell_type": "markdown",
   "metadata": {},
   "source": [
    "The final dataset is 131K rows long with 53 variables and 6 targets(price after 15 days, 30 days, 60 days, 90 days, 120 days and 150 days)\n",
    "\n",
    "We can remove the bigger dataset, but let's save it to the file before doing so."
   ]
  },
  {
   "cell_type": "code",
   "execution_count": 51,
   "metadata": {},
   "outputs": [],
   "source": [
    "os.chdir(\"C:/Users/oleg.kazanskyi/Personal-oleg.kazanskyi/Trading Python/ML_Part/EOD\")\n",
    "df.to_csv(\"full_cleaned_dataframe_2023.csv\", index = False, header = True)\n",
    "del df"
   ]
  },
  {
   "cell_type": "markdown",
   "metadata": {},
   "source": [
    "Lets' save the shorter version of the dataframe as well so we can get it faster when required"
   ]
  },
  {
   "cell_type": "code",
   "execution_count": 52,
   "metadata": {},
   "outputs": [],
   "source": [
    "df_compact.to_csv(\"shorter_cleaned_dataframe_2023.csv\", index = False, header = True)"
   ]
  }
 ],
 "metadata": {
  "kernelspec": {
   "display_name": "Python 3 (ipykernel)",
   "language": "python",
   "name": "python3"
  },
  "language_info": {
   "codemirror_mode": {
    "name": "ipython",
    "version": 3
   },
   "file_extension": ".py",
   "mimetype": "text/x-python",
   "name": "python",
   "nbconvert_exporter": "python",
   "pygments_lexer": "ipython3",
   "version": "3.9.12"
  }
 },
 "nbformat": 4,
 "nbformat_minor": 4
}
