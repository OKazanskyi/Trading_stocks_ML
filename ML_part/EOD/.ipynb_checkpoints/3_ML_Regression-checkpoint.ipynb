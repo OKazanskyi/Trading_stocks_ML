{
 "cells": [
  {
   "cell_type": "markdown",
   "metadata": {},
   "source": [
    "# ML Part Regression"
   ]
  },
  {
   "cell_type": "code",
   "execution_count": 1,
   "metadata": {},
   "outputs": [],
   "source": [
    "from jupyter_core.paths import jupyter_path\n",
    "import warnings\n",
    "warnings.filterwarnings('ignore')\n",
    "\n",
    "import numpy as np\n",
    "import pandas as pd\n",
    "import seaborn as sns\n",
    "import os\n",
    "import glob\n",
    "import matplotlib.pyplot as plt\n",
    "from datetime import date\n",
    "from datetime import datetime\n",
    "from datetime import timedelta"
   ]
  },
  {
   "cell_type": "code",
   "execution_count": 2,
   "metadata": {},
   "outputs": [],
   "source": [
    "from sklearn.model_selection import train_test_split\n",
    "from sklearn.preprocessing import LabelEncoder\n",
    "from sklearn.model_selection import TimeSeriesSplit\n",
    "from sklearn import metrics\n",
    "from sklearn.metrics import mean_absolute_error as mae\n",
    "from sklearn.metrics import accuracy_score, roc_auc_score\n",
    "from sklearn.metrics import confusion_matrix\n",
    "from sklearn.metrics import classification_report\n",
    "from sklearn.metrics import precision_score\n",
    "from sklearn.model_selection import GridSearchCV\n",
    "from sklearn.model_selection import KFold\n",
    "import lightgbm as lgb # Our ML library"
   ]
  },
  {
   "cell_type": "code",
   "execution_count": 3,
   "metadata": {},
   "outputs": [],
   "source": [
    "os.chdir(\"C:/Users/oleg.kazanskyi/Personal-oleg.kazanskyi/Trading Python/ML_Part/EOD\")\n",
    "df_compact = pd.read_csv(\"shorter_cleaned_dataframe_2023.csv\")"
   ]
  },
  {
   "cell_type": "code",
   "execution_count": 4,
   "metadata": {},
   "outputs": [
    {
     "name": "stdout",
     "output_type": "stream",
     "text": [
      "Train data size for 15 is 119117 rows\n",
      "Test data size for 15  is 6317 rows\n",
      "Train data size for 30 is 118216 rows\n",
      "Test data size for 30  is 6317 rows\n",
      "Train data size for 60 is 116330 rows\n",
      "Test data size for 60  is 6317 rows\n",
      "Train data size for 90 is 114530 rows\n",
      "Test data size for 90  is 6317 rows\n",
      "Train data size for 120 is 110662 rows\n",
      "Test data size for 120  is 6222 rows\n",
      "Train data size for 150 is 106969 rows\n",
      "Test data size for 150  is 6124 rows\n"
     ]
    }
   ],
   "source": [
    "#Let's take the top 5% as the test df\n",
    "y_vals = [\"future_15dprice_change\",\"future_30dprice_change\",\"future_60dprice_change\",\"future_90dprice_change\",\"future_120dprice_change\",\"future_150dprice_change\"]\n",
    "n_days = [15,30,60,90,120,150]\n",
    "\n",
    "test_dfs_list = []\n",
    "train_dfs_list = []\n",
    "\n",
    "for i, j in enumerate(y_vals):\n",
    "    n = 5\n",
    "    num_rows = int(len(df_compact[df_compact[j].notnull()])*(n/100))\n",
    "    df_test = df_compact[df_compact[j].notnull()].iloc[:num_rows]\n",
    "    df_train = df_compact[df_compact[j].notnull()].iloc[num_rows:]\n",
    "    \n",
    "    #Let's remove the data closest to the prediction date to make it close to a real world scenario\n",
    "    max_date = df_train.date.max()\n",
    "    max_date = datetime.strptime((df_train.date.max()), '%Y-%m-%d') - timedelta(days=n_days[i])\n",
    "    max_date = max_date.strftime('%Y-%m-%d')\n",
    "    df_train = df_train[df_train.date < max_date]\n",
    "    \n",
    "    #We can drop the date column as redundant now\n",
    "    df_train.drop('date',axis = 1, inplace = True)\n",
    "    df_test.drop('date',axis = 1, inplace = True)\n",
    "    \n",
    "    test_dfs_list.append(df_test)\n",
    "    train_dfs_list.append(df_train)\n",
    "    \n",
    "    \n",
    "    print(f\"Train data size for {n_days[i]} is {df_train.shape[0]} rows\")\n",
    "    print(f\"Test data size for {n_days[i]}  is {df_test.shape[0]} rows\")"
   ]
  },
  {
   "cell_type": "code",
   "execution_count": 5,
   "metadata": {},
   "outputs": [],
   "source": [
    "#For the simplicity of analysis we will work with one train dataframe but apply transformations to all the dataframes in the list\n",
    "df_train = train_dfs_list[0]\n",
    "\n",
    "cols_num = df_train.select_dtypes([np.number]).columns\n",
    "cols_str = df_train.select_dtypes('object').columns"
   ]
  },
  {
   "cell_type": "code",
   "execution_count": 21,
   "metadata": {},
   "outputs": [],
   "source": [
    "#df_compact_30 = df_compact.drop([\"future_15dprice_change\",\"future_60dprice_change\",\"future_90dprice_change\",\"future_120dprice_change\",\"future_150dprice_change\"],axis = 1)\n",
    "df_train_gen, df_test_gen = df_train.copy(), df_test.copy()\n",
    "df_train, df_test = train_dfs_list[1], test_dfs_list[1]"
   ]
  },
  {
   "cell_type": "code",
   "execution_count": 22,
   "metadata": {},
   "outputs": [],
   "source": [
    "df_train = df_train.drop([\"future_15dprice_change\",\"future_60dprice_change\",\"future_90dprice_change\",\"future_120dprice_change\",\"future_150dprice_change\"],axis = 1)\n",
    "df_test = df_test.drop([\"future_15dprice_change\",\"future_60dprice_change\",\"future_90dprice_change\",\"future_120dprice_change\",\"future_150dprice_change\"],axis = 1)"
   ]
  },
  {
   "cell_type": "code",
   "execution_count": 23,
   "metadata": {},
   "outputs": [],
   "source": [
    "#df_compact_30 = df_compact_30[df_compact_30['future_30dprice_change'].notna()]\n",
    "df_train = df_train[df_train['future_30dprice_change'].notna()]\n",
    "df_test = df_test[df_test['future_30dprice_change'].notna()]"
   ]
  },
  {
   "cell_type": "code",
   "execution_count": 9,
   "metadata": {},
   "outputs": [],
   "source": [
    "#df_train, df_test = train_test_split(df_compact_30, test_size=0.2, random_state=42)"
   ]
  },
  {
   "cell_type": "markdown",
   "metadata": {},
   "source": [
    "Light GBM can work with categoricl features 8x faster without using OneHotEncoder.\n",
    "But transforming string to int is still required"
   ]
  },
  {
   "cell_type": "raw",
   "metadata": {},
   "source": [
    "le = LabelEncoder()\n",
    "#le.fit(df_train[\"sector\"])\n",
    "#df_train[\"sector\"] = le.transform(df_train[\"sector\"])\n",
    "#df_test[\"sector\"] = le.transform(df_test[\"sector\"])\n",
    "le.fit(df_train[\"industry\"])\n",
    "df_train[\"industry\"] = le.transform(df_train[\"industry\"])\n",
    "df_test[\"industry\"] = le.transform(df_test[\"industry\"])"
   ]
  },
  {
   "cell_type": "code",
   "execution_count": 24,
   "metadata": {},
   "outputs": [],
   "source": [
    "#df_train.drop('stock', axis = 1, inplace = True)\n",
    "#df_test.drop('stock', axis = 1, inplace = True)\n",
    "df_train.drop(['stock','sector',\"industry\"], axis = 1, inplace = True)\n",
    "df_test.drop(['stock','sector',\"industry\"], axis = 1, inplace = True)"
   ]
  },
  {
   "cell_type": "code",
   "execution_count": 25,
   "metadata": {},
   "outputs": [],
   "source": [
    "#Creating the x, y variables \n",
    "y_train = df_train['future_30dprice_change']\n",
    "y_test = df_test['future_30dprice_change']\n",
    "\n",
    "x_train = df_train.drop('future_30dprice_change', axis = 1)\n",
    "x_test = df_test.drop('future_30dprice_change', axis = 1)"
   ]
  },
  {
   "cell_type": "markdown",
   "metadata": {},
   "source": [
    "### Creating a model"
   ]
  },
  {
   "cell_type": "code",
   "execution_count": 26,
   "metadata": {},
   "outputs": [
    {
     "data": {
      "text/plain": [
       "LGBMRegressor(n_estimators=50, n_jobs=5, random_state=42)"
      ]
     },
     "execution_count": 26,
     "metadata": {},
     "output_type": "execute_result"
    }
   ],
   "source": [
    "lgbm = lgb.LGBMRegressor(random_state=42,n_jobs = 5, n_estimators = 50)\n",
    "#lgbm.fit(x_train, y_train, categorical_feature=['sector'])\n",
    "lgbm.fit(x_train, y_train)"
   ]
  },
  {
   "cell_type": "code",
   "execution_count": 27,
   "metadata": {},
   "outputs": [],
   "source": [
    "#predicting on test set\n",
    "ypred=lgbm.predict(x_test)"
   ]
  },
  {
   "cell_type": "code",
   "execution_count": 28,
   "metadata": {},
   "outputs": [
    {
     "name": "stdout",
     "output_type": "stream",
     "text": [
      "Accuracy of prediction:9.3448\n"
     ]
    }
   ],
   "source": [
    "#calculating accuracy\n",
    "accuracy_30d = mae(y_test, ypred)\n",
    "print(f\"Accuracy of prediction:{accuracy_30d:0.4f}\")"
   ]
  },
  {
   "cell_type": "code",
   "execution_count": 29,
   "metadata": {},
   "outputs": [
    {
     "data": {
      "image/png": "[encoded data removed]",
      "text/plain": [
       "<Figure size 720x720 with 1 Axes>"
      ]
     },
     "metadata": {
      "needs_background": "light"
     },
     "output_type": "display_data"
    }
   ],
   "source": [
    "def true_predict_plot(y_val, ypred, title):\n",
    "    plt.figure(figsize=(10,10))\n",
    "    plt.scatter(y_val, ypred, c='crimson')\n",
    "    plt.yscale('linear')\n",
    "    plt.xscale('linear')\n",
    "\n",
    "    p1 = max(max(ypred), max(y_val))\n",
    "    p2 = min(min(ypred), min(y_val))\n",
    "    #plt.plot([p1, p2], [p1, p2], 'b-')\n",
    "    plt.xlabel('True Values', fontsize=15)\n",
    "    plt.ylabel('Predictions', fontsize=15)\n",
    "    plt.ylim(-150, 150)\n",
    "    plt.xlim(-150, 150)\n",
    "    #plt.axis('equal')\n",
    "    plt.axvline(x=0)\n",
    "    plt.axhline(y=0)\n",
    "    plt.title(title)\n",
    "    plt.show()\n",
    "    \n",
    "true_predict_plot(y_test, ypred,'30days price forecast')"
   ]
  },
  {
   "cell_type": "code",
   "execution_count": 30,
   "metadata": {},
   "outputs": [
    {
     "name": "stdout",
     "output_type": "stream",
     "text": [
      "         Real  Value, %\n",
      "Correct                \n",
      "0        3094     48.98\n",
      "1        3223     51.02\n",
      "\n",
      "Total cases evaluated: 6317\n"
     ]
    }
   ],
   "source": [
    "def accuracy_df(y_test, ypred):\n",
    "    df_y_vals = pd.DataFrame()\n",
    "    df_y_vals[\"Real\"] = y_test\n",
    "    df_y_vals[\"Prediction\"] = ypred\n",
    "    df_y_vals[\"Delta\"] = df_y_vals[\"Real\"] - df_y_vals[\"Prediction\"]\n",
    "    df_y_vals[\"Correct\"] = 0\n",
    "    df_y_vals.loc[((df_y_vals['Real'] >0) & (df_y_vals['Prediction'] >0)) | ((df_y_vals['Real'] <0) & (df_y_vals['Prediction'] <0)),'Correct'] = 1\n",
    "\n",
    "    true_false_values = df_y_vals.groupby(\"Correct\").count().Real.to_frame()\n",
    "\n",
    "    true_false_values[\"Value, %\"] = (true_false_values['Real'] / true_false_values['Real'].sum()) * 100\n",
    "    true_false_values[\"Value, %\"] = true_false_values[\"Value, %\"].round(2)\n",
    "    print(true_false_values)\n",
    "\n",
    "    print(\"\\nTotal cases evaluated:\",true_false_values.Real.sum())\n",
    "    return true_false_values\n",
    "\n",
    "acc_percent_30d = accuracy_df(y_test, ypred)\n",
    "acc_percent_30d = acc_percent_30d[\"Value, %\"][1]"
   ]
  },
  {
   "cell_type": "markdown",
   "metadata": {},
   "source": [
    "We got 57% acuracy for the 500 companies. That is not bad. Let's check if we get better results with the other prediction periods."
   ]
  },
  {
   "cell_type": "markdown",
   "metadata": {},
   "source": [
    "### Let's see how we perform with the other forecast periods"
   ]
  },
  {
   "cell_type": "code",
   "execution_count": 18,
   "metadata": {},
   "outputs": [
    {
     "data": {
      "image/png": "[encoded data removed]",
      "text/plain": [
       "<Figure size 720x720 with 1 Axes>"
      ]
     },
     "metadata": {
      "needs_background": "light"
     },
     "output_type": "display_data"
    },
    {
     "name": "stdout",
     "output_type": "stream",
     "text": [
      "Accuracy of prediction:6.9745\n",
      "\n",
      "\n",
      "Increase or decrease predicted correctly:\n",
      "         Real  Value, %\n",
      "Correct                \n",
      "0        2724     43.12\n",
      "1        3593     56.88\n",
      "\n",
      "Total cases evaluated: 6317\n",
      "    Value                     Feature   Value, %\n",
      "39    180                    industry  12.000000\n",
      "38    161           days_after_crisis  10.733333\n",
      "37    136                    VIX_high   9.066667\n",
      "36    109                     VIX_WoW   7.266667\n",
      "35     79             Fed_Balance_YoY   5.266667\n",
      "34     71                     VIX_MoM   4.733333\n",
      "33     67             10Y_Val_to_30MA   4.466667\n",
      "32     66                    10YB_YoY   4.400000\n",
      "31     65            10Y_Val_to_200MA   4.333333\n",
      "30     62           10YB_200MA_Vector   4.133333\n",
      "29     59             Fed_Balance_MoM   3.933333\n",
      "28     52                     VIX_DoD   3.466667\n",
      "27     52                     10YBond   3.466667\n",
      "26     44                    10YB_MoM   2.933333\n",
      "25     33                          PE   2.200000\n",
      "24     32                      YoY_DY   2.133333\n",
      "23     27              EPS_YoY_Growth   1.800000\n",
      "22     25                      YoY_PE   1.666667\n",
      "21     20                          ES   1.333333\n",
      "20     19                          DY   1.266667\n",
      "19     16                         ROE   1.066667\n",
      "18     15          EPS_QoQ_frcst_diff   1.000000\n",
      "17     13  days_after_earnings_report   0.866667\n",
      "16     12           EPS_1Y_exp_Change   0.800000\n",
      "15     11                EPS_surprise   0.733333\n",
      "14      8                    YoY_PEGF   0.533333\n",
      "13      8                    YoY_PEGB   0.533333\n",
      "12      7                      YoY_ES   0.466667\n",
      "11      7                      YoY_CR   0.466667\n",
      "9       6          Acc_Rec_Pay_Ration   0.400000\n",
      "10      6                          DE   0.400000\n",
      "8       5                      YoY_GM   0.333333\n",
      "7       5                         DPR   0.333333\n",
      "6       5                          CR   0.333333\n",
      "5       4               YoY_Piotroski   0.266667\n",
      "4       4                 PEG_Forward   0.266667\n",
      "2       3               PEG_Backwards   0.200000\n",
      "1       3                          GM   0.200000\n",
      "3       3                     YoY_DPR   0.200000\n",
      "0       0             Piotroski_Score   0.000000\n"
     ]
    },
    {
     "data": {
      "image/png": "[encoded data removed]",
      "text/plain": [
       "<Figure size 720x720 with 1 Axes>"
      ]
     },
     "metadata": {
      "needs_background": "light"
     },
     "output_type": "display_data"
    },
    {
     "name": "stdout",
     "output_type": "stream",
     "text": [
      "Accuracy of prediction:9.2974\n",
      "\n",
      "\n",
      "Increase or decrease predicted correctly:\n",
      "         Real  Value, %\n",
      "Correct                \n",
      "0        3166     50.12\n",
      "1        3151     49.88\n",
      "\n",
      "Total cases evaluated: 6317\n",
      "    Value                     Feature   Value, %\n",
      "39    235                    industry  15.666667\n",
      "38    143           days_after_crisis   9.533333\n",
      "37    124                    VIX_high   8.266667\n",
      "36    110             Fed_Balance_YoY   7.333333\n",
      "35     79                    10YB_YoY   5.266667\n",
      "34     58                          PE   3.866667\n",
      "33     58             Fed_Balance_MoM   3.866667\n",
      "32     57                     VIX_MoM   3.800000\n",
      "31     40           10YB_200MA_Vector   2.666667\n",
      "30     39                     VIX_WoW   2.600000\n",
      "29     38             10Y_Val_to_30MA   2.533333\n",
      "28     38                     10YBond   2.533333\n",
      "27     36                          DY   2.400000\n",
      "26     31                    10YB_MoM   2.066667\n",
      "25     30                      YoY_DY   2.000000\n",
      "24     30              EPS_YoY_Growth   2.000000\n",
      "23     29                      YoY_PE   1.933333\n",
      "21     28            10Y_Val_to_200MA   1.866667\n",
      "22     28                          ES   1.866667\n",
      "20     24                     YoY_DPR   1.600000\n",
      "19     24                          CR   1.600000\n",
      "18     20           EPS_1Y_exp_Change   1.333333\n",
      "17     19                         ROE   1.266667\n",
      "16     19                EPS_surprise   1.266667\n",
      "15     18                     VIX_DoD   1.200000\n",
      "14     16                          DE   1.066667\n",
      "13     14               YoY_Piotroski   0.933333\n",
      "12     14                      YoY_GM   0.933333\n",
      "11     12                    YoY_PEGB   0.800000\n",
      "9      11                         DPR   0.733333\n",
      "10     11  days_after_earnings_report   0.733333\n",
      "8      10                 PEG_Forward   0.666667\n",
      "7      10                          GM   0.666667\n",
      "6      10          EPS_QoQ_frcst_diff   0.666667\n",
      "5       8                      YoY_ES   0.533333\n",
      "4       8                      YoY_CR   0.533333\n",
      "3       8          Acc_Rec_Pay_Ration   0.533333\n",
      "2       6                    YoY_PEGF   0.400000\n",
      "1       6               PEG_Backwards   0.400000\n",
      "0       1             Piotroski_Score   0.066667\n"
     ]
    },
    {
     "data": {
      "image/png": "[encoded data removed]",
      "text/plain": [
       "<Figure size 720x720 with 1 Axes>"
      ]
     },
     "metadata": {
      "needs_background": "light"
     },
     "output_type": "display_data"
    },
    {
     "name": "stdout",
     "output_type": "stream",
     "text": [
      "Accuracy of prediction:11.2498\n",
      "\n",
      "\n",
      "Increase or decrease predicted correctly:\n",
      "         Real  Value, %\n",
      "Correct                \n",
      "0        3352     53.06\n",
      "1        2965     46.94\n",
      "\n",
      "Total cases evaluated: 6317\n",
      "    Value                     Feature   Value, %\n",
      "39    280                    industry  18.666667\n",
      "38    170           days_after_crisis  11.333333\n",
      "37     87             Fed_Balance_YoY   5.800000\n",
      "36     60                          PE   4.000000\n",
      "35     56                    VIX_high   3.733333\n",
      "34     48           EPS_1Y_exp_Change   3.200000\n",
      "33     44              EPS_YoY_Growth   2.933333\n",
      "30     40                          DE   2.666667\n",
      "29     40                    10YB_YoY   2.666667\n",
      "31     40                      YoY_DY   2.666667\n",
      "32     40                      YoY_PE   2.666667\n",
      "28     39                          ES   2.600000\n",
      "27     39                          CR   2.600000\n",
      "26     38           10YB_200MA_Vector   2.533333\n",
      "25     37                         ROE   2.466667\n",
      "24     35                          DY   2.333333\n",
      "23     32                     VIX_MoM   2.133333\n",
      "22     31                     10YBond   2.066667\n",
      "21     28             Fed_Balance_MoM   1.866667\n",
      "20     28          Acc_Rec_Pay_Ration   1.866667\n",
      "19     24                     YoY_DPR   1.600000\n",
      "18     23                      YoY_GM   1.533333\n",
      "17     23                      YoY_CR   1.533333\n",
      "16     21               YoY_Piotroski   1.400000\n",
      "15     21            10Y_Val_to_200MA   1.400000\n",
      "14     20                EPS_surprise   1.333333\n",
      "13     19                    YoY_PEGF   1.266667\n",
      "12     19                          GM   1.266667\n",
      "11     17                     VIX_WoW   1.133333\n",
      "10     16                         DPR   1.066667\n",
      "9      15                    YoY_PEGB   1.000000\n",
      "8      15             10Y_Val_to_30MA   1.000000\n",
      "7      12                      YoY_ES   0.800000\n",
      "6      10                 PEG_Forward   0.666667\n",
      "5      10          EPS_QoQ_frcst_diff   0.666667\n",
      "4       8               PEG_Backwards   0.533333\n",
      "2       6                    10YB_MoM   0.400000\n",
      "3       6                     VIX_DoD   0.400000\n",
      "1       2  days_after_earnings_report   0.133333\n",
      "0       1             Piotroski_Score   0.066667\n"
     ]
    },
    {
     "data": {
      "image/png": "[encoded data removed]",
      "text/plain": [
       "<Figure size 720x720 with 1 Axes>"
      ]
     },
     "metadata": {
      "needs_background": "light"
     },
     "output_type": "display_data"
    },
    {
     "name": "stdout",
     "output_type": "stream",
     "text": [
      "Accuracy of prediction:11.7523\n",
      "\n",
      "\n",
      "Increase or decrease predicted correctly:\n",
      "         Real  Value, %\n",
      "Correct                \n",
      "0        3299     52.22\n",
      "1        3018     47.78\n",
      "\n",
      "Total cases evaluated: 6317\n",
      "    Value                     Feature   Value, %\n",
      "39    304                    industry  20.266667\n",
      "38    136           days_after_crisis   9.066667\n",
      "37     72             Fed_Balance_YoY   4.800000\n",
      "36     64                          PE   4.266667\n",
      "35     49                          DY   3.266667\n",
      "34     48           EPS_1Y_exp_Change   3.200000\n",
      "32     47                         ROE   3.133333\n",
      "30     47                    10YB_YoY   3.133333\n",
      "31     47              EPS_YoY_Growth   3.133333\n",
      "33     47                      YoY_DY   3.133333\n",
      "29     44                      YoY_CR   2.933333\n",
      "28     43                          CR   2.866667\n",
      "27     40                          DE   2.666667\n",
      "26     39                    VIX_high   2.600000\n",
      "25     38                      YoY_PE   2.533333\n",
      "24     38                      YoY_GM   2.533333\n",
      "23     37          Acc_Rec_Pay_Ration   2.466667\n",
      "22     34                EPS_surprise   2.266667\n",
      "21     33                      YoY_ES   2.200000\n",
      "20     33                          ES   2.200000\n",
      "19     29                          GM   1.933333\n",
      "18     29           10YB_200MA_Vector   1.933333\n",
      "17     27            10Y_Val_to_200MA   1.800000\n",
      "16     26                         DPR   1.733333\n",
      "15     22                    YoY_PEGF   1.466667\n",
      "14     21               YoY_Piotroski   1.400000\n",
      "13     19                     10YBond   1.266667\n",
      "12     18                 PEG_Forward   1.200000\n",
      "11     12             Fed_Balance_MoM   0.800000\n",
      "10     11             10Y_Val_to_30MA   0.733333\n",
      "9      10                     YoY_DPR   0.666667\n",
      "8       9                    YoY_PEGB   0.600000\n",
      "7       7               PEG_Backwards   0.466667\n",
      "6       6             Piotroski_Score   0.400000\n",
      "5       5                     VIX_MoM   0.333333\n",
      "4       4                    10YB_MoM   0.266667\n",
      "3       3  days_after_earnings_report   0.200000\n",
      "2       1                     VIX_WoW   0.066667\n",
      "1       1          EPS_QoQ_frcst_diff   0.066667\n",
      "0       0                     VIX_DoD   0.000000\n"
     ]
    },
    {
     "data": {
      "image/png": "[encoded data removed]",
      "text/plain": [
       "<Figure size 720x720 with 1 Axes>"
      ]
     },
     "metadata": {
      "needs_background": "light"
     },
     "output_type": "display_data"
    },
    {
     "name": "stdout",
     "output_type": "stream",
     "text": [
      "Accuracy of prediction:15.9118\n",
      "\n",
      "\n",
      "Increase or decrease predicted correctly:\n",
      "         Real  Value, %\n",
      "Correct                \n",
      "0        3337     53.63\n",
      "1        2885     46.37\n",
      "\n",
      "Total cases evaluated: 6222\n",
      "    Value                     Feature   Value, %\n",
      "39    288                    industry  19.200000\n",
      "38    149           days_after_crisis   9.933333\n",
      "37     75           EPS_1Y_exp_Change   5.000000\n",
      "36     62                          PE   4.133333\n",
      "35     62                          DY   4.133333\n",
      "34     53                          CR   3.533333\n",
      "32     47                          DE   3.133333\n",
      "33     47              EPS_YoY_Growth   3.133333\n",
      "31     46             Fed_Balance_YoY   3.066667\n",
      "30     44                         ROE   2.933333\n",
      "29     41                      YoY_DY   2.733333\n",
      "28     41                      YoY_CR   2.733333\n",
      "27     40                          GM   2.666667\n",
      "26     38                EPS_surprise   2.533333\n",
      "25     38                    10YB_YoY   2.533333\n",
      "24     35                          ES   2.333333\n",
      "23     35          Acc_Rec_Pay_Ration   2.333333\n",
      "22     32                    VIX_high   2.133333\n",
      "21     30                      YoY_GM   2.000000\n",
      "20     29                      YoY_PE   1.933333\n",
      "19     29            10Y_Val_to_200MA   1.933333\n",
      "18     28                     10YBond   1.866667\n",
      "17     24                    YoY_PEGF   1.600000\n",
      "16     24                 PEG_Forward   1.600000\n",
      "15     23                      YoY_ES   1.533333\n",
      "14     23                         DPR   1.533333\n",
      "13     22               YoY_Piotroski   1.466667\n",
      "11     19           10YB_200MA_Vector   1.266667\n",
      "12     19             Fed_Balance_MoM   1.266667\n",
      "10     15                     YoY_DPR   1.000000\n",
      "9       9             Piotroski_Score   0.600000\n",
      "8       8                    YoY_PEGB   0.533333\n",
      "7       6                     VIX_MoM   0.400000\n",
      "6       6             10Y_Val_to_30MA   0.400000\n",
      "5       5                    10YB_MoM   0.333333\n",
      "4       4               PEG_Backwards   0.266667\n",
      "3       2  days_after_earnings_report   0.133333\n",
      "2       1                     VIX_WoW   0.066667\n",
      "1       1          EPS_QoQ_frcst_diff   0.066667\n",
      "0       0                     VIX_DoD   0.000000\n"
     ]
    },
    {
     "data": {
      "image/png": "[encoded data removed]",
      "text/plain": [
       "<Figure size 720x720 with 1 Axes>"
      ]
     },
     "metadata": {
      "needs_background": "light"
     },
     "output_type": "display_data"
    },
    {
     "name": "stdout",
     "output_type": "stream",
     "text": [
      "Accuracy of prediction:19.9527\n",
      "\n",
      "\n",
      "Increase or decrease predicted correctly:\n",
      "         Real  Value, %\n",
      "Correct                \n",
      "0        3193     52.14\n",
      "1        2931     47.86\n",
      "\n",
      "Total cases evaluated: 6124\n",
      "    Value                     Feature   Value, %\n",
      "39    306                    industry  20.400000\n",
      "38    105           days_after_crisis   7.000000\n",
      "37    101           EPS_1Y_exp_Change   6.733333\n",
      "36     56                          PE   3.733333\n",
      "35     55                          DY   3.666667\n",
      "34     53                         ROE   3.533333\n",
      "33     51                    VIX_high   3.400000\n",
      "32     49                          DE   3.266667\n",
      "31     49          Acc_Rec_Pay_Ration   3.266667\n",
      "30     47             Fed_Balance_YoY   3.133333\n",
      "29     45                          CR   3.000000\n",
      "28     42              EPS_YoY_Growth   2.800000\n",
      "27     39                          ES   2.600000\n",
      "26     38                    YoY_PEGF   2.533333\n",
      "25     38                      YoY_GM   2.533333\n",
      "24     38                      YoY_DY   2.533333\n",
      "23     38                EPS_surprise   2.533333\n",
      "22     37                      YoY_CR   2.466667\n",
      "21     36                          GM   2.400000\n",
      "20     30                    10YB_YoY   2.000000\n",
      "19     29             Fed_Balance_MoM   1.933333\n",
      "18     26                 PEG_Forward   1.733333\n",
      "17     25                         DPR   1.666667\n",
      "16     23               YoY_Piotroski   1.533333\n",
      "15     22                      YoY_ES   1.466667\n",
      "14     22           10YB_200MA_Vector   1.466667\n",
      "13     19                      YoY_PE   1.266667\n",
      "12     18                     10YBond   1.200000\n",
      "11     13                     VIX_MoM   0.866667\n",
      "10     12            10Y_Val_to_200MA   0.800000\n",
      "9       9                    YoY_PEGB   0.600000\n",
      "8       8                     YoY_DPR   0.533333\n",
      "7       8               PEG_Backwards   0.533333\n",
      "6       5             Piotroski_Score   0.333333\n",
      "5       4             10Y_Val_to_30MA   0.266667\n",
      "4       2          EPS_QoQ_frcst_diff   0.133333\n",
      "3       2                    10YB_MoM   0.133333\n",
      "2       0  days_after_earnings_report   0.000000\n",
      "1       0                     VIX_WoW   0.000000\n",
      "0       0                     VIX_DoD   0.000000\n"
     ]
    }
   ],
   "source": [
    "targets_all =[\"future_15dprice_change\",\"future_30dprice_change\",\"future_60dprice_change\",\"future_90dprice_change\",\"future_120dprice_change\",\"future_150dprice_change\"]\n",
    "periods = [\"15days\", \"30days\", \"60days\", \"90days\", \"120days\", \"150days\"]\n",
    "\n",
    "MAEs = []\n",
    "acc_percent_list = []\n",
    "feature_importances = []\n",
    "list_of_regression_models = []\n",
    "\n",
    "for j, i in enumerate(targets_all):\n",
    "    remove_redundant_list = list(targets_all)\n",
    "    remove_redundant_list.remove(i)\n",
    "\n",
    "    #df_compact_temp = df_compact.drop(remove_redundant_list,axis = 1)\n",
    "    #df_compact_temp = df_compact_temp[df_compact_temp[i].notna()]\n",
    "    \n",
    "    df_train, df_test = train_dfs_list[j], test_dfs_list[j]\n",
    "    df_train = df_train.drop(remove_redundant_list,axis = 1).copy()\n",
    "    df_test = df_test.drop(remove_redundant_list,axis = 1).copy()\n",
    "    df_train = df_train[df_train[i].notna()]\n",
    "    df_test = df_test[df_test[i].notna()]\n",
    "    #df_train, df_test = train_test_split(df_compact_temp, test_size=0.2, random_state=42)\n",
    "\n",
    "    #df_train.drop([\"stock\"], axis = 1, inplace = True)\n",
    "    #df_test.drop([\"stock\"], axis = 1, inplace = True)\n",
    "    df_train.drop([\"stock\",\"sector\"], axis = 1, inplace = True)\n",
    "    df_test.drop([\"stock\",\"sector\"], axis = 1, inplace = True)\n",
    "\n",
    "    le = LabelEncoder()\n",
    "    #le.fit(df_train[\"sector\"])\n",
    "    #df_train[\"sector\"] = le.transform(df_train[\"sector\"])\n",
    "    #df_test[\"sector\"] = le.transform(df_test[\"sector\"])\n",
    "    le.fit(df_train[\"industry\"])\n",
    "    df_train[\"industry\"] = le.transform(df_train[\"industry\"])\n",
    "    df_test[\"industry\"] = le.transform(df_test[\"industry\"])\n",
    "\n",
    "    #Creating the x, y variables \n",
    "    y_train = df_train[i]\n",
    "    y_test = df_test[i]\n",
    "\n",
    "    x_train = df_train.drop(i, axis = 1)\n",
    "    x_test = df_test.drop(i, axis = 1)\n",
    "\n",
    "    lgbm = lgb.LGBMRegressor(random_state=42,n_jobs = 5, n_estimators = 50)\n",
    "    list_of_regression_models.append(lgbm)\n",
    "    #lgbm.fit(x_train, y_train, categorical_feature=['sector'])\n",
    "    lgbm.fit(x_train, y_train, categorical_feature=['industry'])\n",
    "\n",
    "    #predicting on test set\n",
    "    ypred=lgbm.predict(x_test)\n",
    "\n",
    "    true_predict_plot(y_test, ypred, periods[j] +' price forecast')\n",
    "\n",
    "    #calculating accuracy\n",
    "    from sklearn.metrics import mean_absolute_error as mae\n",
    "    accuracy = mae(y_test, ypred)\n",
    "    MAEs.append(accuracy)\n",
    "    print(f\"Accuracy of prediction:{accuracy:0.4f}\")\n",
    "\n",
    "    print(\"\\n\\nIncrease or decrease predicted correctly:\")\n",
    "    acc_percent = accuracy_df(y_test, ypred)\n",
    "    acc_percent = acc_percent[\"Value, %\"][1]\n",
    "    acc_percent_list.append(acc_percent)\n",
    "    \n",
    "    feature_imp = pd.DataFrame(sorted(zip(lgbm.feature_importances_,x_train.columns)), columns=['Value','Feature'])\n",
    "    feature_imp[\"Value, %\"] = (feature_imp['Value'] / feature_imp['Value'].sum()) * 100\n",
    "    print(feature_imp.sort_values(by='Value, %', ascending=False))\n",
    "    feature_importances.append(feature_imp[[\"Feature\", \"Value, %\"]])"
   ]
  },
  {
   "cell_type": "markdown",
   "metadata": {},
   "source": [
    "### Result summarization"
   ]
  },
  {
   "cell_type": "code",
   "execution_count": 19,
   "metadata": {},
   "outputs": [
    {
     "name": "stdout",
     "output_type": "stream",
     "text": [
      "                         Absolute Error  Correctly Predicted Price Direction\n",
      "Forecasted Period, days                                                     \n",
      "15                               697.45                                56.88\n",
      "30                               929.74                                49.88\n",
      "60                              1124.98                                46.94\n",
      "90                              1175.23                                47.78\n",
      "120                             1591.18                                46.37\n",
      "150                             1995.27                                47.86\n"
     ]
    }
   ],
   "source": [
    "MAEs = [round(x*100,2) for x in MAEs]\n",
    "\n",
    "index = [15,30,60,90,120,150]\n",
    "accuracy_compare_dt = {\"Absolute Error\":MAEs,\"Correctly Predicted Price Direction\":acc_percent_list}\n",
    "accuracy_compare_df= pd.DataFrame(accuracy_compare_dt, index=index)\n",
    "accuracy_compare_df.index.name = \"Forecasted Period, days\"\n",
    "\n",
    "print(accuracy_compare_df)"
   ]
  },
  {
   "cell_type": "markdown",
   "metadata": {},
   "source": [
    "We see that error is above 50% that states that the model performance is poor."
   ]
  },
  {
   "cell_type": "code",
   "execution_count": 20,
   "metadata": {},
   "outputs": [
    {
     "data": {
      "text/html": [
       "<div>\n",
       "<style scoped>\n",
       "    .dataframe tbody tr th:only-of-type {\n",
       "        vertical-align: middle;\n",
       "    }\n",
       "\n",
       "    .dataframe tbody tr th {\n",
       "        vertical-align: top;\n",
       "    }\n",
       "\n",
       "    .dataframe thead th {\n",
       "        text-align: right;\n",
       "    }\n",
       "</style>\n",
       "<table border=\"1\" class=\"dataframe\">\n",
       "  <thead>\n",
       "    <tr style=\"text-align: right;\">\n",
       "      <th></th>\n",
       "      <th>0</th>\n",
       "      <th>1</th>\n",
       "      <th>2</th>\n",
       "      <th>3</th>\n",
       "      <th>4</th>\n",
       "      <th>5</th>\n",
       "      <th>6</th>\n",
       "      <th>7</th>\n",
       "      <th>8</th>\n",
       "      <th>9</th>\n",
       "      <th>...</th>\n",
       "      <th>30</th>\n",
       "      <th>31</th>\n",
       "      <th>32</th>\n",
       "      <th>33</th>\n",
       "      <th>34</th>\n",
       "      <th>35</th>\n",
       "      <th>36</th>\n",
       "      <th>37</th>\n",
       "      <th>38</th>\n",
       "      <th>39</th>\n",
       "    </tr>\n",
       "  </thead>\n",
       "  <tbody>\n",
       "    <tr>\n",
       "      <th>15</th>\n",
       "      <td>industry</td>\n",
       "      <td>days_after_crisis</td>\n",
       "      <td>VIX_high</td>\n",
       "      <td>VIX_WoW</td>\n",
       "      <td>Fed_Balance_YoY</td>\n",
       "      <td>VIX_MoM</td>\n",
       "      <td>10Y_Val_to_30MA</td>\n",
       "      <td>10YB_YoY</td>\n",
       "      <td>10Y_Val_to_200MA</td>\n",
       "      <td>10YB_200MA_Vector</td>\n",
       "      <td>...</td>\n",
       "      <td>DE</td>\n",
       "      <td>YoY_GM</td>\n",
       "      <td>DPR</td>\n",
       "      <td>CR</td>\n",
       "      <td>YoY_Piotroski</td>\n",
       "      <td>PEG_Forward</td>\n",
       "      <td>PEG_Backwards</td>\n",
       "      <td>GM</td>\n",
       "      <td>YoY_DPR</td>\n",
       "      <td>Piotroski_Score</td>\n",
       "    </tr>\n",
       "    <tr>\n",
       "      <th>30</th>\n",
       "      <td>industry</td>\n",
       "      <td>days_after_crisis</td>\n",
       "      <td>VIX_high</td>\n",
       "      <td>Fed_Balance_YoY</td>\n",
       "      <td>10YB_YoY</td>\n",
       "      <td>PE</td>\n",
       "      <td>Fed_Balance_MoM</td>\n",
       "      <td>VIX_MoM</td>\n",
       "      <td>10YB_200MA_Vector</td>\n",
       "      <td>VIX_WoW</td>\n",
       "      <td>...</td>\n",
       "      <td>days_after_earnings_report</td>\n",
       "      <td>PEG_Forward</td>\n",
       "      <td>GM</td>\n",
       "      <td>EPS_QoQ_frcst_diff</td>\n",
       "      <td>YoY_ES</td>\n",
       "      <td>YoY_CR</td>\n",
       "      <td>Acc_Rec_Pay_Ration</td>\n",
       "      <td>YoY_PEGF</td>\n",
       "      <td>PEG_Backwards</td>\n",
       "      <td>Piotroski_Score</td>\n",
       "    </tr>\n",
       "    <tr>\n",
       "      <th>60</th>\n",
       "      <td>industry</td>\n",
       "      <td>days_after_crisis</td>\n",
       "      <td>Fed_Balance_YoY</td>\n",
       "      <td>PE</td>\n",
       "      <td>VIX_high</td>\n",
       "      <td>EPS_1Y_exp_Change</td>\n",
       "      <td>EPS_YoY_Growth</td>\n",
       "      <td>DE</td>\n",
       "      <td>10YB_YoY</td>\n",
       "      <td>YoY_DY</td>\n",
       "      <td>...</td>\n",
       "      <td>YoY_PEGB</td>\n",
       "      <td>10Y_Val_to_30MA</td>\n",
       "      <td>YoY_ES</td>\n",
       "      <td>PEG_Forward</td>\n",
       "      <td>EPS_QoQ_frcst_diff</td>\n",
       "      <td>PEG_Backwards</td>\n",
       "      <td>10YB_MoM</td>\n",
       "      <td>VIX_DoD</td>\n",
       "      <td>days_after_earnings_report</td>\n",
       "      <td>Piotroski_Score</td>\n",
       "    </tr>\n",
       "    <tr>\n",
       "      <th>90</th>\n",
       "      <td>industry</td>\n",
       "      <td>days_after_crisis</td>\n",
       "      <td>Fed_Balance_YoY</td>\n",
       "      <td>PE</td>\n",
       "      <td>DY</td>\n",
       "      <td>EPS_1Y_exp_Change</td>\n",
       "      <td>ROE</td>\n",
       "      <td>10YB_YoY</td>\n",
       "      <td>EPS_YoY_Growth</td>\n",
       "      <td>YoY_DY</td>\n",
       "      <td>...</td>\n",
       "      <td>YoY_DPR</td>\n",
       "      <td>YoY_PEGB</td>\n",
       "      <td>PEG_Backwards</td>\n",
       "      <td>Piotroski_Score</td>\n",
       "      <td>VIX_MoM</td>\n",
       "      <td>10YB_MoM</td>\n",
       "      <td>days_after_earnings_report</td>\n",
       "      <td>VIX_WoW</td>\n",
       "      <td>EPS_QoQ_frcst_diff</td>\n",
       "      <td>VIX_DoD</td>\n",
       "    </tr>\n",
       "    <tr>\n",
       "      <th>120</th>\n",
       "      <td>industry</td>\n",
       "      <td>days_after_crisis</td>\n",
       "      <td>EPS_1Y_exp_Change</td>\n",
       "      <td>PE</td>\n",
       "      <td>DY</td>\n",
       "      <td>CR</td>\n",
       "      <td>DE</td>\n",
       "      <td>EPS_YoY_Growth</td>\n",
       "      <td>Fed_Balance_YoY</td>\n",
       "      <td>ROE</td>\n",
       "      <td>...</td>\n",
       "      <td>Piotroski_Score</td>\n",
       "      <td>YoY_PEGB</td>\n",
       "      <td>VIX_MoM</td>\n",
       "      <td>10Y_Val_to_30MA</td>\n",
       "      <td>10YB_MoM</td>\n",
       "      <td>PEG_Backwards</td>\n",
       "      <td>days_after_earnings_report</td>\n",
       "      <td>VIX_WoW</td>\n",
       "      <td>EPS_QoQ_frcst_diff</td>\n",
       "      <td>VIX_DoD</td>\n",
       "    </tr>\n",
       "    <tr>\n",
       "      <th>150</th>\n",
       "      <td>industry</td>\n",
       "      <td>days_after_crisis</td>\n",
       "      <td>EPS_1Y_exp_Change</td>\n",
       "      <td>PE</td>\n",
       "      <td>DY</td>\n",
       "      <td>ROE</td>\n",
       "      <td>VIX_high</td>\n",
       "      <td>DE</td>\n",
       "      <td>Acc_Rec_Pay_Ration</td>\n",
       "      <td>Fed_Balance_YoY</td>\n",
       "      <td>...</td>\n",
       "      <td>YoY_PEGB</td>\n",
       "      <td>YoY_DPR</td>\n",
       "      <td>PEG_Backwards</td>\n",
       "      <td>Piotroski_Score</td>\n",
       "      <td>10Y_Val_to_30MA</td>\n",
       "      <td>EPS_QoQ_frcst_diff</td>\n",
       "      <td>10YB_MoM</td>\n",
       "      <td>days_after_earnings_report</td>\n",
       "      <td>VIX_WoW</td>\n",
       "      <td>VIX_DoD</td>\n",
       "    </tr>\n",
       "  </tbody>\n",
       "</table>\n",
       "<p>6 rows × 40 columns</p>\n",
       "</div>"
      ],
      "text/plain": [
       "           0                  1                  2                3   \\\n",
       "15   industry  days_after_crisis           VIX_high          VIX_WoW   \n",
       "30   industry  days_after_crisis           VIX_high  Fed_Balance_YoY   \n",
       "60   industry  days_after_crisis    Fed_Balance_YoY               PE   \n",
       "90   industry  days_after_crisis    Fed_Balance_YoY               PE   \n",
       "120  industry  days_after_crisis  EPS_1Y_exp_Change               PE   \n",
       "150  industry  days_after_crisis  EPS_1Y_exp_Change               PE   \n",
       "\n",
       "                  4                  5                6               7   \\\n",
       "15   Fed_Balance_YoY            VIX_MoM  10Y_Val_to_30MA        10YB_YoY   \n",
       "30          10YB_YoY                 PE  Fed_Balance_MoM         VIX_MoM   \n",
       "60          VIX_high  EPS_1Y_exp_Change   EPS_YoY_Growth              DE   \n",
       "90                DY  EPS_1Y_exp_Change              ROE        10YB_YoY   \n",
       "120               DY                 CR               DE  EPS_YoY_Growth   \n",
       "150               DY                ROE         VIX_high              DE   \n",
       "\n",
       "                     8                  9   ...                          30  \\\n",
       "15     10Y_Val_to_200MA  10YB_200MA_Vector  ...                          DE   \n",
       "30    10YB_200MA_Vector            VIX_WoW  ...  days_after_earnings_report   \n",
       "60             10YB_YoY             YoY_DY  ...                    YoY_PEGB   \n",
       "90       EPS_YoY_Growth             YoY_DY  ...                     YoY_DPR   \n",
       "120     Fed_Balance_YoY                ROE  ...             Piotroski_Score   \n",
       "150  Acc_Rec_Pay_Ration    Fed_Balance_YoY  ...                    YoY_PEGB   \n",
       "\n",
       "                  31             32                  33                  34  \\\n",
       "15            YoY_GM            DPR                  CR       YoY_Piotroski   \n",
       "30       PEG_Forward             GM  EPS_QoQ_frcst_diff              YoY_ES   \n",
       "60   10Y_Val_to_30MA         YoY_ES         PEG_Forward  EPS_QoQ_frcst_diff   \n",
       "90          YoY_PEGB  PEG_Backwards     Piotroski_Score             VIX_MoM   \n",
       "120         YoY_PEGB        VIX_MoM     10Y_Val_to_30MA            10YB_MoM   \n",
       "150          YoY_DPR  PEG_Backwards     Piotroski_Score     10Y_Val_to_30MA   \n",
       "\n",
       "                     35                          36  \\\n",
       "15          PEG_Forward               PEG_Backwards   \n",
       "30               YoY_CR          Acc_Rec_Pay_Ration   \n",
       "60        PEG_Backwards                    10YB_MoM   \n",
       "90             10YB_MoM  days_after_earnings_report   \n",
       "120       PEG_Backwards  days_after_earnings_report   \n",
       "150  EPS_QoQ_frcst_diff                    10YB_MoM   \n",
       "\n",
       "                             37                          38               39  \n",
       "15                           GM                     YoY_DPR  Piotroski_Score  \n",
       "30                     YoY_PEGF               PEG_Backwards  Piotroski_Score  \n",
       "60                      VIX_DoD  days_after_earnings_report  Piotroski_Score  \n",
       "90                      VIX_WoW          EPS_QoQ_frcst_diff          VIX_DoD  \n",
       "120                     VIX_WoW          EPS_QoQ_frcst_diff          VIX_DoD  \n",
       "150  days_after_earnings_report                     VIX_WoW          VIX_DoD  \n",
       "\n",
       "[6 rows x 40 columns]"
      ]
     },
     "execution_count": 20,
     "metadata": {},
     "output_type": "execute_result"
    }
   ],
   "source": [
    "all_features_evolution = []\n",
    "for i, j in enumerate(feature_importances):\n",
    "    features_sorted = feature_importances[i].sort_values(by='Value, %', ascending=False)[\"Feature\"].tolist()\n",
    "    all_features_evolution.append(features_sorted)\n",
    "\n",
    "features_evolution = pd.DataFrame(all_features_evolution, index = index)\n",
    "accuracy_compare_df.index.name = \"Forecasted Period, days\"\n",
    "features_evolution"
   ]
  },
  {
   "cell_type": "markdown",
   "metadata": {},
   "source": [
    "As we see our model finds external factors as bonds rate and fear level as the best predictors even for the long term forecast. \n",
    "Dividends change timing also play it's role as the industry compny works in.\n",
    "My expectation was to see PE ratio in the top 5, but it seems it doesn't play a big role. "
   ]
  },
  {
   "cell_type": "markdown",
   "metadata": {},
   "source": [
    "## Changing the perspective"
   ]
  }
 ],
 "metadata": {
  "kernelspec": {
   "display_name": "Python 3 (ipykernel)",
   "language": "python",
   "name": "python3"
  },
  "language_info": {
   "codemirror_mode": {
    "name": "ipython",
    "version": 3
   },
   "file_extension": ".py",
   "mimetype": "text/x-python",
   "name": "python",
   "nbconvert_exporter": "python",
   "pygments_lexer": "ipython3",
   "version": "3.9.12"
  }
 },
 "nbformat": 4,
 "nbformat_minor": 4
}
