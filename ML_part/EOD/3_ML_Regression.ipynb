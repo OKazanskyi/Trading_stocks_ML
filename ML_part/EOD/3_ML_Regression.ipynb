{
 "cells": [
  {
   "cell_type": "markdown",
   "metadata": {},
   "source": [
    "# ML Part Regression"
   ]
  },
  {
   "cell_type": "code",
   "execution_count": 1,
   "metadata": {},
   "outputs": [],
   "source": [
    "from jupyter_core.paths import jupyter_path\n",
    "import warnings\n",
    "warnings.filterwarnings('ignore')\n",
    "\n",
    "import numpy as np\n",
    "import pandas as pd\n",
    "import seaborn as sns\n",
    "import os\n",
    "import glob\n",
    "import matplotlib.pyplot as plt\n",
    "from datetime import date\n",
    "from datetime import datetime\n",
    "from datetime import timedelta"
   ]
  },
  {
   "cell_type": "code",
   "execution_count": 2,
   "metadata": {},
   "outputs": [],
   "source": [
    "from sklearn.model_selection import train_test_split\n",
    "from sklearn.preprocessing import LabelEncoder\n",
    "from sklearn.model_selection import TimeSeriesSplit\n",
    "from sklearn import metrics\n",
    "from sklearn.metrics import mean_absolute_error as mae\n",
    "from sklearn.metrics import accuracy_score, roc_auc_score\n",
    "from sklearn.metrics import confusion_matrix\n",
    "from sklearn.metrics import classification_report\n",
    "from sklearn.metrics import precision_score\n",
    "from sklearn.model_selection import GridSearchCV\n",
    "from sklearn.model_selection import KFold\n",
    "import lightgbm as lgb # Our ML library"
   ]
  },
  {
   "cell_type": "code",
   "execution_count": 3,
   "metadata": {},
   "outputs": [],
   "source": [
    "os.chdir(\"C:/Users/oleg.kazanskyi/Personal-oleg.kazanskyi/Trading Python/ML_Part/EOD\")\n",
    "df_compact = pd.read_csv(\"full_cleaned_dataframe_2023_optimized.csv\")"
   ]
  },
  {
   "cell_type": "code",
   "execution_count": 4,
   "metadata": {},
   "outputs": [
    {
     "name": "stdout",
     "output_type": "stream",
     "text": [
      "Train data size for 15 is 628181 rows\n",
      "Test data size for 15  is 33347 rows\n",
      "Train data size for 30 is 618381 rows\n",
      "Test data size for 30  is 33079 rows\n",
      "Train data size for 60 is 597313 rows\n",
      "Test data size for 60  is 32544 rows\n",
      "Train data size for 90 is 578766 rows\n",
      "Test data size for 90  is 32007 rows\n",
      "Train data size for 120 is 557329 rows\n",
      "Test data size for 120  is 31470 rows\n",
      "Train data size for 150 is 536932 rows\n",
      "Test data size for 150  is 30934 rows\n"
     ]
    }
   ],
   "source": [
    "#Let's take the top 5% as the test df\n",
    "y_vals = [\"future_15dprice_change\",\"future_30dprice_change\",\"future_60dprice_change\",\"future_90dprice_change\",\"future_120dprice_change\",\"future_150dprice_change\"]\n",
    "n_days = [15,30,60,90,120,150]\n",
    "\n",
    "test_dfs_list = []\n",
    "train_dfs_list = []\n",
    "\n",
    "for i, j in enumerate(y_vals):\n",
    "    n = 5\n",
    "    num_rows = int(len(df_compact[df_compact[j].notnull()])*(n/100))\n",
    "    df_test = df_compact[df_compact[j].notnull()].iloc[:num_rows]\n",
    "    df_train = df_compact[df_compact[j].notnull()].iloc[num_rows:]\n",
    "    \n",
    "    #Let's remove the data closest to the prediction date to make it close to a real world scenario\n",
    "    max_date = df_train.date.max()\n",
    "    max_date = datetime.strptime((df_train.date.max()), '%Y-%m-%d') - timedelta(days=n_days[i])\n",
    "    max_date = max_date.strftime('%Y-%m-%d')\n",
    "    df_train = df_train[df_train.date < max_date]\n",
    "    \n",
    "    #We can drop the date column as redundant now\n",
    "    df_train.drop('date',axis = 1, inplace = True)\n",
    "    df_test.drop('date',axis = 1, inplace = True)\n",
    "    \n",
    "    test_dfs_list.append(df_test)\n",
    "    train_dfs_list.append(df_train)\n",
    "    \n",
    "    \n",
    "    print(f\"Train data size for {n_days[i]} is {df_train.shape[0]} rows\")\n",
    "    print(f\"Test data size for {n_days[i]}  is {df_test.shape[0]} rows\")"
   ]
  },
  {
   "cell_type": "code",
   "execution_count": 5,
   "metadata": {},
   "outputs": [],
   "source": [
    "#For the simplicity of analysis we will work with one train dataframe but apply transformations to all the dataframes in the list\n",
    "df_train = train_dfs_list[0]\n",
    "\n",
    "cols_num = df_train.select_dtypes([np.number]).columns\n",
    "cols_str = df_train.select_dtypes('object').columns"
   ]
  },
  {
   "cell_type": "code",
   "execution_count": 6,
   "metadata": {},
   "outputs": [],
   "source": [
    "#df_compact_30 = df_compact.drop([\"future_15dprice_change\",\"future_60dprice_change\",\"future_90dprice_change\",\"future_120dprice_change\",\"future_150dprice_change\"],axis = 1)\n",
    "df_train_gen, df_test_gen = df_train.copy(), df_test.copy()\n",
    "df_train, df_test = train_dfs_list[1], test_dfs_list[1]"
   ]
  },
  {
   "cell_type": "code",
   "execution_count": 7,
   "metadata": {},
   "outputs": [],
   "source": [
    "df_train = df_train.drop([\"future_15dprice_change\",\"future_60dprice_change\",\"future_90dprice_change\",\"future_120dprice_change\",\"future_150dprice_change\"],axis = 1)\n",
    "df_test = df_test.drop([\"future_15dprice_change\",\"future_60dprice_change\",\"future_90dprice_change\",\"future_120dprice_change\",\"future_150dprice_change\"],axis = 1)"
   ]
  },
  {
   "cell_type": "code",
   "execution_count": 8,
   "metadata": {},
   "outputs": [],
   "source": [
    "#df_compact_30 = df_compact_30[df_compact_30['future_30dprice_change'].notna()]\n",
    "df_train = df_train[df_train['future_30dprice_change'].notna()]\n",
    "df_test = df_test[df_test['future_30dprice_change'].notna()]"
   ]
  },
  {
   "cell_type": "code",
   "execution_count": 9,
   "metadata": {},
   "outputs": [],
   "source": [
    "#df_train, df_test = train_test_split(df_compact_30, test_size=0.2, random_state=42)"
   ]
  },
  {
   "cell_type": "markdown",
   "metadata": {},
   "source": [
    "Light GBM can work with categoricl features 8x faster without using OneHotEncoder.\n",
    "But transforming string to int is still required"
   ]
  },
  {
   "cell_type": "raw",
   "metadata": {},
   "source": [
    "le = LabelEncoder()\n",
    "#le.fit(df_train[\"sector\"])\n",
    "#df_train[\"sector\"] = le.transform(df_train[\"sector\"])\n",
    "#df_test[\"sector\"] = le.transform(df_test[\"sector\"])\n",
    "le.fit(df_train[\"industry\"])\n",
    "df_train[\"industry\"] = le.transform(df_train[\"industry\"])\n",
    "df_test[\"industry\"] = le.transform(df_test[\"industry\"])"
   ]
  },
  {
   "cell_type": "code",
   "execution_count": 10,
   "metadata": {},
   "outputs": [],
   "source": [
    "#df_train.drop('stock', axis = 1, inplace = True)\n",
    "#df_test.drop('stock', axis = 1, inplace = True)\n",
    "df_train.drop(['stock','sector',\"industry\"], axis = 1, inplace = True)\n",
    "df_test.drop(['stock','sector',\"industry\"], axis = 1, inplace = True)"
   ]
  },
  {
   "cell_type": "code",
   "execution_count": 11,
   "metadata": {},
   "outputs": [],
   "source": [
    "#Creating the x, y variables \n",
    "y_train = df_train['future_30dprice_change']\n",
    "y_test = df_test['future_30dprice_change']\n",
    "\n",
    "x_train = df_train.drop('future_30dprice_change', axis = 1)\n",
    "x_test = df_test.drop('future_30dprice_change', axis = 1)"
   ]
  },
  {
   "cell_type": "markdown",
   "metadata": {},
   "source": [
    "### Creating a model"
   ]
  },
  {
   "cell_type": "code",
   "execution_count": 12,
   "metadata": {},
   "outputs": [
    {
     "data": {
      "text/plain": [
       "LGBMRegressor(n_estimators=50, n_jobs=5, random_state=42)"
      ]
     },
     "execution_count": 12,
     "metadata": {},
     "output_type": "execute_result"
    }
   ],
   "source": [
    "lgbm = lgb.LGBMRegressor(random_state=42,n_jobs = 5, n_estimators = 50)\n",
    "#lgbm.fit(x_train, y_train, categorical_feature=['sector'])\n",
    "lgbm.fit(x_train, y_train)"
   ]
  },
  {
   "cell_type": "code",
   "execution_count": 13,
   "metadata": {},
   "outputs": [],
   "source": [
    "#predicting on test set\n",
    "ypred=lgbm.predict(x_test)"
   ]
  },
  {
   "cell_type": "code",
   "execution_count": 14,
   "metadata": {},
   "outputs": [
    {
     "name": "stdout",
     "output_type": "stream",
     "text": [
      "Accuracy of prediction:8.2410\n"
     ]
    }
   ],
   "source": [
    "#calculating accuracy\n",
    "accuracy_30d = mae(y_test, ypred)\n",
    "print(f\"Accuracy of prediction:{accuracy_30d:0.4f}\")"
   ]
  },
  {
   "cell_type": "code",
   "execution_count": 15,
   "metadata": {},
   "outputs": [
    {
     "data": {
      "image/png": "[encoded data removed]",
      "text/plain": [
       "<Figure size 720x720 with 1 Axes>"
      ]
     },
     "metadata": {
      "needs_background": "light"
     },
     "output_type": "display_data"
    }
   ],
   "source": [
    "def true_predict_plot(y_val, ypred, title):\n",
    "    plt.figure(figsize=(10,10))\n",
    "    plt.scatter(y_val, ypred, c='crimson')\n",
    "    plt.yscale('linear')\n",
    "    plt.xscale('linear')\n",
    "\n",
    "    p1 = max(max(ypred), max(y_val))\n",
    "    p2 = min(min(ypred), min(y_val))\n",
    "    #plt.plot([p1, p2], [p1, p2], 'b-')\n",
    "    plt.xlabel('True Values', fontsize=15)\n",
    "    plt.ylabel('Predictions', fontsize=15)\n",
    "    plt.ylim(-150, 150)\n",
    "    plt.xlim(-150, 150)\n",
    "    #plt.axis('equal')\n",
    "    plt.axvline(x=0)\n",
    "    plt.axhline(y=0)\n",
    "    plt.title(title)\n",
    "    plt.show()\n",
    "    \n",
    "true_predict_plot(y_test, ypred,'30days price forecast')"
   ]
  },
  {
   "cell_type": "code",
   "execution_count": 16,
   "metadata": {},
   "outputs": [
    {
     "name": "stdout",
     "output_type": "stream",
     "text": [
      "          Real  Value, %\n",
      "Correct                 \n",
      "0        14205     42.94\n",
      "1        18874     57.06\n",
      "\n",
      "Total cases evaluated: 33079\n"
     ]
    }
   ],
   "source": [
    "def accuracy_df(y_test, ypred):\n",
    "    df_y_vals = pd.DataFrame()\n",
    "    df_y_vals[\"Real\"] = y_test\n",
    "    df_y_vals[\"Prediction\"] = ypred\n",
    "    df_y_vals[\"Delta\"] = df_y_vals[\"Real\"] - df_y_vals[\"Prediction\"]\n",
    "    df_y_vals[\"Correct\"] = 0\n",
    "    df_y_vals.loc[((df_y_vals['Real'] >0) & (df_y_vals['Prediction'] >0)) | ((df_y_vals['Real'] <0) & (df_y_vals['Prediction'] <0)),'Correct'] = 1\n",
    "\n",
    "    true_false_values = df_y_vals.groupby(\"Correct\").count().Real.to_frame()\n",
    "\n",
    "    true_false_values[\"Value, %\"] = (true_false_values['Real'] / true_false_values['Real'].sum()) * 100\n",
    "    true_false_values[\"Value, %\"] = true_false_values[\"Value, %\"].round(2)\n",
    "    print(true_false_values)\n",
    "\n",
    "    print(\"\\nTotal cases evaluated:\",true_false_values.Real.sum())\n",
    "    return true_false_values\n",
    "\n",
    "acc_percent_30d = accuracy_df(y_test, ypred)\n",
    "acc_percent_30d = acc_percent_30d[\"Value, %\"][1]"
   ]
  },
  {
   "cell_type": "markdown",
   "metadata": {},
   "source": [
    "We got 57% acuracy for the 500 companies. That is not bad. Let's check if we get better results with the other prediction periods."
   ]
  },
  {
   "cell_type": "markdown",
   "metadata": {},
   "source": [
    "### Let's see how we perform with the other forecast periods"
   ]
  },
  {
   "cell_type": "code",
   "execution_count": 17,
   "metadata": {},
   "outputs": [
    {
     "data": {
      "image/png": "[encoded data removed]",
      "text/plain": [
       "<Figure size 720x720 with 1 Axes>"
      ]
     },
     "metadata": {
      "needs_background": "light"
     },
     "output_type": "display_data"
    },
    {
     "name": "stdout",
     "output_type": "stream",
     "text": [
      "Accuracy of prediction:6.0202\n",
      "\n",
      "\n",
      "Increase or decrease predicted correctly:\n",
      "          Real  Value, %\n",
      "Correct                 \n",
      "0        17061     51.16\n",
      "1        16286     48.84\n",
      "\n",
      "Total cases evaluated: 33347\n",
      "    Value                     Feature   Value, %\n",
      "40    220                    industry  14.666667\n",
      "39    181           days_after_crisis  12.066667\n",
      "38    114                    VIX_high   7.600000\n",
      "37    103             Fed_Balance_YoY   6.866667\n",
      "36     78           EPS_1Y_exp_Change   5.200000\n",
      "35     73                    10YB_MoM   4.866667\n",
      "34     72                    10YB_YoY   4.800000\n",
      "32     67             10Y_Val_to_30MA   4.466667\n",
      "33     67                     VIX_WoW   4.466667\n",
      "31     65             Fed_Balance_MoM   4.333333\n",
      "30     59                     10YBond   3.933333\n",
      "29     57            10Y_Val_to_200MA   3.800000\n",
      "28     52                     VIX_MoM   3.466667\n",
      "27     49           10YB_200MA_Vector   3.266667\n",
      "26     28                     VIX_DoD   1.866667\n",
      "25     22  days_after_earnings_report   1.466667\n",
      "24     22                 PEG_Forward   1.466667\n",
      "23     19                          PE   1.266667\n",
      "21     16       EPS_1Y_exp_Change_QoQ   1.066667\n",
      "22     16                         ROE   1.066667\n",
      "20     15                          ES   1.000000\n",
      "19     14                      YoY_PE   0.933333\n",
      "18     10                      YoY_DY   0.666667\n",
      "17      9              EPS_YoY_Growth   0.600000\n",
      "16      8                          DY   0.533333\n",
      "15      7               PEG_Backwards   0.466667\n",
      "14      7          EPS_QoQ_frcst_diff   0.466667\n",
      "13      7          Acc_Rec_Pay_Ration   0.466667\n",
      "12      6                    YoY_PEGF   0.400000\n",
      "10      5                          DE   0.333333\n",
      "11      5                      YoY_ES   0.333333\n",
      "9       4                    YoY_PEGB   0.266667\n",
      "8       4                      YoY_GM   0.266667\n",
      "7       4                      YoY_CR   0.266667\n",
      "6       4                         DPR   0.266667\n",
      "5       3                          GM   0.200000\n",
      "4       3                          CR   0.200000\n",
      "2       2                EPS_surprise   0.133333\n",
      "3       2                     YoY_DPR   0.133333\n",
      "1       1               YoY_Piotroski   0.066667\n",
      "0       0             Piotroski_Score   0.000000\n"
     ]
    },
    {
     "data": {
      "image/png": "[encoded data removed]",
      "text/plain": [
       "<Figure size 720x720 with 1 Axes>"
      ]
     },
     "metadata": {
      "needs_background": "light"
     },
     "output_type": "display_data"
    },
    {
     "name": "stdout",
     "output_type": "stream",
     "text": [
      "Accuracy of prediction:8.3982\n",
      "\n",
      "\n",
      "Increase or decrease predicted correctly:\n",
      "          Real  Value, %\n",
      "Correct                 \n",
      "0        14219     42.98\n",
      "1        18860     57.02\n",
      "\n",
      "Total cases evaluated: 33079\n",
      "    Value                     Feature   Value, %\n",
      "40    271                    industry  18.066667\n",
      "39    181           days_after_crisis  12.066667\n",
      "38    110             Fed_Balance_YoY   7.333333\n",
      "37     99                    VIX_high   6.600000\n",
      "36     99           EPS_1Y_exp_Change   6.600000\n",
      "35     67                    10YB_YoY   4.466667\n",
      "34     54             Fed_Balance_MoM   3.600000\n",
      "33     54           10YB_200MA_Vector   3.600000\n",
      "32     41                     VIX_MoM   2.733333\n",
      "31     41            10Y_Val_to_200MA   2.733333\n",
      "30     38                     10YBond   2.533333\n",
      "29     35                    10YB_MoM   2.333333\n",
      "28     32             10Y_Val_to_30MA   2.133333\n",
      "27     29                      YoY_PE   1.933333\n",
      "26     28       EPS_1Y_exp_Change_QoQ   1.866667\n",
      "25     27                         ROE   1.800000\n",
      "24     27                          PE   1.800000\n",
      "23     22                          ES   1.466667\n",
      "22     21                 PEG_Forward   1.400000\n",
      "21     20                          DY   1.333333\n",
      "20     19                      YoY_DY   1.266667\n",
      "19     19              EPS_YoY_Growth   1.266667\n",
      "18     17                     VIX_WoW   1.133333\n",
      "17     13                          CR   0.866667\n",
      "16     12  days_after_earnings_report   0.800000\n",
      "15     12               YoY_Piotroski   0.800000\n",
      "14     12                     VIX_DoD   0.800000\n",
      "13     11                    YoY_PEGF   0.733333\n",
      "12     11          Acc_Rec_Pay_Ration   0.733333\n",
      "10     10                      YoY_ES   0.666667\n",
      "9      10                      YoY_CR   0.666667\n",
      "8      10                          DE   0.666667\n",
      "11     10                      YoY_GM   0.666667\n",
      "7       9                          GM   0.600000\n",
      "6       6               PEG_Backwards   0.400000\n",
      "5       5          EPS_QoQ_frcst_diff   0.333333\n",
      "4       5                         DPR   0.333333\n",
      "2       4                EPS_surprise   0.266667\n",
      "3       4                     YoY_DPR   0.266667\n",
      "1       3                    YoY_PEGB   0.200000\n",
      "0       2             Piotroski_Score   0.133333\n"
     ]
    },
    {
     "data": {
      "image/png": "[encoded data removed]",
      "text/plain": [
       "<Figure size 720x720 with 1 Axes>"
      ]
     },
     "metadata": {
      "needs_background": "light"
     },
     "output_type": "display_data"
    },
    {
     "name": "stdout",
     "output_type": "stream",
     "text": [
      "Accuracy of prediction:15.2493\n",
      "\n",
      "\n",
      "Increase or decrease predicted correctly:\n",
      "          Real  Value, %\n",
      "Correct                 \n",
      "0        18887     58.04\n",
      "1        13657     41.96\n",
      "\n",
      "Total cases evaluated: 32544\n",
      "    Value                     Feature   Value, %\n",
      "40    312                    industry  20.800000\n",
      "39    175           days_after_crisis  11.666667\n",
      "38    114           EPS_1Y_exp_Change   7.600000\n",
      "37    113             Fed_Balance_YoY   7.533333\n",
      "36     60       EPS_1Y_exp_Change_QoQ   4.000000\n",
      "35     47                    VIX_high   3.133333\n",
      "34     47                    10YB_YoY   3.133333\n",
      "33     40                          PE   2.666667\n",
      "32     37                     10YBond   2.466667\n",
      "31     33                          ES   2.200000\n",
      "30     32              EPS_YoY_Growth   2.133333\n",
      "29     31           10YB_200MA_Vector   2.066667\n",
      "28     30                         ROE   2.000000\n",
      "27     28                      YoY_PE   1.866667\n",
      "26     28             Fed_Balance_MoM   1.866667\n",
      "25     27                 PEG_Forward   1.800000\n",
      "24     27            10Y_Val_to_200MA   1.800000\n",
      "23     26                    YoY_PEGF   1.733333\n",
      "21     23                      YoY_ES   1.533333\n",
      "22     23               YoY_Piotroski   1.533333\n",
      "20     21                      YoY_DY   1.400000\n",
      "18     21          Acc_Rec_Pay_Ration   1.400000\n",
      "19     21                          DE   1.400000\n",
      "17     20                          DY   1.333333\n",
      "16     20                          CR   1.333333\n",
      "15     20             10Y_Val_to_30MA   1.333333\n",
      "14     18                      YoY_GM   1.200000\n",
      "13     17                     VIX_MoM   1.133333\n",
      "12     12                EPS_surprise   0.800000\n",
      "11     10                      YoY_CR   0.666667\n",
      "8       9                         DPR   0.600000\n",
      "7       9                    10YB_MoM   0.600000\n",
      "10      9                    YoY_PEGB   0.600000\n",
      "9       9                          GM   0.600000\n",
      "6       8                     YoY_DPR   0.533333\n",
      "5       7               PEG_Backwards   0.466667\n",
      "4       5  days_after_earnings_report   0.333333\n",
      "3       4             Piotroski_Score   0.266667\n",
      "2       3                     VIX_WoW   0.200000\n",
      "1       3                     VIX_DoD   0.200000\n",
      "0       1          EPS_QoQ_frcst_diff   0.066667\n"
     ]
    },
    {
     "data": {
      "image/png": "[encoded data removed]",
      "text/plain": [
       "<Figure size 720x720 with 1 Axes>"
      ]
     },
     "metadata": {
      "needs_background": "light"
     },
     "output_type": "display_data"
    },
    {
     "name": "stdout",
     "output_type": "stream",
     "text": [
      "Accuracy of prediction:12.1276\n",
      "\n",
      "\n",
      "Increase or decrease predicted correctly:\n",
      "          Real  Value, %\n",
      "Correct                 \n",
      "0        14676     45.85\n",
      "1        17331     54.15\n",
      "\n",
      "Total cases evaluated: 32007\n",
      "    Value                     Feature   Value, %\n",
      "40    313                    industry  20.866667\n",
      "39    158           days_after_crisis  10.533333\n",
      "38    139           EPS_1Y_exp_Change   9.266667\n",
      "37     86             Fed_Balance_YoY   5.733333\n",
      "36     49       EPS_1Y_exp_Change_QoQ   3.266667\n",
      "35     48                    10YB_YoY   3.200000\n",
      "34     43                          PE   2.866667\n",
      "32     38              EPS_YoY_Growth   2.533333\n",
      "33     38                         ROE   2.533333\n",
      "31     35                 PEG_Forward   2.333333\n",
      "30     32                    VIX_high   2.133333\n",
      "29     32                          DE   2.133333\n",
      "28     31                      YoY_DY   2.066667\n",
      "27     31                          ES   2.066667\n",
      "26     30                    YoY_PEGF   2.000000\n",
      "25     28           10YB_200MA_Vector   1.866667\n",
      "24     27                          CR   1.800000\n",
      "23     27          Acc_Rec_Pay_Ration   1.800000\n",
      "22     27                     10YBond   1.800000\n",
      "21     24                          GM   1.600000\n",
      "20     23                      YoY_GM   1.533333\n",
      "19     23                      YoY_ES   1.533333\n",
      "18     23                EPS_surprise   1.533333\n",
      "17     23            10Y_Val_to_200MA   1.533333\n",
      "16     22                          DY   1.466667\n",
      "15     20                      YoY_PE   1.333333\n",
      "14     20                      YoY_CR   1.333333\n",
      "13     20               PEG_Backwards   1.333333\n",
      "12     18               YoY_Piotroski   1.200000\n",
      "11     15                         DPR   1.000000\n",
      "10     14             Fed_Balance_MoM   0.933333\n",
      "9      10                     VIX_MoM   0.666667\n",
      "8       9                     YoY_DPR   0.600000\n",
      "7       8             10Y_Val_to_30MA   0.533333\n",
      "6       7             Piotroski_Score   0.466667\n",
      "5       3                    YoY_PEGB   0.200000\n",
      "4       3          EPS_QoQ_frcst_diff   0.200000\n",
      "3       3                    10YB_MoM   0.200000\n",
      "2       0  days_after_earnings_report   0.000000\n",
      "1       0                     VIX_WoW   0.000000\n",
      "0       0                     VIX_DoD   0.000000\n"
     ]
    },
    {
     "data": {
      "image/png": "[encoded data removed]",
      "text/plain": [
       "<Figure size 720x720 with 1 Axes>"
      ]
     },
     "metadata": {
      "needs_background": "light"
     },
     "output_type": "display_data"
    },
    {
     "name": "stdout",
     "output_type": "stream",
     "text": [
      "Accuracy of prediction:14.1782\n",
      "\n",
      "\n",
      "Increase or decrease predicted correctly:\n",
      "          Real  Value, %\n",
      "Correct                 \n",
      "0        15325      48.7\n",
      "1        16145      51.3\n",
      "\n",
      "Total cases evaluated: 31470\n",
      "    Value                     Feature   Value, %\n",
      "40    323                    industry  21.533333\n",
      "39    155           days_after_crisis  10.333333\n",
      "38    118           EPS_1Y_exp_Change   7.866667\n",
      "37     70       EPS_1Y_exp_Change_QoQ   4.666667\n",
      "36     64             Fed_Balance_YoY   4.266667\n",
      "35     47              EPS_YoY_Growth   3.133333\n",
      "34     45                          PE   3.000000\n",
      "33     42                    VIX_high   2.800000\n",
      "32     39                         ROE   2.600000\n",
      "30     36                    10YB_YoY   2.400000\n",
      "31     36                          CR   2.400000\n",
      "29     35                          ES   2.333333\n",
      "28     33                          GM   2.200000\n",
      "27     33            10Y_Val_to_200MA   2.200000\n",
      "26     32                 PEG_Forward   2.133333\n",
      "25     31                      YoY_DY   2.066667\n",
      "24     31                          DY   2.066667\n",
      "23     29                      YoY_PE   1.933333\n",
      "22     28                          DE   1.866667\n",
      "21     27           10YB_200MA_Vector   1.800000\n",
      "20     24                      YoY_GM   1.600000\n",
      "19     24          Acc_Rec_Pay_Ration   1.600000\n",
      "18     24                     10YBond   1.600000\n",
      "17     23                    YoY_PEGF   1.533333\n",
      "16     22             Fed_Balance_MoM   1.466667\n",
      "15     21                      YoY_ES   1.400000\n",
      "14     20                EPS_surprise   1.333333\n",
      "13     19               YoY_Piotroski   1.266667\n",
      "12     18                         DPR   1.200000\n",
      "11     11                      YoY_CR   0.733333\n",
      "10      8                     YoY_DPR   0.533333\n",
      "9       6                     VIX_MoM   0.400000\n",
      "8       6               PEG_Backwards   0.400000\n",
      "7       5                    YoY_PEGB   0.333333\n",
      "6       4             Piotroski_Score   0.266667\n",
      "5       4                    10YB_MoM   0.266667\n",
      "4       3  days_after_earnings_report   0.200000\n",
      "3       3             10Y_Val_to_30MA   0.200000\n",
      "2       1                     VIX_WoW   0.066667\n",
      "1       0                     VIX_DoD   0.000000\n",
      "0       0          EPS_QoQ_frcst_diff   0.000000\n"
     ]
    },
    {
     "data": {
      "image/png": "[encoded data removed]",
      "text/plain": [
       "<Figure size 720x720 with 1 Axes>"
      ]
     },
     "metadata": {
      "needs_background": "light"
     },
     "output_type": "display_data"
    },
    {
     "name": "stdout",
     "output_type": "stream",
     "text": [
      "Accuracy of prediction:18.5094\n",
      "\n",
      "\n",
      "Increase or decrease predicted correctly:\n",
      "          Real  Value, %\n",
      "Correct                 \n",
      "0        14528     46.96\n",
      "1        16406     53.04\n",
      "\n",
      "Total cases evaluated: 30934\n",
      "    Value                     Feature   Value, %\n",
      "40    312                    industry  20.800000\n",
      "39    128           EPS_1Y_exp_Change   8.533333\n",
      "38    123           days_after_crisis   8.200000\n",
      "37     77       EPS_1Y_exp_Change_QoQ   5.133333\n",
      "36     63             Fed_Balance_YoY   4.200000\n",
      "35     53              EPS_YoY_Growth   3.533333\n",
      "34     44                          GM   2.933333\n",
      "33     43                          PE   2.866667\n",
      "32     41                    VIX_high   2.733333\n",
      "31     39                          CR   2.600000\n",
      "30     38                          DY   2.533333\n",
      "29     37                      YoY_DY   2.466667\n",
      "28     37                          DE   2.466667\n",
      "27     36                         ROE   2.400000\n",
      "26     35                      YoY_GM   2.333333\n",
      "25     33                 PEG_Forward   2.200000\n",
      "24     30               YoY_Piotroski   2.000000\n",
      "23     29           10YB_200MA_Vector   1.933333\n",
      "21     28                          ES   1.866667\n",
      "22     28             Fed_Balance_MoM   1.866667\n",
      "20     27                      YoY_PE   1.800000\n",
      "19     25                    10YB_YoY   1.666667\n",
      "18     24                     10YBond   1.600000\n",
      "17     23                      YoY_ES   1.533333\n",
      "16     21                    YoY_PEGF   1.400000\n",
      "15     19          Acc_Rec_Pay_Ration   1.266667\n",
      "14     18                EPS_surprise   1.200000\n",
      "13     18                         DPR   1.200000\n",
      "12     18            10Y_Val_to_200MA   1.200000\n",
      "11     12                      YoY_CR   0.800000\n",
      "10     10                     YoY_DPR   0.666667\n",
      "9       9                     VIX_MoM   0.600000\n",
      "8       7               PEG_Backwards   0.466667\n",
      "7       6             Piotroski_Score   0.400000\n",
      "6       4                    YoY_PEGB   0.266667\n",
      "5       3                    10YB_MoM   0.200000\n",
      "4       1  days_after_earnings_report   0.066667\n",
      "3       1          EPS_QoQ_frcst_diff   0.066667\n",
      "2       0                     VIX_WoW   0.000000\n",
      "1       0                     VIX_DoD   0.000000\n",
      "0       0             10Y_Val_to_30MA   0.000000\n"
     ]
    }
   ],
   "source": [
    "targets_all =[\"future_15dprice_change\",\"future_30dprice_change\",\"future_60dprice_change\",\"future_90dprice_change\",\"future_120dprice_change\",\"future_150dprice_change\"]\n",
    "periods = [\"15days\", \"30days\", \"60days\", \"90days\", \"120days\", \"150days\"]\n",
    "\n",
    "MAEs = []\n",
    "acc_percent_list = []\n",
    "feature_importances = []\n",
    "list_of_regression_models = []\n",
    "\n",
    "for j, i in enumerate(targets_all):\n",
    "    remove_redundant_list = list(targets_all)\n",
    "    remove_redundant_list.remove(i)\n",
    "\n",
    "    #df_compact_temp = df_compact.drop(remove_redundant_list,axis = 1)\n",
    "    #df_compact_temp = df_compact_temp[df_compact_temp[i].notna()]\n",
    "    \n",
    "    df_train, df_test = train_dfs_list[j], test_dfs_list[j]\n",
    "    df_train = df_train.drop(remove_redundant_list,axis = 1).copy()\n",
    "    df_test = df_test.drop(remove_redundant_list,axis = 1).copy()\n",
    "    df_train = df_train[df_train[i].notna()]\n",
    "    df_test = df_test[df_test[i].notna()]\n",
    "    #df_train, df_test = train_test_split(df_compact_temp, test_size=0.2, random_state=42)\n",
    "\n",
    "    #df_train.drop([\"stock\"], axis = 1, inplace = True)\n",
    "    #df_test.drop([\"stock\"], axis = 1, inplace = True)\n",
    "    df_train.drop([\"stock\",\"sector\"], axis = 1, inplace = True)\n",
    "    df_test.drop([\"stock\",\"sector\"], axis = 1, inplace = True)\n",
    "\n",
    "    le = LabelEncoder()\n",
    "    #le.fit(df_train[\"sector\"])\n",
    "    #df_train[\"sector\"] = le.transform(df_train[\"sector\"])\n",
    "    #df_test[\"sector\"] = le.transform(df_test[\"sector\"])\n",
    "    le.fit(df_train[\"industry\"])\n",
    "    df_train[\"industry\"] = le.transform(df_train[\"industry\"])\n",
    "    df_test[\"industry\"] = le.transform(df_test[\"industry\"])\n",
    "\n",
    "    #Creating the x, y variables \n",
    "    y_train = df_train[i]\n",
    "    y_test = df_test[i]\n",
    "\n",
    "    x_train = df_train.drop(i, axis = 1)\n",
    "    x_test = df_test.drop(i, axis = 1)\n",
    "\n",
    "    lgbm = lgb.LGBMRegressor(random_state=42,n_jobs = 5, n_estimators = 50)\n",
    "    list_of_regression_models.append(lgbm)\n",
    "    #lgbm.fit(x_train, y_train, categorical_feature=['sector'])\n",
    "    lgbm.fit(x_train, y_train, categorical_feature=['industry'])\n",
    "\n",
    "    #predicting on test set\n",
    "    ypred=lgbm.predict(x_test)\n",
    "\n",
    "    true_predict_plot(y_test, ypred, periods[j] +' price forecast')\n",
    "\n",
    "    #calculating accuracy\n",
    "    from sklearn.metrics import mean_absolute_error as mae\n",
    "    accuracy = mae(y_test, ypred)\n",
    "    MAEs.append(accuracy)\n",
    "    print(f\"Accuracy of prediction:{accuracy:0.4f}\")\n",
    "\n",
    "    print(\"\\n\\nIncrease or decrease predicted correctly:\")\n",
    "    acc_percent = accuracy_df(y_test, ypred)\n",
    "    acc_percent = acc_percent[\"Value, %\"][1]\n",
    "    acc_percent_list.append(acc_percent)\n",
    "    \n",
    "    feature_imp = pd.DataFrame(sorted(zip(lgbm.feature_importances_,x_train.columns)), columns=['Value','Feature'])\n",
    "    feature_imp[\"Value, %\"] = (feature_imp['Value'] / feature_imp['Value'].sum()) * 100\n",
    "    print(feature_imp.sort_values(by='Value, %', ascending=False))\n",
    "    feature_importances.append(feature_imp[[\"Feature\", \"Value, %\"]])"
   ]
  },
  {
   "cell_type": "markdown",
   "metadata": {},
   "source": [
    "### Result summarization"
   ]
  },
  {
   "cell_type": "code",
   "execution_count": 18,
   "metadata": {},
   "outputs": [
    {
     "name": "stdout",
     "output_type": "stream",
     "text": [
      "                         Absolute Error  Correctly Predicted Price Direction\n",
      "Forecasted Period, days                                                     \n",
      "15                               602.02                                48.84\n",
      "30                               839.82                                57.02\n",
      "60                              1524.93                                41.96\n",
      "90                              1212.76                                54.15\n",
      "120                             1417.82                                51.30\n",
      "150                             1850.94                                53.04\n"
     ]
    }
   ],
   "source": [
    "MAEs = [round(x*100,2) for x in MAEs]\n",
    "\n",
    "index = [15,30,60,90,120,150]\n",
    "accuracy_compare_dt = {\"Absolute Error\":MAEs,\"Correctly Predicted Price Direction\":acc_percent_list}\n",
    "accuracy_compare_df= pd.DataFrame(accuracy_compare_dt, index=index)\n",
    "accuracy_compare_df.index.name = \"Forecasted Period, days\"\n",
    "\n",
    "print(accuracy_compare_df)"
   ]
  },
  {
   "cell_type": "markdown",
   "metadata": {},
   "source": [
    "We see that error is above 50% that states that the model performance is poor."
   ]
  },
  {
   "cell_type": "code",
   "execution_count": 19,
   "metadata": {},
   "outputs": [
    {
     "data": {
      "text/html": [
       "<div>\n",
       "<style scoped>\n",
       "    .dataframe tbody tr th:only-of-type {\n",
       "        vertical-align: middle;\n",
       "    }\n",
       "\n",
       "    .dataframe tbody tr th {\n",
       "        vertical-align: top;\n",
       "    }\n",
       "\n",
       "    .dataframe thead th {\n",
       "        text-align: right;\n",
       "    }\n",
       "</style>\n",
       "<table border=\"1\" class=\"dataframe\">\n",
       "  <thead>\n",
       "    <tr style=\"text-align: right;\">\n",
       "      <th></th>\n",
       "      <th>0</th>\n",
       "      <th>1</th>\n",
       "      <th>2</th>\n",
       "      <th>3</th>\n",
       "      <th>4</th>\n",
       "      <th>5</th>\n",
       "      <th>6</th>\n",
       "      <th>7</th>\n",
       "      <th>8</th>\n",
       "      <th>9</th>\n",
       "      <th>...</th>\n",
       "      <th>31</th>\n",
       "      <th>32</th>\n",
       "      <th>33</th>\n",
       "      <th>34</th>\n",
       "      <th>35</th>\n",
       "      <th>36</th>\n",
       "      <th>37</th>\n",
       "      <th>38</th>\n",
       "      <th>39</th>\n",
       "      <th>40</th>\n",
       "    </tr>\n",
       "  </thead>\n",
       "  <tbody>\n",
       "    <tr>\n",
       "      <th>15</th>\n",
       "      <td>industry</td>\n",
       "      <td>days_after_crisis</td>\n",
       "      <td>VIX_high</td>\n",
       "      <td>Fed_Balance_YoY</td>\n",
       "      <td>EPS_1Y_exp_Change</td>\n",
       "      <td>10YB_MoM</td>\n",
       "      <td>10YB_YoY</td>\n",
       "      <td>10Y_Val_to_30MA</td>\n",
       "      <td>VIX_WoW</td>\n",
       "      <td>Fed_Balance_MoM</td>\n",
       "      <td>...</td>\n",
       "      <td>YoY_PEGB</td>\n",
       "      <td>YoY_GM</td>\n",
       "      <td>YoY_CR</td>\n",
       "      <td>DPR</td>\n",
       "      <td>GM</td>\n",
       "      <td>CR</td>\n",
       "      <td>EPS_surprise</td>\n",
       "      <td>YoY_DPR</td>\n",
       "      <td>YoY_Piotroski</td>\n",
       "      <td>Piotroski_Score</td>\n",
       "    </tr>\n",
       "    <tr>\n",
       "      <th>30</th>\n",
       "      <td>industry</td>\n",
       "      <td>days_after_crisis</td>\n",
       "      <td>Fed_Balance_YoY</td>\n",
       "      <td>VIX_high</td>\n",
       "      <td>EPS_1Y_exp_Change</td>\n",
       "      <td>10YB_YoY</td>\n",
       "      <td>Fed_Balance_MoM</td>\n",
       "      <td>10YB_200MA_Vector</td>\n",
       "      <td>VIX_MoM</td>\n",
       "      <td>10Y_Val_to_200MA</td>\n",
       "      <td>...</td>\n",
       "      <td>DE</td>\n",
       "      <td>YoY_GM</td>\n",
       "      <td>GM</td>\n",
       "      <td>PEG_Backwards</td>\n",
       "      <td>EPS_QoQ_frcst_diff</td>\n",
       "      <td>DPR</td>\n",
       "      <td>EPS_surprise</td>\n",
       "      <td>YoY_DPR</td>\n",
       "      <td>YoY_PEGB</td>\n",
       "      <td>Piotroski_Score</td>\n",
       "    </tr>\n",
       "    <tr>\n",
       "      <th>60</th>\n",
       "      <td>industry</td>\n",
       "      <td>days_after_crisis</td>\n",
       "      <td>EPS_1Y_exp_Change</td>\n",
       "      <td>Fed_Balance_YoY</td>\n",
       "      <td>EPS_1Y_exp_Change_QoQ</td>\n",
       "      <td>VIX_high</td>\n",
       "      <td>10YB_YoY</td>\n",
       "      <td>PE</td>\n",
       "      <td>10YBond</td>\n",
       "      <td>ES</td>\n",
       "      <td>...</td>\n",
       "      <td>10YB_MoM</td>\n",
       "      <td>YoY_PEGB</td>\n",
       "      <td>GM</td>\n",
       "      <td>YoY_DPR</td>\n",
       "      <td>PEG_Backwards</td>\n",
       "      <td>days_after_earnings_report</td>\n",
       "      <td>Piotroski_Score</td>\n",
       "      <td>VIX_WoW</td>\n",
       "      <td>VIX_DoD</td>\n",
       "      <td>EPS_QoQ_frcst_diff</td>\n",
       "    </tr>\n",
       "    <tr>\n",
       "      <th>90</th>\n",
       "      <td>industry</td>\n",
       "      <td>days_after_crisis</td>\n",
       "      <td>EPS_1Y_exp_Change</td>\n",
       "      <td>Fed_Balance_YoY</td>\n",
       "      <td>EPS_1Y_exp_Change_QoQ</td>\n",
       "      <td>10YB_YoY</td>\n",
       "      <td>PE</td>\n",
       "      <td>EPS_YoY_Growth</td>\n",
       "      <td>ROE</td>\n",
       "      <td>PEG_Forward</td>\n",
       "      <td>...</td>\n",
       "      <td>VIX_MoM</td>\n",
       "      <td>YoY_DPR</td>\n",
       "      <td>10Y_Val_to_30MA</td>\n",
       "      <td>Piotroski_Score</td>\n",
       "      <td>YoY_PEGB</td>\n",
       "      <td>EPS_QoQ_frcst_diff</td>\n",
       "      <td>10YB_MoM</td>\n",
       "      <td>days_after_earnings_report</td>\n",
       "      <td>VIX_WoW</td>\n",
       "      <td>VIX_DoD</td>\n",
       "    </tr>\n",
       "    <tr>\n",
       "      <th>120</th>\n",
       "      <td>industry</td>\n",
       "      <td>days_after_crisis</td>\n",
       "      <td>EPS_1Y_exp_Change</td>\n",
       "      <td>EPS_1Y_exp_Change_QoQ</td>\n",
       "      <td>Fed_Balance_YoY</td>\n",
       "      <td>EPS_YoY_Growth</td>\n",
       "      <td>PE</td>\n",
       "      <td>VIX_high</td>\n",
       "      <td>ROE</td>\n",
       "      <td>10YB_YoY</td>\n",
       "      <td>...</td>\n",
       "      <td>VIX_MoM</td>\n",
       "      <td>PEG_Backwards</td>\n",
       "      <td>YoY_PEGB</td>\n",
       "      <td>Piotroski_Score</td>\n",
       "      <td>10YB_MoM</td>\n",
       "      <td>days_after_earnings_report</td>\n",
       "      <td>10Y_Val_to_30MA</td>\n",
       "      <td>VIX_WoW</td>\n",
       "      <td>VIX_DoD</td>\n",
       "      <td>EPS_QoQ_frcst_diff</td>\n",
       "    </tr>\n",
       "    <tr>\n",
       "      <th>150</th>\n",
       "      <td>industry</td>\n",
       "      <td>EPS_1Y_exp_Change</td>\n",
       "      <td>days_after_crisis</td>\n",
       "      <td>EPS_1Y_exp_Change_QoQ</td>\n",
       "      <td>Fed_Balance_YoY</td>\n",
       "      <td>EPS_YoY_Growth</td>\n",
       "      <td>GM</td>\n",
       "      <td>PE</td>\n",
       "      <td>VIX_high</td>\n",
       "      <td>CR</td>\n",
       "      <td>...</td>\n",
       "      <td>VIX_MoM</td>\n",
       "      <td>PEG_Backwards</td>\n",
       "      <td>Piotroski_Score</td>\n",
       "      <td>YoY_PEGB</td>\n",
       "      <td>10YB_MoM</td>\n",
       "      <td>days_after_earnings_report</td>\n",
       "      <td>EPS_QoQ_frcst_diff</td>\n",
       "      <td>VIX_WoW</td>\n",
       "      <td>VIX_DoD</td>\n",
       "      <td>10Y_Val_to_30MA</td>\n",
       "    </tr>\n",
       "  </tbody>\n",
       "</table>\n",
       "<p>6 rows × 41 columns</p>\n",
       "</div>"
      ],
      "text/plain": [
       "           0                  1                  2                      3   \\\n",
       "15   industry  days_after_crisis           VIX_high        Fed_Balance_YoY   \n",
       "30   industry  days_after_crisis    Fed_Balance_YoY               VIX_high   \n",
       "60   industry  days_after_crisis  EPS_1Y_exp_Change        Fed_Balance_YoY   \n",
       "90   industry  days_after_crisis  EPS_1Y_exp_Change        Fed_Balance_YoY   \n",
       "120  industry  days_after_crisis  EPS_1Y_exp_Change  EPS_1Y_exp_Change_QoQ   \n",
       "150  industry  EPS_1Y_exp_Change  days_after_crisis  EPS_1Y_exp_Change_QoQ   \n",
       "\n",
       "                        4               5                6   \\\n",
       "15       EPS_1Y_exp_Change        10YB_MoM         10YB_YoY   \n",
       "30       EPS_1Y_exp_Change        10YB_YoY  Fed_Balance_MoM   \n",
       "60   EPS_1Y_exp_Change_QoQ        VIX_high         10YB_YoY   \n",
       "90   EPS_1Y_exp_Change_QoQ        10YB_YoY               PE   \n",
       "120        Fed_Balance_YoY  EPS_YoY_Growth               PE   \n",
       "150        Fed_Balance_YoY  EPS_YoY_Growth               GM   \n",
       "\n",
       "                    7         8                 9   ...        31  \\\n",
       "15     10Y_Val_to_30MA   VIX_WoW   Fed_Balance_MoM  ...  YoY_PEGB   \n",
       "30   10YB_200MA_Vector   VIX_MoM  10Y_Val_to_200MA  ...        DE   \n",
       "60                  PE   10YBond                ES  ...  10YB_MoM   \n",
       "90      EPS_YoY_Growth       ROE       PEG_Forward  ...   VIX_MoM   \n",
       "120           VIX_high       ROE          10YB_YoY  ...   VIX_MoM   \n",
       "150                 PE  VIX_high                CR  ...   VIX_MoM   \n",
       "\n",
       "                32               33               34                  35  \\\n",
       "15          YoY_GM           YoY_CR              DPR                  GM   \n",
       "30          YoY_GM               GM    PEG_Backwards  EPS_QoQ_frcst_diff   \n",
       "60        YoY_PEGB               GM          YoY_DPR       PEG_Backwards   \n",
       "90         YoY_DPR  10Y_Val_to_30MA  Piotroski_Score            YoY_PEGB   \n",
       "120  PEG_Backwards         YoY_PEGB  Piotroski_Score            10YB_MoM   \n",
       "150  PEG_Backwards  Piotroski_Score         YoY_PEGB            10YB_MoM   \n",
       "\n",
       "                             36                  37  \\\n",
       "15                           CR        EPS_surprise   \n",
       "30                          DPR        EPS_surprise   \n",
       "60   days_after_earnings_report     Piotroski_Score   \n",
       "90           EPS_QoQ_frcst_diff            10YB_MoM   \n",
       "120  days_after_earnings_report     10Y_Val_to_30MA   \n",
       "150  days_after_earnings_report  EPS_QoQ_frcst_diff   \n",
       "\n",
       "                             38             39                  40  \n",
       "15                      YoY_DPR  YoY_Piotroski     Piotroski_Score  \n",
       "30                      YoY_DPR       YoY_PEGB     Piotroski_Score  \n",
       "60                      VIX_WoW        VIX_DoD  EPS_QoQ_frcst_diff  \n",
       "90   days_after_earnings_report        VIX_WoW             VIX_DoD  \n",
       "120                     VIX_WoW        VIX_DoD  EPS_QoQ_frcst_diff  \n",
       "150                     VIX_WoW        VIX_DoD     10Y_Val_to_30MA  \n",
       "\n",
       "[6 rows x 41 columns]"
      ]
     },
     "execution_count": 19,
     "metadata": {},
     "output_type": "execute_result"
    }
   ],
   "source": [
    "all_features_evolution = []\n",
    "for i, j in enumerate(feature_importances):\n",
    "    features_sorted = feature_importances[i].sort_values(by='Value, %', ascending=False)[\"Feature\"].tolist()\n",
    "    all_features_evolution.append(features_sorted)\n",
    "\n",
    "features_evolution = pd.DataFrame(all_features_evolution, index = index)\n",
    "accuracy_compare_df.index.name = \"Forecasted Period, days\"\n",
    "features_evolution"
   ]
  },
  {
   "cell_type": "markdown",
   "metadata": {},
   "source": [
    "As we see our model finds external factors as bonds rate and fear level as the best predictors even for the long term forecast. \n",
    "Dividends change timing also play it's role as the industry compny works in.\n",
    "My expectation was to see PE ratio in the top 5, but it seems it doesn't play a big role. "
   ]
  },
  {
   "cell_type": "markdown",
   "metadata": {},
   "source": [
    "## Changing the perspective"
   ]
  }
 ],
 "metadata": {
  "kernelspec": {
   "display_name": "Python 3 (ipykernel)",
   "language": "python",
   "name": "python3"
  },
  "language_info": {
   "codemirror_mode": {
    "name": "ipython",
    "version": 3
   },
   "file_extension": ".py",
   "mimetype": "text/x-python",
   "name": "python",
   "nbconvert_exporter": "python",
   "pygments_lexer": "ipython3",
   "version": "3.9.12"
  }
 },
 "nbformat": 4,
 "nbformat_minor": 4
}
