{
 "cells": [
  {
   "cell_type": "markdown",
   "metadata": {},
   "source": [
    "# ML Part Classification"
   ]
  },
  {
   "cell_type": "code",
   "execution_count": 1,
   "metadata": {},
   "outputs": [],
   "source": [
    "from jupyter_core.paths import jupyter_path\n",
    "import warnings\n",
    "warnings.filterwarnings('ignore')\n",
    "\n",
    "import numpy as np\n",
    "import pandas as pd\n",
    "import seaborn as sns\n",
    "import os\n",
    "import glob\n",
    "import matplotlib.pyplot as plt\n",
    "from datetime import date\n",
    "from datetime import datetime\n",
    "from datetime import timedelta"
   ]
  },
  {
   "cell_type": "code",
   "execution_count": 2,
   "metadata": {},
   "outputs": [],
   "source": [
    "from sklearn.model_selection import train_test_split\n",
    "from sklearn.preprocessing import LabelEncoder\n",
    "from sklearn.model_selection import TimeSeriesSplit\n",
    "from sklearn import metrics\n",
    "from sklearn.metrics import mean_absolute_error as mae\n",
    "from sklearn.metrics import accuracy_score, roc_curve, roc_auc_score, f1_score\n",
    "from sklearn.metrics import confusion_matrix\n",
    "from sklearn.metrics import classification_report\n",
    "from sklearn.metrics import precision_score\n",
    "from sklearn.model_selection import GridSearchCV\n",
    "from sklearn.model_selection import KFold\n",
    "import lightgbm as lgb # Our ML library"
   ]
  },
  {
   "cell_type": "code",
   "execution_count": 3,
   "metadata": {},
   "outputs": [],
   "source": [
    "#Cross validation libraries\n",
    "from sklearn.model_selection import TimeSeriesSplit"
   ]
  },
  {
   "cell_type": "code",
   "execution_count": 4,
   "metadata": {},
   "outputs": [],
   "source": [
    "import joblib"
   ]
  },
  {
   "cell_type": "code",
   "execution_count": 5,
   "metadata": {},
   "outputs": [
    {
     "data": {
      "text/plain": [
       "(527036, 55)"
      ]
     },
     "execution_count": 5,
     "metadata": {},
     "output_type": "execute_result"
    }
   ],
   "source": [
    "os.chdir(\"C:/Users/oleg.kazanskyi/OneDrive - Danaher/Documents/Trading/ML_Part/EOD\")\n",
    "df_compact = pd.read_csv(\"full_cleaned_dataframe_2023.csv\")\n",
    "df_compact.shape"
   ]
  },
  {
   "cell_type": "code",
   "execution_count": 6,
   "metadata": {},
   "outputs": [],
   "source": [
    "df_compact[\"date\"] = df_compact[\"date\"].apply(pd.to_datetime, errors='coerce')"
   ]
  },
  {
   "cell_type": "code",
   "execution_count": 7,
   "metadata": {},
   "outputs": [],
   "source": [
    "df_copy = df_compact.copy()"
   ]
  },
  {
   "cell_type": "code",
   "execution_count": 8,
   "metadata": {},
   "outputs": [],
   "source": [
    "df_compact.sort_values(by = \"date\", ascending = False, inplace = True)"
   ]
  },
  {
   "cell_type": "code",
   "execution_count": 9,
   "metadata": {},
   "outputs": [
    {
     "data": {
      "text/html": [
       "<div>\n",
       "<style scoped>\n",
       "    .dataframe tbody tr th:only-of-type {\n",
       "        vertical-align: middle;\n",
       "    }\n",
       "\n",
       "    .dataframe tbody tr th {\n",
       "        vertical-align: top;\n",
       "    }\n",
       "\n",
       "    .dataframe thead th {\n",
       "        text-align: right;\n",
       "    }\n",
       "</style>\n",
       "<table border=\"1\" class=\"dataframe\">\n",
       "  <thead>\n",
       "    <tr style=\"text-align: right;\">\n",
       "      <th></th>\n",
       "      <th>date</th>\n",
       "      <th>days_after_earnings_report</th>\n",
       "      <th>open</th>\n",
       "      <th>close</th>\n",
       "      <th>sector</th>\n",
       "      <th>industry</th>\n",
       "      <th>DE</th>\n",
       "      <th>CR</th>\n",
       "      <th>GM</th>\n",
       "      <th>ROA</th>\n",
       "      <th>...</th>\n",
       "      <th>10YB_YoY</th>\n",
       "      <th>10YB_200MA_Vector</th>\n",
       "      <th>10Y_Val_to_30MA</th>\n",
       "      <th>10Y_Val_to_200MA</th>\n",
       "      <th>Fed_SMA50_vector</th>\n",
       "      <th>Fed_SMA200_vector</th>\n",
       "      <th>Fed_SMA50_position</th>\n",
       "      <th>Fed_SMA200_position</th>\n",
       "      <th>Fed_SMA50_to_200_position</th>\n",
       "      <th>Pays_Divds</th>\n",
       "    </tr>\n",
       "  </thead>\n",
       "  <tbody>\n",
       "    <tr>\n",
       "      <th>0</th>\n",
       "      <td>2023-03-17</td>\n",
       "      <td>17.0</td>\n",
       "      <td>136.89</td>\n",
       "      <td>133.18</td>\n",
       "      <td>Health Care</td>\n",
       "      <td>Pharmaceuticals, Biotechnology &amp; Life Sciences</td>\n",
       "      <td>0.373805</td>\n",
       "      <td>2.106405</td>\n",
       "      <td>0.551253</td>\n",
       "      <td>0.032237</td>\n",
       "      <td>...</td>\n",
       "      <td>56.240876</td>\n",
       "      <td>0.042431</td>\n",
       "      <td>-12.093456</td>\n",
       "      <td>-8.360444</td>\n",
       "      <td>0.0</td>\n",
       "      <td>0.0</td>\n",
       "      <td>0.0</td>\n",
       "      <td>0.0</td>\n",
       "      <td>0.0</td>\n",
       "      <td>0.0</td>\n",
       "    </tr>\n",
       "    <tr>\n",
       "      <th>305</th>\n",
       "      <td>2023-03-17</td>\n",
       "      <td>51.0</td>\n",
       "      <td>132.33</td>\n",
       "      <td>130.26</td>\n",
       "      <td>Real Estate</td>\n",
       "      <td>Real Estate</td>\n",
       "      <td>2.014324</td>\n",
       "      <td>0.445624</td>\n",
       "      <td>0.704082</td>\n",
       "      <td>0.010637</td>\n",
       "      <td>...</td>\n",
       "      <td>56.240876</td>\n",
       "      <td>0.042431</td>\n",
       "      <td>-12.093456</td>\n",
       "      <td>-8.360444</td>\n",
       "      <td>0.0</td>\n",
       "      <td>0.0</td>\n",
       "      <td>0.0</td>\n",
       "      <td>0.0</td>\n",
       "      <td>0.0</td>\n",
       "      <td>0.0</td>\n",
       "    </tr>\n",
       "    <tr>\n",
       "      <th>333</th>\n",
       "      <td>2023-03-17</td>\n",
       "      <td>51.0</td>\n",
       "      <td>76.29</td>\n",
       "      <td>75.67</td>\n",
       "      <td>Utilities</td>\n",
       "      <td>Utilities</td>\n",
       "      <td>0.579839</td>\n",
       "      <td>0.505338</td>\n",
       "      <td>0.756489</td>\n",
       "      <td>0.007972</td>\n",
       "      <td>...</td>\n",
       "      <td>56.240876</td>\n",
       "      <td>0.042431</td>\n",
       "      <td>-12.093456</td>\n",
       "      <td>-8.360444</td>\n",
       "      <td>0.0</td>\n",
       "      <td>0.0</td>\n",
       "      <td>0.0</td>\n",
       "      <td>0.0</td>\n",
       "      <td>0.0</td>\n",
       "      <td>0.0</td>\n",
       "    </tr>\n",
       "    <tr>\n",
       "      <th>332</th>\n",
       "      <td>2023-03-17</td>\n",
       "      <td>44.0</td>\n",
       "      <td>46.32</td>\n",
       "      <td>45.32</td>\n",
       "      <td>Consumer Staples</td>\n",
       "      <td>Food, Beverage &amp; Tobacco</td>\n",
       "      <td>2.596846</td>\n",
       "      <td>0.837976</td>\n",
       "      <td>0.690537</td>\n",
       "      <td>0.072793</td>\n",
       "      <td>...</td>\n",
       "      <td>56.240876</td>\n",
       "      <td>0.042431</td>\n",
       "      <td>-12.093456</td>\n",
       "      <td>-8.360444</td>\n",
       "      <td>0.0</td>\n",
       "      <td>0.0</td>\n",
       "      <td>0.0</td>\n",
       "      <td>0.0</td>\n",
       "      <td>0.0</td>\n",
       "      <td>0.0</td>\n",
       "    </tr>\n",
       "    <tr>\n",
       "      <th>331</th>\n",
       "      <td>2023-03-17</td>\n",
       "      <td>44.0</td>\n",
       "      <td>58.37</td>\n",
       "      <td>57.30</td>\n",
       "      <td>Industrials</td>\n",
       "      <td>Capital Goods</td>\n",
       "      <td>0.294917</td>\n",
       "      <td>1.023696</td>\n",
       "      <td>0.344595</td>\n",
       "      <td>0.003645</td>\n",
       "      <td>...</td>\n",
       "      <td>56.240876</td>\n",
       "      <td>0.042431</td>\n",
       "      <td>-12.093456</td>\n",
       "      <td>-8.360444</td>\n",
       "      <td>0.0</td>\n",
       "      <td>0.0</td>\n",
       "      <td>0.0</td>\n",
       "      <td>0.0</td>\n",
       "      <td>0.0</td>\n",
       "      <td>0.0</td>\n",
       "    </tr>\n",
       "  </tbody>\n",
       "</table>\n",
       "<p>5 rows × 55 columns</p>\n",
       "</div>"
      ],
      "text/plain": [
       "          date  days_after_earnings_report    open   close            sector  \\\n",
       "0   2023-03-17                        17.0  136.89  133.18       Health Care   \n",
       "305 2023-03-17                        51.0  132.33  130.26       Real Estate   \n",
       "333 2023-03-17                        51.0   76.29   75.67         Utilities   \n",
       "332 2023-03-17                        44.0   46.32   45.32  Consumer Staples   \n",
       "331 2023-03-17                        44.0   58.37   57.30       Industrials   \n",
       "\n",
       "                                           industry        DE        CR  \\\n",
       "0    Pharmaceuticals, Biotechnology & Life Sciences  0.373805  2.106405   \n",
       "305                                     Real Estate  2.014324  0.445624   \n",
       "333                                       Utilities  0.579839  0.505338   \n",
       "332                        Food, Beverage & Tobacco  2.596846  0.837976   \n",
       "331                                   Capital Goods  0.294917  1.023696   \n",
       "\n",
       "           GM       ROA  ...   10YB_YoY  10YB_200MA_Vector  10Y_Val_to_30MA  \\\n",
       "0    0.551253  0.032237  ...  56.240876           0.042431       -12.093456   \n",
       "305  0.704082  0.010637  ...  56.240876           0.042431       -12.093456   \n",
       "333  0.756489  0.007972  ...  56.240876           0.042431       -12.093456   \n",
       "332  0.690537  0.072793  ...  56.240876           0.042431       -12.093456   \n",
       "331  0.344595  0.003645  ...  56.240876           0.042431       -12.093456   \n",
       "\n",
       "     10Y_Val_to_200MA  Fed_SMA50_vector  Fed_SMA200_vector  \\\n",
       "0           -8.360444               0.0                0.0   \n",
       "305         -8.360444               0.0                0.0   \n",
       "333         -8.360444               0.0                0.0   \n",
       "332         -8.360444               0.0                0.0   \n",
       "331         -8.360444               0.0                0.0   \n",
       "\n",
       "     Fed_SMA50_position  Fed_SMA200_position  Fed_SMA50_to_200_position  \\\n",
       "0                   0.0                  0.0                        0.0   \n",
       "305                 0.0                  0.0                        0.0   \n",
       "333                 0.0                  0.0                        0.0   \n",
       "332                 0.0                  0.0                        0.0   \n",
       "331                 0.0                  0.0                        0.0   \n",
       "\n",
       "     Pays_Divds  \n",
       "0           0.0  \n",
       "305         0.0  \n",
       "333         0.0  \n",
       "332         0.0  \n",
       "331         0.0  \n",
       "\n",
       "[5 rows x 55 columns]"
      ]
     },
     "metadata": {},
     "output_type": "display_data"
    }
   ],
   "source": [
    "display(df_compact.head(5))"
   ]
  },
  {
   "cell_type": "code",
   "execution_count": 10,
   "metadata": {},
   "outputs": [
    {
     "data": {
      "text/html": [
       "<div>\n",
       "<style scoped>\n",
       "    .dataframe tbody tr th:only-of-type {\n",
       "        vertical-align: middle;\n",
       "    }\n",
       "\n",
       "    .dataframe tbody tr th {\n",
       "        vertical-align: top;\n",
       "    }\n",
       "\n",
       "    .dataframe thead th {\n",
       "        text-align: right;\n",
       "    }\n",
       "</style>\n",
       "<table border=\"1\" class=\"dataframe\">\n",
       "  <thead>\n",
       "    <tr style=\"text-align: right;\">\n",
       "      <th></th>\n",
       "      <th>date</th>\n",
       "      <th>days_after_earnings_report</th>\n",
       "      <th>open</th>\n",
       "      <th>close</th>\n",
       "      <th>sector</th>\n",
       "      <th>industry</th>\n",
       "      <th>DE</th>\n",
       "      <th>CR</th>\n",
       "      <th>GM</th>\n",
       "      <th>ROA</th>\n",
       "      <th>...</th>\n",
       "      <th>10YB_YoY</th>\n",
       "      <th>10YB_200MA_Vector</th>\n",
       "      <th>10Y_Val_to_30MA</th>\n",
       "      <th>10Y_Val_to_200MA</th>\n",
       "      <th>Fed_SMA50_vector</th>\n",
       "      <th>Fed_SMA200_vector</th>\n",
       "      <th>Fed_SMA50_position</th>\n",
       "      <th>Fed_SMA200_position</th>\n",
       "      <th>Fed_SMA50_to_200_position</th>\n",
       "      <th>Pays_Divds</th>\n",
       "    </tr>\n",
       "  </thead>\n",
       "  <tbody>\n",
       "    <tr>\n",
       "      <th>0</th>\n",
       "      <td>2023-03-17</td>\n",
       "      <td>17.0</td>\n",
       "      <td>136.89</td>\n",
       "      <td>133.18</td>\n",
       "      <td>Health Care</td>\n",
       "      <td>Pharmaceuticals, Biotechnology &amp; Life Sciences</td>\n",
       "      <td>0.373805</td>\n",
       "      <td>2.106405</td>\n",
       "      <td>0.551253</td>\n",
       "      <td>0.032237</td>\n",
       "      <td>...</td>\n",
       "      <td>56.240876</td>\n",
       "      <td>0.042431</td>\n",
       "      <td>-12.093456</td>\n",
       "      <td>-8.360444</td>\n",
       "      <td>0.0</td>\n",
       "      <td>0.0</td>\n",
       "      <td>0.0</td>\n",
       "      <td>0.0</td>\n",
       "      <td>0.0</td>\n",
       "      <td>0.0</td>\n",
       "    </tr>\n",
       "    <tr>\n",
       "      <th>1</th>\n",
       "      <td>2023-03-17</td>\n",
       "      <td>51.0</td>\n",
       "      <td>132.33</td>\n",
       "      <td>130.26</td>\n",
       "      <td>Real Estate</td>\n",
       "      <td>Real Estate</td>\n",
       "      <td>2.014324</td>\n",
       "      <td>0.445624</td>\n",
       "      <td>0.704082</td>\n",
       "      <td>0.010637</td>\n",
       "      <td>...</td>\n",
       "      <td>56.240876</td>\n",
       "      <td>0.042431</td>\n",
       "      <td>-12.093456</td>\n",
       "      <td>-8.360444</td>\n",
       "      <td>0.0</td>\n",
       "      <td>0.0</td>\n",
       "      <td>0.0</td>\n",
       "      <td>0.0</td>\n",
       "      <td>0.0</td>\n",
       "      <td>0.0</td>\n",
       "    </tr>\n",
       "    <tr>\n",
       "      <th>2</th>\n",
       "      <td>2023-03-17</td>\n",
       "      <td>51.0</td>\n",
       "      <td>76.29</td>\n",
       "      <td>75.67</td>\n",
       "      <td>Utilities</td>\n",
       "      <td>Utilities</td>\n",
       "      <td>0.579839</td>\n",
       "      <td>0.505338</td>\n",
       "      <td>0.756489</td>\n",
       "      <td>0.007972</td>\n",
       "      <td>...</td>\n",
       "      <td>56.240876</td>\n",
       "      <td>0.042431</td>\n",
       "      <td>-12.093456</td>\n",
       "      <td>-8.360444</td>\n",
       "      <td>0.0</td>\n",
       "      <td>0.0</td>\n",
       "      <td>0.0</td>\n",
       "      <td>0.0</td>\n",
       "      <td>0.0</td>\n",
       "      <td>0.0</td>\n",
       "    </tr>\n",
       "    <tr>\n",
       "      <th>3</th>\n",
       "      <td>2023-03-17</td>\n",
       "      <td>44.0</td>\n",
       "      <td>46.32</td>\n",
       "      <td>45.32</td>\n",
       "      <td>Consumer Staples</td>\n",
       "      <td>Food, Beverage &amp; Tobacco</td>\n",
       "      <td>2.596846</td>\n",
       "      <td>0.837976</td>\n",
       "      <td>0.690537</td>\n",
       "      <td>0.072793</td>\n",
       "      <td>...</td>\n",
       "      <td>56.240876</td>\n",
       "      <td>0.042431</td>\n",
       "      <td>-12.093456</td>\n",
       "      <td>-8.360444</td>\n",
       "      <td>0.0</td>\n",
       "      <td>0.0</td>\n",
       "      <td>0.0</td>\n",
       "      <td>0.0</td>\n",
       "      <td>0.0</td>\n",
       "      <td>0.0</td>\n",
       "    </tr>\n",
       "    <tr>\n",
       "      <th>4</th>\n",
       "      <td>2023-03-17</td>\n",
       "      <td>44.0</td>\n",
       "      <td>58.37</td>\n",
       "      <td>57.30</td>\n",
       "      <td>Industrials</td>\n",
       "      <td>Capital Goods</td>\n",
       "      <td>0.294917</td>\n",
       "      <td>1.023696</td>\n",
       "      <td>0.344595</td>\n",
       "      <td>0.003645</td>\n",
       "      <td>...</td>\n",
       "      <td>56.240876</td>\n",
       "      <td>0.042431</td>\n",
       "      <td>-12.093456</td>\n",
       "      <td>-8.360444</td>\n",
       "      <td>0.0</td>\n",
       "      <td>0.0</td>\n",
       "      <td>0.0</td>\n",
       "      <td>0.0</td>\n",
       "      <td>0.0</td>\n",
       "      <td>0.0</td>\n",
       "    </tr>\n",
       "  </tbody>\n",
       "</table>\n",
       "<p>5 rows × 55 columns</p>\n",
       "</div>"
      ],
      "text/plain": [
       "        date  days_after_earnings_report    open   close            sector  \\\n",
       "0 2023-03-17                        17.0  136.89  133.18       Health Care   \n",
       "1 2023-03-17                        51.0  132.33  130.26       Real Estate   \n",
       "2 2023-03-17                        51.0   76.29   75.67         Utilities   \n",
       "3 2023-03-17                        44.0   46.32   45.32  Consumer Staples   \n",
       "4 2023-03-17                        44.0   58.37   57.30       Industrials   \n",
       "\n",
       "                                         industry        DE        CR  \\\n",
       "0  Pharmaceuticals, Biotechnology & Life Sciences  0.373805  2.106405   \n",
       "1                                     Real Estate  2.014324  0.445624   \n",
       "2                                       Utilities  0.579839  0.505338   \n",
       "3                        Food, Beverage & Tobacco  2.596846  0.837976   \n",
       "4                                   Capital Goods  0.294917  1.023696   \n",
       "\n",
       "         GM       ROA  ...   10YB_YoY  10YB_200MA_Vector  10Y_Val_to_30MA  \\\n",
       "0  0.551253  0.032237  ...  56.240876           0.042431       -12.093456   \n",
       "1  0.704082  0.010637  ...  56.240876           0.042431       -12.093456   \n",
       "2  0.756489  0.007972  ...  56.240876           0.042431       -12.093456   \n",
       "3  0.690537  0.072793  ...  56.240876           0.042431       -12.093456   \n",
       "4  0.344595  0.003645  ...  56.240876           0.042431       -12.093456   \n",
       "\n",
       "   10Y_Val_to_200MA  Fed_SMA50_vector  Fed_SMA200_vector  Fed_SMA50_position  \\\n",
       "0         -8.360444               0.0                0.0                 0.0   \n",
       "1         -8.360444               0.0                0.0                 0.0   \n",
       "2         -8.360444               0.0                0.0                 0.0   \n",
       "3         -8.360444               0.0                0.0                 0.0   \n",
       "4         -8.360444               0.0                0.0                 0.0   \n",
       "\n",
       "   Fed_SMA200_position  Fed_SMA50_to_200_position  Pays_Divds  \n",
       "0                  0.0                        0.0         0.0  \n",
       "1                  0.0                        0.0         0.0  \n",
       "2                  0.0                        0.0         0.0  \n",
       "3                  0.0                        0.0         0.0  \n",
       "4                  0.0                        0.0         0.0  \n",
       "\n",
       "[5 rows x 55 columns]"
      ]
     },
     "metadata": {},
     "output_type": "display_data"
    }
   ],
   "source": [
    "df_compact.reset_index(inplace = True)\n",
    "df_compact.drop('index', axis = 1, inplace = True)\n",
    "display(df_compact.head(5))"
   ]
  },
  {
   "cell_type": "code",
   "execution_count": 11,
   "metadata": {},
   "outputs": [
    {
     "name": "stdout",
     "output_type": "stream",
     "text": [
      "Index(['date', 'days_after_earnings_report', 'open', 'close', 'sector',\n",
      "       'industry', 'DE', 'CR', 'GM', 'ROA', 'DPR', 'Acc_Rec_Pay_Ration', 'ES',\n",
      "       'DY', 'Piotroski_Score', 'PE', 'PEG_Forward', 'PEG_Backwards',\n",
      "       'EPS_surprise', 'EPS_YoY_Growth', 'EPS_QoQ_frcst_diff',\n",
      "       'EPS_1Y_exp_Change', 'YoY_CR', 'YoY_GM', 'YoY_DPR', 'YoY_ES',\n",
      "       'YoY_Piotroski', 'YoY_PE', 'YoY_PEGF', 'YoY_PEGB', 'YoY_DY',\n",
      "       'EPS_1Y_exp_Change_QoQ', 'future_15dprice_change',\n",
      "       'future_30dprice_change', 'future_60dprice_change',\n",
      "       'future_90dprice_change', 'future_120dprice_change',\n",
      "       'future_150dprice_change', 'VIX_high', 'days_after_crisis', 'VIX_DoD',\n",
      "       'VIX_WoW', 'VIX_MoM', 'stock', '10YBond', '10YB_YoY',\n",
      "       '10YB_200MA_Vector', '10Y_Val_to_30MA', '10Y_Val_to_200MA',\n",
      "       'Fed_SMA50_vector', 'Fed_SMA200_vector', 'Fed_SMA50_position',\n",
      "       'Fed_SMA200_position', 'Fed_SMA50_to_200_position', 'Pays_Divds'],\n",
      "      dtype='object')\n"
     ]
    }
   ],
   "source": [
    "print(df_compact.columns)"
   ]
  },
  {
   "cell_type": "code",
   "execution_count": 12,
   "metadata": {},
   "outputs": [],
   "source": [
    "df_compact.drop(['close','open'], axis = 1, inplace = True)"
   ]
  },
  {
   "cell_type": "code",
   "execution_count": 13,
   "metadata": {},
   "outputs": [
    {
     "name": "stdout",
     "output_type": "stream",
     "text": [
      "Train data size for 15 is 490110 rows\n",
      "Test data size for 15  is 26084 rows\n",
      "Train data size for 30 is 480895 rows\n",
      "Test data size for 30  is 25817 rows\n",
      "Train data size for 60 is 459651 rows\n",
      "Test data size for 60  is 25282 rows\n",
      "Train data size for 90 is 439930 rows\n",
      "Test data size for 90  is 24748 rows\n",
      "Train data size for 120 is 420213 rows\n",
      "Test data size for 120  is 24214 rows\n",
      "Train data size for 150 is 399573 rows\n",
      "Test data size for 150  is 23681 rows\n"
     ]
    }
   ],
   "source": [
    "#Let's take the top 5% as the test df\n",
    "y_vals = [\"future_15dprice_change\",\"future_30dprice_change\",\"future_60dprice_change\",\"future_90dprice_change\",\"future_120dprice_change\",\"future_150dprice_change\"]\n",
    "n_days = [15,30,60,90,120,150]\n",
    "min_date_train = []\n",
    "\n",
    "test_dfs_list = []\n",
    "train_dfs_list = []\n",
    "full_dfs_list = []\n",
    "\n",
    "for i, j in enumerate(y_vals):\n",
    "    n = 5\n",
    "    num_rows = int(len(df_compact[df_compact[j].notnull()])*(n/100))\n",
    "    df_full = df_compact[df_compact[j].notnull()]\n",
    "    df_test = df_compact[df_compact[j].notnull()].iloc[:num_rows]\n",
    "    df_train = df_compact[df_compact[j].notnull()].iloc[num_rows:]\n",
    "    \n",
    "    #Let's remove the data closest to the prediction date to make it close to a real world scenario\n",
    "    max_date = df_train.date.max()\n",
    "    max_date = df_train.date.max() - timedelta(days=n_days[i])\n",
    "    max_date = max_date.strftime('%Y-%m-%d')\n",
    "    df_train = df_train[df_train.date < max_date]\n",
    "    \n",
    "    min_date_train.append(df_train.date.min())\n",
    "\n",
    "    #We can drop the date column as redundant now\n",
    "    df_train.drop('date',axis = 1, inplace = True)\n",
    "    df_test.drop('date',axis = 1, inplace = True)\n",
    "    df_full.drop('date',axis = 1, inplace = True)\n",
    "    \n",
    "    test_dfs_list.append(df_test)\n",
    "    train_dfs_list.append(df_train)\n",
    "    full_dfs_list.append(df_full)\n",
    "    \n",
    "    \n",
    "    print(f\"Train data size for {n_days[i]} is {df_train.shape[0]} rows\")\n",
    "    print(f\"Test data size for {n_days[i]}  is {df_test.shape[0]} rows\")"
   ]
  },
  {
   "cell_type": "code",
   "execution_count": 14,
   "metadata": {},
   "outputs": [],
   "source": [
    "#For the simplicity of analysis we will work with one train dataframe but apply transformations to all the dataframes in the list\n",
    "df_train = train_dfs_list[0]\n",
    "\n",
    "cols_num = df_train.select_dtypes([np.number]).columns\n",
    "cols_str = df_train.select_dtypes('object').columns"
   ]
  },
  {
   "cell_type": "markdown",
   "metadata": {},
   "source": [
    "### Building a classificator"
   ]
  },
  {
   "cell_type": "markdown",
   "metadata": {},
   "source": [
    "Ok, we dealt with the numeric prediction of the stock prices movement.\n",
    "\n",
    "At the same time after seeing the results it made me rethink the purpose.\n",
    "\n",
    "I am not a trader and the model I am building doesn't have a purpose of daily stocks exchange.\n",
    "\n",
    "What I want to achieve is to find a stock that with high probability will grow in the next foreseeable future, hold it for a while and sell it with a profit.\n",
    "\n",
    "Considering this maybe we shouldn't solve the regression problem, but make it a classification problem instead."
   ]
  },
  {
   "cell_type": "markdown",
   "metadata": {},
   "source": [
    "To make it the classification problem we would need to replace all price times the prices are going up to 1 and down to zerows.\n",
    "\n",
    "At the same time I want my model to cover the risks, so let's add the risk factor of loosing a bet and make the range wider.\n",
    "We will change values to 1 when the price goes up on the level of 3rd percentile for every time range prediction"
   ]
  },
  {
   "cell_type": "code",
   "execution_count": 15,
   "metadata": {},
   "outputs": [],
   "source": [
    "min_15d_threshold =  5#4.112\n",
    "min_30d_threshold =  7#6.18\n",
    "min_60d_threshold =  10#9.25\n",
    "min_90d_threshold =  12#11.53\n",
    "min_120d_threshold = 14#13.77\n",
    "min_150d_threshold =  16#15.95\n",
    "\n",
    "list_of_thresholds = [min_15d_threshold,min_30d_threshold,min_60d_threshold,min_90d_threshold,min_120d_threshold,min_150d_threshold]"
   ]
  },
  {
   "cell_type": "markdown",
   "metadata": {},
   "source": [
    "Make the changes to the dataset"
   ]
  },
  {
   "cell_type": "code",
   "execution_count": 16,
   "metadata": {},
   "outputs": [],
   "source": [
    "targets_all = [\"future_15dprice_change\",\"future_30dprice_change\",\"future_60dprice_change\",\"future_90dprice_change\",\"future_120dprice_change\",\"future_150dprice_change\"]\n",
    "periods = [\"15d\",\"30d\",\"60d\",\"90d\",\"120d\",\"150d\"]\n",
    "#df_compact_reserve = df_compact.copy()\n",
    "#Creating a copy of the list with the dataframes\n",
    "'''full_dfs_list_copy = []\n",
    "train_dfs_list_copy = []\n",
    "test_dfs_list_copy = []\n",
    "for i, j in enumerate(targets_all):\n",
    "    full = full_dfs_list[i].copy()\n",
    "    train = train_dfs_list[i].copy()\n",
    "    test = test_dfs_list[i].copy()\n",
    "    full_dfs_list_copy.append(full)\n",
    "    train_dfs_list_copy.append(train)\n",
    "    test_dfs_list_copy.append(test)'''\n",
    "    \n",
    "\n",
    "for i, j in enumerate(targets_all):\n",
    "    #df_compact.loc[df_compact[j]<list_of_thresholds[i], j] = 0\n",
    "    #df_compact.loc[df_compact[j]>=list_of_thresholds[i], j] = 1\n",
    "    full_dfs_list[i].loc[full_dfs_list[i][j]<list_of_thresholds[i], j] = 0\n",
    "    full_dfs_list[i].loc[full_dfs_list[i][j]>=list_of_thresholds[i], j] = 1\n",
    "    train_dfs_list[i].loc[train_dfs_list[i][j]<list_of_thresholds[i], j] = 0\n",
    "    train_dfs_list[i].loc[train_dfs_list[i][j]>=list_of_thresholds[i], j] = 1\n",
    "    test_dfs_list[i].loc[test_dfs_list[i][j]<list_of_thresholds[i], j] = 0\n",
    "    test_dfs_list[i].loc[test_dfs_list[i][j]>=list_of_thresholds[i], j] = 1"
   ]
  },
  {
   "cell_type": "markdown",
   "metadata": {},
   "source": [
    "## Cross validation time data"
   ]
  },
  {
   "cell_type": "code",
   "execution_count": 17,
   "metadata": {},
   "outputs": [],
   "source": [
    "df_train = full_dfs_list[1]\n",
    "df_train = df_train.drop([\"future_15dprice_change\",\"future_60dprice_change\",\"future_90dprice_change\",\"future_120dprice_change\",\"future_150dprice_change\"],axis = 1)\n",
    "df_train = df_train[df_train[\"future_30dprice_change\"].notna()]"
   ]
  },
  {
   "cell_type": "code",
   "execution_count": 18,
   "metadata": {},
   "outputs": [
    {
     "data": {
      "text/html": [
       "<div>\n",
       "<style scoped>\n",
       "    .dataframe tbody tr th:only-of-type {\n",
       "        vertical-align: middle;\n",
       "    }\n",
       "\n",
       "    .dataframe tbody tr th {\n",
       "        vertical-align: top;\n",
       "    }\n",
       "\n",
       "    .dataframe thead th {\n",
       "        text-align: right;\n",
       "    }\n",
       "</style>\n",
       "<table border=\"1\" class=\"dataframe\">\n",
       "  <thead>\n",
       "    <tr style=\"text-align: right;\">\n",
       "      <th></th>\n",
       "      <th>days_after_earnings_report</th>\n",
       "      <th>sector</th>\n",
       "      <th>industry</th>\n",
       "      <th>DE</th>\n",
       "      <th>CR</th>\n",
       "      <th>GM</th>\n",
       "      <th>ROA</th>\n",
       "      <th>DPR</th>\n",
       "      <th>Acc_Rec_Pay_Ration</th>\n",
       "      <th>ES</th>\n",
       "      <th>...</th>\n",
       "      <th>10YB_YoY</th>\n",
       "      <th>10YB_200MA_Vector</th>\n",
       "      <th>10Y_Val_to_30MA</th>\n",
       "      <th>10Y_Val_to_200MA</th>\n",
       "      <th>Fed_SMA50_vector</th>\n",
       "      <th>Fed_SMA200_vector</th>\n",
       "      <th>Fed_SMA50_position</th>\n",
       "      <th>Fed_SMA200_position</th>\n",
       "      <th>Fed_SMA50_to_200_position</th>\n",
       "      <th>Pays_Divds</th>\n",
       "    </tr>\n",
       "  </thead>\n",
       "  <tbody>\n",
       "    <tr>\n",
       "      <th>0</th>\n",
       "      <td>32.0</td>\n",
       "      <td>Financials</td>\n",
       "      <td>Diversified Financials</td>\n",
       "      <td>0.078120</td>\n",
       "      <td>5.000000</td>\n",
       "      <td>0.491301</td>\n",
       "      <td>0.011791</td>\n",
       "      <td>0.540779</td>\n",
       "      <td>1.003883</td>\n",
       "      <td>1.227998</td>\n",
       "      <td>...</td>\n",
       "      <td>88.426854</td>\n",
       "      <td>0.157312</td>\n",
       "      <td>5.517416</td>\n",
       "      <td>5.285509</td>\n",
       "      <td>-0.048073</td>\n",
       "      <td>-0.048073</td>\n",
       "      <td>0.005298</td>\n",
       "      <td>0.019456</td>\n",
       "      <td>-0.013888</td>\n",
       "      <td>0.0</td>\n",
       "    </tr>\n",
       "    <tr>\n",
       "      <th>1</th>\n",
       "      <td>7.0</td>\n",
       "      <td>Industrials</td>\n",
       "      <td>Capital Goods</td>\n",
       "      <td>0.340916</td>\n",
       "      <td>1.483294</td>\n",
       "      <td>0.214473</td>\n",
       "      <td>0.009832</td>\n",
       "      <td>0.203252</td>\n",
       "      <td>3.699875</td>\n",
       "      <td>0.938940</td>\n",
       "      <td>...</td>\n",
       "      <td>88.426854</td>\n",
       "      <td>0.157312</td>\n",
       "      <td>5.517416</td>\n",
       "      <td>5.285509</td>\n",
       "      <td>-0.048073</td>\n",
       "      <td>-0.048073</td>\n",
       "      <td>0.005298</td>\n",
       "      <td>0.019456</td>\n",
       "      <td>-0.013888</td>\n",
       "      <td>0.0</td>\n",
       "    </tr>\n",
       "    <tr>\n",
       "      <th>2</th>\n",
       "      <td>32.0</td>\n",
       "      <td>Financials</td>\n",
       "      <td>Banks</td>\n",
       "      <td>0.072654</td>\n",
       "      <td>0.303792</td>\n",
       "      <td>0.700024</td>\n",
       "      <td>0.002580</td>\n",
       "      <td>0.350416</td>\n",
       "      <td>0.479658</td>\n",
       "      <td>2.292973</td>\n",
       "      <td>...</td>\n",
       "      <td>88.426854</td>\n",
       "      <td>0.157312</td>\n",
       "      <td>5.517416</td>\n",
       "      <td>5.285509</td>\n",
       "      <td>-0.048073</td>\n",
       "      <td>-0.048073</td>\n",
       "      <td>0.005298</td>\n",
       "      <td>0.019456</td>\n",
       "      <td>-0.013888</td>\n",
       "      <td>0.0</td>\n",
       "    </tr>\n",
       "    <tr>\n",
       "      <th>3</th>\n",
       "      <td>12.0</td>\n",
       "      <td>Communication Services</td>\n",
       "      <td>Media &amp; Entertainment</td>\n",
       "      <td>0.045693</td>\n",
       "      <td>2.377994</td>\n",
       "      <td>0.535267</td>\n",
       "      <td>0.037299</td>\n",
       "      <td>0.000000</td>\n",
       "      <td>7.850624</td>\n",
       "      <td>1.061685</td>\n",
       "      <td>...</td>\n",
       "      <td>88.426854</td>\n",
       "      <td>0.157312</td>\n",
       "      <td>5.517416</td>\n",
       "      <td>5.285509</td>\n",
       "      <td>-0.048073</td>\n",
       "      <td>-0.048073</td>\n",
       "      <td>0.005298</td>\n",
       "      <td>0.019456</td>\n",
       "      <td>-0.013888</td>\n",
       "      <td>1.0</td>\n",
       "    </tr>\n",
       "    <tr>\n",
       "      <th>4</th>\n",
       "      <td>104.0</td>\n",
       "      <td>Information Technology</td>\n",
       "      <td>Software &amp; Services</td>\n",
       "      <td>0.143933</td>\n",
       "      <td>2.378054</td>\n",
       "      <td>0.868856</td>\n",
       "      <td>0.015576</td>\n",
       "      <td>0.001417</td>\n",
       "      <td>10.000000</td>\n",
       "      <td>0.400279</td>\n",
       "      <td>...</td>\n",
       "      <td>88.426854</td>\n",
       "      <td>0.157312</td>\n",
       "      <td>5.517416</td>\n",
       "      <td>5.285509</td>\n",
       "      <td>-0.048073</td>\n",
       "      <td>-0.048073</td>\n",
       "      <td>0.005298</td>\n",
       "      <td>0.019456</td>\n",
       "      <td>-0.013888</td>\n",
       "      <td>0.0</td>\n",
       "    </tr>\n",
       "  </tbody>\n",
       "</table>\n",
       "<p>5 rows × 47 columns</p>\n",
       "</div>"
      ],
      "text/plain": [
       "   days_after_earnings_report                  sector                industry  \\\n",
       "0                        32.0              Financials  Diversified Financials   \n",
       "1                         7.0             Industrials           Capital Goods   \n",
       "2                        32.0              Financials                   Banks   \n",
       "3                        12.0  Communication Services   Media & Entertainment   \n",
       "4                       104.0  Information Technology     Software & Services   \n",
       "\n",
       "         DE        CR        GM       ROA       DPR  Acc_Rec_Pay_Ration  \\\n",
       "0  0.078120  5.000000  0.491301  0.011791  0.540779            1.003883   \n",
       "1  0.340916  1.483294  0.214473  0.009832  0.203252            3.699875   \n",
       "2  0.072654  0.303792  0.700024  0.002580  0.350416            0.479658   \n",
       "3  0.045693  2.377994  0.535267  0.037299  0.000000            7.850624   \n",
       "4  0.143933  2.378054  0.868856  0.015576  0.001417           10.000000   \n",
       "\n",
       "         ES  ...   10YB_YoY  10YB_200MA_Vector  10Y_Val_to_30MA  \\\n",
       "0  1.227998  ...  88.426854           0.157312         5.517416   \n",
       "1  0.938940  ...  88.426854           0.157312         5.517416   \n",
       "2  2.292973  ...  88.426854           0.157312         5.517416   \n",
       "3  1.061685  ...  88.426854           0.157312         5.517416   \n",
       "4  0.400279  ...  88.426854           0.157312         5.517416   \n",
       "\n",
       "   10Y_Val_to_200MA  Fed_SMA50_vector  Fed_SMA200_vector  Fed_SMA50_position  \\\n",
       "0          5.285509         -0.048073          -0.048073            0.005298   \n",
       "1          5.285509         -0.048073          -0.048073            0.005298   \n",
       "2          5.285509         -0.048073          -0.048073            0.005298   \n",
       "3          5.285509         -0.048073          -0.048073            0.005298   \n",
       "4          5.285509         -0.048073          -0.048073            0.005298   \n",
       "\n",
       "   Fed_SMA200_position  Fed_SMA50_to_200_position  Pays_Divds  \n",
       "0             0.019456                  -0.013888         0.0  \n",
       "1             0.019456                  -0.013888         0.0  \n",
       "2             0.019456                  -0.013888         0.0  \n",
       "3             0.019456                  -0.013888         1.0  \n",
       "4             0.019456                  -0.013888         0.0  \n",
       "\n",
       "[5 rows x 47 columns]"
      ]
     },
     "execution_count": 18,
     "metadata": {},
     "output_type": "execute_result"
    }
   ],
   "source": [
    "df_train.reset_index(inplace = True)\n",
    "df_train.drop('index', axis = 1, inplace = True)\n",
    "df_train.head(5)"
   ]
  },
  {
   "cell_type": "code",
   "execution_count": 19,
   "metadata": {},
   "outputs": [],
   "source": [
    "df_train.drop([\"stock\",\"industry\",\"days_after_crisis\"], axis = 1, inplace = True)"
   ]
  },
  {
   "cell_type": "code",
   "execution_count": 20,
   "metadata": {},
   "outputs": [],
   "source": [
    "df_train.dropna(inplace = True)\n",
    "df_train.reset_index(inplace = True)\n",
    "df_train.drop('index', axis = 1, inplace = True)"
   ]
  },
  {
   "cell_type": "code",
   "execution_count": 21,
   "metadata": {},
   "outputs": [
    {
     "data": {
      "text/plain": [
       "RangeIndex(start=0, stop=516344, step=1)"
      ]
     },
     "execution_count": 21,
     "metadata": {},
     "output_type": "execute_result"
    }
   ],
   "source": [
    "y_train = df_train[\"future_30dprice_change\"]\n",
    "x_train = df_train.drop(\"future_30dprice_change\", axis = 1)\n",
    "x_train.index"
   ]
  },
  {
   "cell_type": "code",
   "execution_count": 22,
   "metadata": {
    "scrolled": true
   },
   "outputs": [
    {
     "name": "stdout",
     "output_type": "stream",
     "text": [
      "======= Fold 0 ========\n",
      "0.21886662876378435\n",
      "0.023273683203206358\n",
      "Our F1 on the validation set is 0.0493, precision is 0.6503, and AUC is 0.6154\n",
      "======= Fold 1 ========\n",
      "0.22617533623674388\n",
      "0.008912674477152513\n",
      "Our F1 on the validation set is 0.0012, precision is 0.1000, and AUC is 0.6063\n",
      "======= Fold 2 ========\n",
      "0.2171521861620924\n",
      "0.013402553371828151\n",
      "Our F1 on the validation set is 0.0029, precision is 0.8000, and AUC is 0.5792\n",
      "======= Fold 3 ========\n",
      "0.21385870907759816\n",
      "0.007303040238583947\n",
      "Our F1 on the validation set is 0.1631, precision is 0.3746, and AUC is 0.7239\n",
      "======= Fold 4 ========\n",
      "0.21071378978064104\n",
      "0.01583440986000244\n",
      "Our F1 on the validation set is 0.0000, precision is 0.0000, and AUC is 0.6065\n",
      "\n",
      " Our out of fold AUC score is 0.6263 and precision is 0.3850 \n",
      "\n",
      "\n"
     ]
    }
   ],
   "source": [
    "from sklearn.model_selection import ParameterGrid\n",
    "\n",
    "n = 5\n",
    "tscv = TimeSeriesSplit(n_splits=n, test_size=30000, gap=round(11050,0))\n",
    "\n",
    "'''le = LabelEncoder()\n",
    "le.fit(x_train[\"sector\"])\n",
    "x_train[\"sector\"] = le.transform(x_train[\"sector\"])\n",
    "\n",
    "param_search  = {'boosting_type ':['gbdt', 'dart', 'rf'], \n",
    "              'num_leaves':[10, 40, 100, 150], \n",
    "              'max_depth' :[-1, 40, 100, 150],\n",
    "              'learning_rate' : [0.001, 0.01, 0,1],\n",
    "              'n_estimators' : [50, 100, 200]}\n",
    "\n",
    "\n",
    "tscv = TimeSeriesSplit(n_splits=n, test_size=22000, gap=round(11050,0))\n",
    "clf = lgb.LGBMClassifier(random_state=42)     \n",
    "\n",
    "gsearch = GridSearchCV(estimator=clf, cv=tscv,\n",
    "                        param_grid=param_search,\n",
    "                        scoring = 'precision', \n",
    "                        n_jobs = 10,\n",
    "                        verbose = 3)\n",
    "gsearch.fit(x_train, y_train)'''\n",
    "\n",
    "\n",
    "aucs = []\n",
    "precs = []\n",
    "\n",
    "for i, (train_index, val_idx) in enumerate(tscv.split(df_train)):\n",
    "        print(f\"======= Fold {i} ========\")\n",
    "        #print(f\"  Train: index={min(train_index)} : {max(train_index)}\")\n",
    "        #print(f\"  Test:  index={min(val_idx)} : {max(val_idx)}\")\n",
    "\n",
    "        X_tr = x_train.loc[train_index]\n",
    "        y_tr = y_train.loc[train_index]\n",
    "        print(y_tr[y_tr == 1].count() / y_tr.count())\n",
    "        \n",
    "        X_val = x_train.loc[val_idx]\n",
    "        y_val = y_train.loc[val_idx] \n",
    "        print(y_val[y_val == 1].count() / y_tr.count())\n",
    "\n",
    "        le = LabelEncoder()\n",
    "        le.fit(X_tr[\"sector\"])\n",
    "        X_tr[\"sector\"] = le.transform(X_tr[\"sector\"])\n",
    "        X_val[\"sector\"] = le.transform(X_val[\"sector\"])\n",
    "\n",
    "        # Fit Model on Train\n",
    "        clf = lgb.LGBMClassifier(random_state=42, n_jobs = 10, n_estimators = 100)     \n",
    "        clf.fit(X_tr, y_tr)\n",
    "        pred = clf.predict(X_val)\n",
    "        #print(pred.sum())\n",
    "        #if pred.sum() == 0:\n",
    "        \n",
    "        #Calculation of the proportion  1 to 0\n",
    "        proportion_of_ones = y_tr[y_tr == 1].count() / y_tr.count()\n",
    "\n",
    "        pred_prob = clf.predict_proba(X_val)[:, 1]\n",
    "        f_one_score = f1_score(y_val, pred)\n",
    "        precision = precision_score(y_val, pred, pos_label=1, average='binary')\n",
    "        auc_score = roc_auc_score(y_val, pred_prob)\n",
    "\n",
    "        print(f\"Our F1 on the validation set is {f_one_score:0.4f}, precision is {precision:0.4f}, and AUC is {auc_score:0.4f}\")\n",
    "        aucs.append(auc_score)\n",
    "        oof_auc = np.mean(aucs)\n",
    "        precs.append(precision)\n",
    "        precs_auc = np.mean(precs)\n",
    "\n",
    "        if i == n-1:\n",
    "            print(f'\\n Our out of fold AUC score is {oof_auc:0.4f} and precision is {precs_auc:0.4f} \\n\\n')"
   ]
  },
  {
   "cell_type": "code",
   "execution_count": 23,
   "metadata": {},
   "outputs": [
    {
     "data": {
      "image/png": "[encoded data removed]",
      "text/plain": [
       "<Figure size 1000x1000 with 1 Axes>"
      ]
     },
     "metadata": {},
     "output_type": "display_data"
    }
   ],
   "source": [
    "import scikitplot as skplt\n",
    "import matplotlib.pyplot as plt\n",
    "\n",
    "def plot_auc(y_proba, y_val):\n",
    "    false_positive_rate1, true_positive_rate1, threshold1 = roc_curve(y_val, y_proba)\n",
    "\n",
    "    plt.subplots(1, figsize=(10,10))\n",
    "    plt.title('Receiver Operating Characteristic - DecisionTree')\n",
    "    plt.plot(false_positive_rate1, true_positive_rate1)\n",
    "    plt.plot([0, 1], ls=\"--\")\n",
    "    plt.plot([0, 0], [1, 0] , c=\".7\"), plt.plot([1, 1] , c=\".7\")\n",
    "    plt.ylabel('True Positive Rate')\n",
    "    plt.xlabel('False Positive Rate')\n",
    "    plt.show()\n",
    "\n",
    "plot_auc(pred_prob,y_val)"
   ]
  },
  {
   "cell_type": "markdown",
   "metadata": {},
   "source": [
    "print(gsearch.best_estimator_)\n",
    "print(gsearch.best_params_)\n",
    "print(gsearch.scorer_)\n",
    "print(gsearch.best_score_)"
   ]
  },
  {
   "cell_type": "markdown",
   "metadata": {},
   "source": [
    "#df_train_copy = df_train.copy()\n",
    "df_train = df_train_copy.copy()\n",
    "df_train.drop(['stock','industry'], axis = 1, inplace = True)"
   ]
  },
  {
   "cell_type": "markdown",
   "metadata": {},
   "source": [
    "## Trying XGBoost"
   ]
  },
  {
   "cell_type": "code",
   "execution_count": 24,
   "metadata": {},
   "outputs": [
    {
     "name": "stdout",
     "output_type": "stream",
     "text": [
      "======= Fold 0 ========\n",
      "Our F1 on the validation set is 0.0105, precision is 0.4595, and AUC is 0.5946\n",
      "======= Fold 1 ========\n",
      "Our F1 on the validation set is 0.0068, precision is 0.2545, and AUC is 0.5363\n",
      "======= Fold 2 ========\n",
      "Our F1 on the validation set is 0.0958, precision is 0.1820, and AUC is 0.6118\n",
      "======= Fold 3 ========\n",
      "Our F1 on the validation set is 0.1730, precision is 0.3102, and AUC is 0.5320\n",
      "======= Fold 4 ========\n",
      "Our F1 on the validation set is 0.0165, precision is 0.3390, and AUC is 0.5819\n",
      "\n",
      " Our out of fold AUC score is 0.5988 and precision is 0.3470 \n",
      "\n",
      "\n"
     ]
    },
    {
     "data": {
      "image/png": "[encoded data removed]",
      "text/plain": [
       "<Figure size 1000x1000 with 1 Axes>"
      ]
     },
     "metadata": {},
     "output_type": "display_data"
    },
    {
     "data": {
      "text/plain": [
       "\"aucs = []\\nprecs = []\\n\\nparam_search  = {'boosting_type ':['gbdt', 'dart', 'rf'], \\n              'num_leaves':[10, 40, 100, 150], \\n              'max_depth' :[-1, 40, 100, 150],\\n              'learning_rate' : [0.001, 0.01, 0,1],\\n              'n_estimators' : [50, 100, 200]}\\n\\n\\ntscv = TimeSeriesSplit(n_splits=n, test_size=22000, gap=round(11050,0))\\nclf = lgb.XGBClassifier(random_state=42)     \\n\\ngsearch = GridSearchCV(estimator=clf, cv=tscv,\\n                        param_grid=param_search,\\n                        scoring = 'precision', \\n                        n_jobs = 10,\\n                        verbose = 3)\\ngsearch.fit(x_train, y_train)\""
      ]
     },
     "execution_count": 24,
     "metadata": {},
     "output_type": "execute_result"
    }
   ],
   "source": [
    "from xgboost import XGBClassifier\n",
    "\n",
    "t = pd.get_dummies(df_train['sector'], drop_first=True)\n",
    "df_train.drop('sector', axis = 1, inplace = True)\n",
    "df_train = df_train.join(t)\n",
    "\n",
    "y_train = df_train[\"future_30dprice_change\"]\n",
    "x_train = df_train.drop(\"future_30dprice_change\", axis = 1)\n",
    "\n",
    "n = 5\n",
    "tscv = TimeSeriesSplit(n_splits=n, test_size=22000, gap=round(11050,0))\n",
    "\n",
    "for i, (train_index, val_idx) in enumerate(tscv.split(df_train)):\n",
    "        print(f\"======= Fold {i} ========\")\n",
    "        #print(f\"  Train: index={min(train_index)} : {max(train_index)}\")\n",
    "        #print(f\"  Test:  index={min(val_idx)} : {max(val_idx)}\")\n",
    "\n",
    "        X_tr = x_train.loc[train_index]\n",
    "        y_tr = y_train.loc[train_index]\n",
    "\n",
    "        X_val = x_train.loc[val_idx]\n",
    "        y_val = y_train.loc[val_idx] \n",
    "\n",
    "\n",
    "        # Fit Model on Train\n",
    "        clf = XGBClassifier(objective= 'binary:logistic',\n",
    "                            nthread=4,\n",
    "                            seed=42\n",
    "                        )     \n",
    "        clf.fit(X_tr, y_tr)\n",
    "        pred = clf.predict(X_val)\n",
    "        #print(pred.sum())\n",
    "        #if pred.sum() == 0:\n",
    "        \n",
    "        #Calculation of the proportion  1 to 0\n",
    "        proportion_of_ones = y_tr[y_tr == 1].count() / y_tr.count()\n",
    "\n",
    "        pred_prob = clf.predict_proba(X_val)[:, 1]\n",
    "        f_one_score = f1_score(y_val, pred)\n",
    "        precision = precision_score(y_val, pred, pos_label=1, average='binary')\n",
    "        auc_score = roc_auc_score(y_val, pred_prob)\n",
    "\n",
    "        print(f\"Our F1 on the validation set is {f_one_score:0.4f}, precision is {precision:0.4f}, and AUC is {auc_score:0.4f}\")\n",
    "        aucs.append(auc_score)\n",
    "        oof_auc = np.mean(aucs)\n",
    "        precs.append(precision)\n",
    "        precs_auc = np.mean(precs)\n",
    "\n",
    "        if i == n-1:\n",
    "            print(f'\\n Our out of fold AUC score is {oof_auc:0.4f} and precision is {precs_auc:0.4f} \\n\\n')\n",
    "            plot_auc(pred_prob,y_val)\n",
    "\n",
    "\n",
    "\n",
    "'''aucs = []\n",
    "precs = []\n",
    "\n",
    "param_search  = {'boosting_type ':['gbdt', 'dart', 'rf'], \n",
    "              'num_leaves':[10, 40, 100, 150], \n",
    "              'max_depth' :[-1, 40, 100, 150],\n",
    "              'learning_rate' : [0.001, 0.01, 0,1],\n",
    "              'n_estimators' : [50, 100, 200]}\n",
    "\n",
    "\n",
    "tscv = TimeSeriesSplit(n_splits=n, test_size=22000, gap=round(11050,0))\n",
    "clf = lgb.XGBClassifier(random_state=42)     \n",
    "\n",
    "gsearch = GridSearchCV(estimator=clf, cv=tscv,\n",
    "                        param_grid=param_search,\n",
    "                        scoring = 'precision', \n",
    "                        n_jobs = 10,\n",
    "                        verbose = 3)\n",
    "gsearch.fit(x_train, y_train)'''"
   ]
  },
  {
   "cell_type": "markdown",
   "metadata": {},
   "source": [
    "## Trying SVM\n"
   ]
  },
  {
   "cell_type": "markdown",
   "metadata": {},
   "source": [
    "New data preparation"
   ]
  },
  {
   "cell_type": "code",
   "execution_count": 25,
   "metadata": {},
   "outputs": [
    {
     "data": {
      "text/plain": [
       "RangeIndex(start=0, stop=516344, step=1)"
      ]
     },
     "execution_count": 25,
     "metadata": {},
     "output_type": "execute_result"
    }
   ],
   "source": [
    "df_train = full_dfs_list[1]\n",
    "df_train = df_train.drop([\"future_15dprice_change\",\"future_60dprice_change\",\"future_90dprice_change\",\"future_120dprice_change\",\"future_150dprice_change\"],axis = 1)\n",
    "df_train = df_train[df_train[\"future_30dprice_change\"].notna()]\n",
    "\n",
    "df_train.dropna(inplace = True)\n",
    "df_train.reset_index(inplace = True)\n",
    "df_train.drop('index', axis = 1, inplace = True)\n",
    "\n",
    "df_train.drop([\"stock\",\"industry\",\"days_after_crisis\"], axis = 1, inplace = True)\n",
    "y_train = df_train[\"future_30dprice_change\"]\n",
    "x_train = df_train.drop(\"future_30dprice_change\", axis = 1)\n",
    "x_train.index"
   ]
  },
  {
   "cell_type": "code",
   "execution_count": null,
   "metadata": {},
   "outputs": [
    {
     "name": "stdout",
     "output_type": "stream",
     "text": [
      "======= Fold 0 ========\n",
      "1: 0.11890909090909091 ; 0: 0.881090909090909\n",
      "Our F1 on the validation set is 0.0000, precision is 0.0000\n",
      "======= Fold 1 ========\n",
      "1: 0.20881818181818182 ; 0: 0.7911818181818182\n"
     ]
    }
   ],
   "source": [
    "from sklearn.pipeline import make_pipeline\n",
    "from sklearn.preprocessing import StandardScaler\n",
    "from sklearn.svm import SVC\n",
    "\n",
    "t = pd.get_dummies(df_train['sector'], drop_first=True)\n",
    "df_train.drop('sector', axis = 1, inplace = True)\n",
    "df_train = df_train.join(t)\n",
    "\n",
    "y_train = df_train[\"future_30dprice_change\"]\n",
    "x_train = df_train.drop(\"future_30dprice_change\", axis = 1)\n",
    "\n",
    "n = 3\n",
    "tscv = TimeSeriesSplit(n_splits=n, test_size=22000, gap=round(11050,0))\n",
    "\n",
    "\n",
    "\n",
    "for i, (train_index, val_idx) in enumerate(tscv.split(df_train)):\n",
    "        print(f\"======= Fold {i} ========\")\n",
    "        #print(f\"  Train: index={min(train_index)} : {max(train_index)}\")\n",
    "        #print(f\"  Test:  index={min(val_idx)} : {max(val_idx)}\")\n",
    "\n",
    "        X_tr = x_train.loc[train_index]\n",
    "        y_tr = y_train.loc[train_index]\n",
    "\n",
    "        X_val = x_train.loc[val_idx]\n",
    "        y_val = y_train.loc[val_idx] \n",
    "        \n",
    "        scaler = StandardScaler()\n",
    "        scaler.fit(X_tr)\n",
    "        X_tr = scaler.fit_transform(X_tr)\n",
    "        X_val = scaler.transform(X_val)\n",
    "        \n",
    "        proportion_of_ones = y_val[y_val == 1].count() / y_val.count()\n",
    "        proportion_of_zeroes = y_val[y_val == 0].count() / y_val.count()\n",
    "        # Fit Model on Train\n",
    "        \n",
    "        weights = {0:proportion_of_zeroes, 1:proportion_of_ones}\n",
    "        print(\"1:\",proportion_of_ones,\"; 0:\",proportion_of_zeroes)\n",
    "        clf = SVC(gamma='scale', class_weight=weights) \n",
    "        clf.fit(X_tr, y_tr)\n",
    "        pred = clf.predict(X_val)\n",
    "        #print(pred.sum())\n",
    "        #if pred.sum() == 0:\n",
    "        \n",
    "        #Calculation of the proportion  1 to 0\n",
    "        proportion_of_ones = y_tr[y_tr == 1].count() / y_tr.count()\n",
    "\n",
    "        #pred_prob = clf.predict_proba(X_val)[:, 1]\n",
    "        f_one_score = f1_score(y_val, pred)\n",
    "        precision = precision_score(y_val, pred, pos_label=1, average='binary')\n",
    "        #auc_score = roc_auc_score(y_val, pred_prob)\n",
    "\n",
    "        print(f\"Our F1 on the validation set is {f_one_score:0.4f}, precision is {precision:0.4f}\")    \n",
    "        precs.append(precision)\n",
    "        precs_auc = np.mean(precs)\n",
    "\n",
    "        if i == n-1:\n",
    "            print(f'\\n Our out of fold precision is {precs_auc:0.4f} \\n\\n')"
   ]
  },
  {
   "cell_type": "code",
   "execution_count": null,
   "metadata": {},
   "outputs": [],
   "source": [
    "print(np.count_nonzero(pred))\n",
    "print(len(pred))"
   ]
  },
  {
   "cell_type": "code",
   "execution_count": null,
   "metadata": {},
   "outputs": [],
   "source": [
    "ytyt"
   ]
  },
  {
   "cell_type": "markdown",
   "metadata": {},
   "source": [
    "#Creating the x, y variables \n",
    "y_train = df_train[\"future_30dprice_change\"]\n",
    "y_test = df_test[\"future_30dprice_change\"]\n",
    "\n",
    "x_train = df_train.drop(\"future_30dprice_change\", axis = 1)\n",
    "x_test = df_test.drop(\"future_30dprice_change\", axis = 1)\n",
    "\n",
    "lgbm = lgb.LGBMClassifier(random_state=42,n_jobs = 5, n_estimators = 50)\n",
    "lgbm.fit(x_train, y_train)#, categorical_feature=['sector'])\n",
    "\n",
    "#predicting on test set\n",
    "ypred=lgbm.predict(x_test)\n",
    "ypred_prob = lgbm.predict_proba(x_test)[:, 1]\n",
    "\n",
    "#calculating accuracy\n",
    "precision = round(precision_score(y_test, ypred, pos_label=1, average='binary'),2)\n",
    "AUC = round(roc_auc_score(y_test, ypred_prob),2)\n",
    "print(f\"Precision of prediction:{precision:0.2f}, and the AUC is: {AUC:0.2f}\")\n",
    "\n",
    "cm = confusion_matrix(y_test, ypred)\n",
    "cm_matrix = pd.DataFrame(data=cm, columns=['Predict Negative:0', 'Predict Positive:1'], \n",
    "                                 index=['Actual Negative:0', 'Actual Positive:1'])\n",
    "sns.heatmap(cm_matrix, annot=True, fmt='d', cmap='YlGnBu')"
   ]
  },
  {
   "cell_type": "markdown",
   "metadata": {},
   "source": [
    "#### We got increase of precision from 49% in the regression model to 50% in classification model.\n",
    "I know that we are kind of comparing apples to oranges, but with a target we have in mind this is a great result without model tuning and little efforts."
   ]
  },
  {
   "cell_type": "markdown",
   "metadata": {},
   "source": [
    "#### Let's find the best timeframe to invest testing the classification for all the prediction length"
   ]
  },
  {
   "cell_type": "code",
   "execution_count": null,
   "metadata": {},
   "outputs": [],
   "source": [
    "precisions_list = []\n",
    "AUC_list = []\n",
    "feature_importances = []\n",
    "list_of_classification_models = []\n",
    "list_of_test_df = []\n",
    "list_of_ypred = []\n",
    "list_of_ypred_proba = []\n",
    "\n",
    "for j, i in enumerate(targets_all):\n",
    "    remove_redundant_list = list(targets_all)\n",
    "    remove_redundant_list.remove(i)\n",
    "\n",
    "    #df_compact_temp = df_compact.drop(remove_redundant_list,axis = 1)\n",
    "    #df_compact_temp = df_compact_temp[df_compact_temp[i].notna()]\n",
    "    #df_train, df_test = train_test_split(df_compact_temp, test_size=0.2, random_state=42)\n",
    "    df_train, df_test = train_dfs_list[j], test_dfs_list[j]\n",
    "    df_train = df_train.drop(remove_redundant_list,axis = 1)\n",
    "    df_train = df_train[df_train[i].notna()]\n",
    "    df_test = df_test.drop(remove_redundant_list,axis = 1)\n",
    "    df_test = df_test[df_test[i].notna()]\n",
    "\n",
    "    df_train.drop([\"stock\",\"industry\",\"days_after_crisis\"], axis = 1, inplace = True)\n",
    "    df_test.drop([\"stock\",\"industry\",\"days_after_crisis\"], axis = 1, inplace = True)\n",
    "    list_of_test_df.append(df_test)\n",
    "\n",
    "    le = LabelEncoder()\n",
    "    le.fit(df_train[\"sector\"])\n",
    "    df_train[\"sector\"] = le.transform(df_train[\"sector\"])\n",
    "    df_test[\"sector\"] = le.transform(df_test[\"sector\"])\n",
    "\n",
    "    #Creating the x, y variables \n",
    "    y_train = df_train[i]\n",
    "    y_test = df_test[i]\n",
    "\n",
    "    x_train = df_train.drop(i, axis = 1)\n",
    "    x_test = df_test.drop(i, axis = 1)\n",
    "\n",
    "    lgbm = lgb.LGBMClassifier(random_state=42,n_jobs = 5, n_estimators = 50)\n",
    "    lgbm.fit(x_train, y_train, categorical_feature=['sector'])\n",
    "    list_of_classification_models.append(lgbm)\n",
    "\n",
    "    #predicting on test set\n",
    "    ypred=lgbm.predict(x_test)\n",
    "    ypred_prob = lgbm.predict_proba(x_test)[:, 1]\n",
    "    list_of_ypred.append(ypred)\n",
    "    list_of_ypred_proba.append(ypred_prob)\n",
    "\n",
    "    #calculating accuracy\n",
    "    precision = round(precision_score(y_test, ypred, pos_label=1, average='binary'),2)\n",
    "    AUC = round(roc_auc_score(y_test, ypred_prob),2)\n",
    "    print(\"\\n\"*3+\"=\"*50+\"\\n\"+f\"Precision of prediction for {periods[j]}:{precision:0.2f}\")\n",
    "    print(\"\\n\"+f\"AUC of this classifier for {periods[j]}:{AUC:0.2f}\")\n",
    "    precisions_list.append(precision)\n",
    "    AUC_list.append(AUC)\n",
    "\n",
    "    cm = confusion_matrix(y_test, ypred)\n",
    "    cm_matrix = pd.DataFrame(data=cm, columns=['Predict Negative:0', 'Predict Positive:1'], \n",
    "                                     index=['Actual Negative:0', 'Actual Positive:1'])\n",
    "    sns.heatmap(cm_matrix, annot=True, fmt='d', cmap='YlGnBu')\n",
    "    plt.show()\n",
    "    \n",
    "    feature_imp = pd.DataFrame(sorted(zip(lgbm.feature_importances_,x_train.columns)), columns=['Value','Feature'])\n",
    "    feature_imp[\"Value, %\"] = (feature_imp['Value'] / feature_imp['Value'].sum()) * 100\n",
    "    print(feature_imp.sort_values(by='Value, %', ascending=False)[:20])\n",
    "    feature_importances.append(feature_imp[[\"Feature\", \"Value, %\"]])"
   ]
  },
  {
   "cell_type": "markdown",
   "metadata": {},
   "source": [
    "### Let's summarize the precision level we got for every record"
   ]
  },
  {
   "cell_type": "code",
   "execution_count": null,
   "metadata": {},
   "outputs": [],
   "source": [
    "precisions_list = [round(x*100,2) for x in precisions_list]\n",
    "AUC_list = [round(x*100,2) for x in AUC_list]\n",
    "\n",
    "precisions_compare_dt = {\"Precision achieved\":precisions_list,\"AUC achieved\":AUC_list}\n",
    "precisions_compare_df = pd.DataFrame(precisions_compare_dt, index = periods)\n",
    "precisions_compare_df.index.name = \"Forecasted Period, days\"\n",
    "\n",
    "print(precisions_compare_df)"
   ]
  },
  {
   "cell_type": "markdown",
   "metadata": {},
   "source": [
    "The max precision we achieved is for 30days prediction timeframe and is 69%.\n",
    "\n",
    "We also need to remember that to be secure we are not predictiong when the price goes up, but when it goes up for more than 6% in case of 30 days and 4.1% in case of 15 days prediction.\n",
    "\n",
    "I trully wonder what might be the total precision if we compare it with the zero level.\n",
    "We have indexes untouched so lets compare."
   ]
  },
  {
   "cell_type": "code",
   "execution_count": null,
   "metadata": {},
   "outputs": [],
   "source": [
    "# first let's create a new column with the 30days prediction classifier: 0 when price dropped and 1 when it's increased.\n",
    "model_number = 2 # Equal to 60 days\n",
    "df_30d_train = train_dfs_list[model_number]\n",
    "df_30d_test = test_dfs_list[model_number]\n",
    "\n",
    "df_30d_train.loc[df_30d_train[\"future_60dprice_change\"]<0.1, \"60dprice_change_classification\"] = 0\n",
    "df_30d_train.loc[df_30d_train[\"future_60dprice_change\"]>=0.1, \"60dprice_change_classification\"] = 1\n",
    "df_30d_test.loc[df_30d_test[\"future_60dprice_change\"]<0.1, \"60dprice_change_classification\"] = 0\n",
    "df_30d_test.loc[df_30d_test[\"future_60dprice_change\"]>=0.1, \"60dprice_change_classification\"] = 1"
   ]
  },
  {
   "cell_type": "code",
   "execution_count": null,
   "metadata": {},
   "outputs": [],
   "source": [
    "print(df_30d_test.shape)\n",
    "len(list_of_ypred[model_number])"
   ]
  },
  {
   "cell_type": "code",
   "execution_count": null,
   "metadata": {},
   "outputs": [],
   "source": [
    "#let's join prediction result to the test dataframe and get indexes\n",
    "df_prediction = df_30d_test.copy()\n",
    "df_prediction[\"prediction\"] = list_of_ypred[model_number]\n",
    "df_prediction = df_prediction[\"prediction\"]"
   ]
  },
  {
   "cell_type": "code",
   "execution_count": null,
   "metadata": {},
   "outputs": [],
   "source": [
    "#let's connect prediction result by indexes to the main dataframe\n",
    "df_30_compare =  df_30d_test[[\"future_60dprice_change\",\"60dprice_change_classification\"]]\n",
    "df_30_compare = df_30_compare.join(df_prediction, how = 'left')\n",
    "df_30_compare = df_30_compare[df_30_compare[\"prediction\"].notnull()]"
   ]
  },
  {
   "cell_type": "code",
   "execution_count": null,
   "metadata": {},
   "outputs": [],
   "source": [
    "# Now let's see how many negative values were really predicted as positive\n",
    "df_30_compare = df_30_compare[[\"60dprice_change_classification\",\"prediction\"]].groupby(\"60dprice_change_classification\").sum()\n",
    "df_30_compare[\"Value, %\"] = (df_30_compare['prediction'] / df_30_compare['prediction'].sum()) * 100\n",
    "df_30_compare"
   ]
  },
  {
   "cell_type": "markdown",
   "metadata": {},
   "source": [
    "## 86% PRECISION!!!!!"
   ]
  },
  {
   "cell_type": "markdown",
   "metadata": {},
   "source": [
    "We achieved a great precision with a tested results.\n",
    "\n",
    "The only issue here is the number of required deals is close to 2500.\n",
    "\n",
    "The length of the dataset is about 3 months of data, that means implementing the strategy requires making about 800 deals a month.\n",
    "To make outcome feasible a minimum bet should be about 1000USD so the starting capital should be 800K USD.\n",
    "\n",
    "It is not a feasible amount for me personally.\n",
    "\n",
    "I want to find out if increasing of the threshold that our model uses to make a classification about the model, can actually reduce the number of deals and increase the precision even further."
   ]
  },
  {
   "cell_type": "markdown",
   "metadata": {},
   "source": [
    "### Let's try to increase the threshold and check if we can get higher"
   ]
  },
  {
   "cell_type": "code",
   "execution_count": null,
   "metadata": {},
   "outputs": [],
   "source": [
    "#let's join prediction result to the test dataframe and get indexes\n",
    "df_prediction = df_30d_test.copy()\n",
    "df_prediction[\"prediction\"] = list_of_ypred[model_number]\n",
    "df_prediction[\"prediction_proba\"] = list_of_ypred_proba[model_number]\n",
    "df_prediction = df_prediction[[\"prediction\",\"prediction_proba\"]]\n",
    "\n",
    "#let's connect prediction result by indexes to the main dataframe\n",
    "df_30_compare =  df_30d_test[[\"future_60dprice_change\",\"60dprice_change_classification\"]]\n",
    "df_30_compare = df_30_compare.join(df_prediction, how = 'left')\n",
    "df_30_compare = df_30_compare[df_30_compare[\"prediction\"].notnull()]"
   ]
  },
  {
   "cell_type": "markdown",
   "metadata": {},
   "source": [
    "Creating a function that adds new conditinal columns to the dataset"
   ]
  },
  {
   "cell_type": "code",
   "execution_count": null,
   "metadata": {},
   "outputs": [],
   "source": [
    "\n",
    "def add_proba_column(dataframe, old_col, new_col, threshold):\n",
    "    dataframe.loc[dataframe[old_col] >= threshold, new_col] = 1\n",
    "    dataframe.loc[dataframe[old_col] < threshold, new_col] = 0\n",
    "    return dataframe"
   ]
  },
  {
   "cell_type": "markdown",
   "metadata": {},
   "source": [
    "Adding columns"
   ]
  },
  {
   "cell_type": "code",
   "execution_count": null,
   "metadata": {},
   "outputs": [],
   "source": [
    "df_30_compare = add_proba_column(df_30_compare,\"prediction_proba\",\"pred_55\",0.55)\n",
    "df_30_compare = add_proba_column(df_30_compare,\"prediction_proba\",\"pred_60\",0.60)\n",
    "df_30_compare = add_proba_column(df_30_compare,\"prediction_proba\",\"pred_65\",0.65)\n",
    "df_30_compare = add_proba_column(df_30_compare,\"prediction_proba\",\"pred_70\",0.70)\n",
    "df_30_compare = add_proba_column(df_30_compare,\"prediction_proba\",\"pred_75\",0.75)\n",
    "df_30_compare = add_proba_column(df_30_compare,\"prediction_proba\",\"pred_80\",0.80)"
   ]
  },
  {
   "cell_type": "markdown",
   "metadata": {},
   "source": [
    "Add a function to display pivot tables based on a column"
   ]
  },
  {
   "cell_type": "code",
   "execution_count": null,
   "metadata": {},
   "outputs": [],
   "source": [
    "def pivot_precision(dataframe, real_class, prediction_class):\n",
    "    dataframe = dataframe[[real_class,prediction_class]].groupby(real_class).sum()\n",
    "    dataframe[\"Value, %\"] = (dataframe[prediction_class] / dataframe[prediction_class].sum()) * 100\n",
    "    display(dataframe)\n",
    "    print('\\n')"
   ]
  },
  {
   "cell_type": "code",
   "execution_count": null,
   "metadata": {},
   "outputs": [],
   "source": [
    "predicitons_list_str = [\"pred_55\",\"pred_60\",\"pred_65\",\"pred_70\",\"pred_75\",\"pred_80\"]\n",
    "\n",
    "for i in predicitons_list_str:\n",
    "    pivot_precision(df_30_compare, \"60dprice_change_classification\", i)"
   ]
  },
  {
   "cell_type": "markdown",
   "metadata": {},
   "source": [
    "Great, we got 2 last options with the threshold above 75% that allow us to make it works with the much lower budgets.\n",
    "\n",
    "I will works with a model with a modified threshold at 80% level as it allows to work with about 25K USD budget."
   ]
  },
  {
   "cell_type": "markdown",
   "metadata": {},
   "source": [
    "Let's save the model and label encoder to the joblib files"
   ]
  },
  {
   "cell_type": "markdown",
   "metadata": {},
   "source": [
    "Let's relearn our model based on all he data before saving"
   ]
  },
  {
   "cell_type": "code",
   "execution_count": null,
   "metadata": {},
   "outputs": [],
   "source": [
    "feature_importances = []\n",
    "list_of_classification_models = []\n",
    "\n",
    "list_of_ypred = []\n",
    "list_of_ypred_proba = []\n",
    "\n",
    "for j, i in enumerate(targets_all):\n",
    "    remove_redundant_list = list(targets_all)\n",
    "    remove_redundant_list.remove(i)\n",
    "\n",
    "    df_full = full_dfs_list_copy[j]\n",
    "    df_full = df_full.drop(remove_redundant_list,axis = 1)\n",
    "    df_full = df_full[df_full[i].notna()]\n",
    "\n",
    "\n",
    "    df_full.drop([\"stock\",\"industry\",\"days_after_crisis\"], axis = 1, inplace = True)\n",
    "\n",
    "    le = LabelEncoder()\n",
    "    le.fit(df_full[\"sector\"])\n",
    "    df_full[\"sector\"] = le.transform(df_full[\"sector\"])\n",
    "\n",
    "    #Creating the x, y variables \n",
    "    y_train = df_full[i]\n",
    "    x_train = df_full.drop(i, axis = 1)\n",
    "\n",
    "\n",
    "    lgbm = lgb.LGBMClassifier(random_state=42,n_jobs = 5, n_estimators = 50)\n",
    "    lgbm.fit(x_train, y_train, categorical_feature=['sector'])\n",
    "    list_of_classification_models.append(lgbm)\n",
    "   \n",
    "    feature_imp = pd.DataFrame(sorted(zip(lgbm.feature_importances_,x_train.columns)), columns=['Value','Feature'])\n",
    "    feature_imp[\"Value, %\"] = (feature_imp['Value'] / feature_imp['Value'].sum()) * 100\n",
    "    print(feature_imp.sort_values(by='Value, %', ascending=False)[:20])\n",
    "    feature_importances.append(feature_imp[[\"Feature\", \"Value, %\"]])"
   ]
  },
  {
   "cell_type": "markdown",
   "metadata": {},
   "source": [
    "#Saving the label encoder\n",
    "filename = 'C:/Users/oleg.kazanskyi/OneDrive - Danaher/Documents/Trading/Models/label_encoder_012023.joblib'\n",
    "joblib.dump(le, filename)"
   ]
  },
  {
   "cell_type": "markdown",
   "metadata": {},
   "source": [
    "#Saving the models\n",
    "for i, period in enumerate(periods):\n",
    "    folder = 'C:/Users/oleg.kazanskyi/OneDrive - Danaher/Documents/Trading/Models/'\n",
    "    full_path = os.path.join(folder,period+\"_model.joblib\")\n",
    "    joblib.dump(list_of_classification_models[i], full_path)"
   ]
  }
 ],
 "metadata": {
  "kernelspec": {
   "display_name": "Python 3 (ipykernel)",
   "language": "python",
   "name": "python3"
  },
  "language_info": {
   "codemirror_mode": {
    "name": "ipython",
    "version": 3
   },
   "file_extension": ".py",
   "mimetype": "text/x-python",
   "name": "python",
   "nbconvert_exporter": "python",
   "pygments_lexer": "ipython3",
   "version": "3.9.16"
  }
 },
 "nbformat": 4,
 "nbformat_minor": 4
}
