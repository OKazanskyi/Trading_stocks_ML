{
 "cells": [
  {
   "attachments": {},
   "cell_type": "markdown",
   "metadata": {},
   "source": [
    "# ML Part Classification"
   ]
  },
  {
   "attachments": {},
   "cell_type": "markdown",
   "metadata": {},
   "source": [
    "### Building a classificator"
   ]
  },
  {
   "attachments": {},
   "cell_type": "markdown",
   "metadata": {},
   "source": [
    "Ok, we dealt with the numeric prediction of the stock prices movement.\n",
    "\n",
    "At the same time after seeing the results it made me rethink the purpose.\n",
    "\n",
    "I am not a trader and the model I am building doesn't have a purpose of daily stocks exchange.\n",
    "\n",
    "What I want to achieve is to find a stock that with high probability will grow in the next foreseeable future, hold it for a while and sell it with a profit.\n",
    "\n",
    "Considering this maybe we shouldn't solve the regression problem, but make it a classification problem instead."
   ]
  },
  {
   "attachments": {},
   "cell_type": "markdown",
   "metadata": {},
   "source": [
    "To make it the classification problem we would need to replace all price times the prices are going up to 1 and down to zerows.\n",
    "\n",
    "At the same time I want my model to cover the risks, so let's add the risk factor of loosing a bet and make the range wider.\n",
    "We will change values to 1 when the price goes up on the level of 3rd percentile for every time range prediction"
   ]
  },
  {
   "cell_type": "code",
   "execution_count": 546,
   "metadata": {},
   "outputs": [],
   "source": [
    "min_15d_threshold = 4.112\n",
    "min_30d_threshold = 6.18\n",
    "min_60d_threshold = 9.25\n",
    "min_90d_threshold = 11.53\n",
    "min_120d_threshold = 13.77\n",
    "min_150d_threshold = 15.95\n",
    "\n",
    "list_of_thresholds = [min_15d_threshold,min_30d_threshold,min_60d_threshold,min_90d_threshold,min_120d_threshold,min_150d_threshold]"
   ]
  },
  {
   "attachments": {},
   "cell_type": "markdown",
   "metadata": {},
   "source": [
    "Make the changes to the dataset"
   ]
  },
  {
   "cell_type": "code",
   "execution_count": 547,
   "metadata": {},
   "outputs": [],
   "source": [
    "#df_compact_reserve = df_compact.copy()\n",
    "#Creating a copy of the list with the dataframes\n",
    "train_dfs_list_copy = []\n",
    "test_dfs_list_copy = []\n",
    "for i, j in enumerate(target_vars):\n",
    "    train = train_dfs_list[i].copy()\n",
    "    test = test_dfs_list[i].copy()\n",
    "    train_dfs_list_copy.append(train)\n",
    "    test_dfs_list_copy.append(test)\n",
    "\n",
    "for i, j in enumerate(target_vars):\n",
    "    #df_compact.loc[df_compact[j]<list_of_thresholds[i], j] = 0\n",
    "    #df_compact.loc[df_compact[j]>=list_of_thresholds[i], j] = 1\n",
    "    train_dfs_list_copy[i].loc[train_dfs_list_copy[i][j]<list_of_thresholds[i], j] = 0\n",
    "    train_dfs_list_copy[i].loc[train_dfs_list_copy[i][j]>=list_of_thresholds[i], j] = 1\n",
    "    test_dfs_list_copy[i].loc[test_dfs_list_copy[i][j]<list_of_thresholds[i], j] = 0\n",
    "    test_dfs_list_copy[i].loc[test_dfs_list_copy[i][j]>=list_of_thresholds[i], j] = 1"
   ]
  },
  {
   "cell_type": "code",
   "execution_count": 639,
   "metadata": {},
   "outputs": [
    {
     "data": {
      "text/plain": [
       "array([0, 0, 0, 1, 1, 0, 0, 1, 1, 0, 0, 0])"
      ]
     },
     "execution_count": 639,
     "metadata": {},
     "output_type": "execute_result"
    }
   ],
   "source": [
    "np.random.randint(0, 2, 12)\n"
   ]
  },
  {
   "attachments": {},
   "cell_type": "markdown",
   "metadata": {},
   "source": [
    "#### Let's build a model for the 30 days prediction and then do the same for the rest of time frames"
   ]
  },
  {
   "cell_type": "code",
   "execution_count": 653,
   "metadata": {},
   "outputs": [
    {
     "name": "stdout",
     "output_type": "stream",
     "text": [
      "Precision of prediction:0.50, and the AUC is: 0.71\n"
     ]
    },
    {
     "data": {
      "text/plain": [
       "<AxesSubplot:>"
      ]
     },
     "execution_count": 653,
     "metadata": {},
     "output_type": "execute_result"
    },
    {
     "data": {
      "image/png": "[encoded data removed]",
      "text/plain": [
       "<Figure size 432x288 with 2 Axes>"
      ]
     },
     "metadata": {
      "needs_background": "light"
     },
     "output_type": "display_data"
    }
   ],
   "source": [
    "#df_compact_temp = df_compact.drop([\"future_30dprice_change\",\"future_60dprice_change\",\"future_90dprice_change\",\"future_120dprice_change\",\"future_150dprice_change\"],axis = 1)\n",
    "#df_compact_temp = df_compact_temp[df_compact_temp[\"future_15dprice_change\"].notna()]\n",
    "#df_train, df_test = train_test_split(df_compact_temp, test_size=0.2, random_state=42)\n",
    "df_train, df_test = train_dfs_list_copy[1], test_dfs_list_copy[1]\n",
    "df_train = df_train.drop([\"future_15dprice_change\",\"future_60dprice_change\",\"future_90dprice_change\",\"future_120dprice_change\",\"future_150dprice_change\"],axis = 1)\n",
    "df_train = df_train[df_train[\"future_30dprice_change\"].notna()]\n",
    "df_test = df_test.drop([\"future_15dprice_change\",\"future_60dprice_change\",\"future_90dprice_change\",\"future_120dprice_change\",\"future_150dprice_change\"],axis = 1)\n",
    "df_test = df_test[df_test[\"future_30dprice_change\"].notna()]\n",
    "\n",
    "df_train.drop([\"stock\"], axis = 1, inplace = True)\n",
    "df_test.drop([\"stock\"], axis = 1, inplace = True)\n",
    "\n",
    "le = LabelEncoder()\n",
    "le.fit(df_train[\"sector\"])\n",
    "df_train[\"sector\"] = le.transform(df_train[\"sector\"])\n",
    "df_test[\"sector\"] = le.transform(df_test[\"sector\"])\n",
    "\n",
    "#Creating the x, y variables \n",
    "y_train = df_train[\"future_30dprice_change\"]\n",
    "y_test = df_test[\"future_30dprice_change\"]\n",
    "\n",
    "x_train = df_train.drop(\"future_30dprice_change\", axis = 1)\n",
    "x_test = df_test.drop(\"future_30dprice_change\", axis = 1)\n",
    "\n",
    "lgbm = lgb.LGBMClassifier(random_state=42,n_jobs = 5, n_estimators = 50)\n",
    "lgbm.fit(x_train, y_train, categorical_feature=['sector'])\n",
    "\n",
    "#predicting on test set\n",
    "ypred=lgbm.predict(x_test)\n",
    "ypred_prob = lgbm.predict_proba(x_test)[:, 1]\n",
    "\n",
    "#calculating accuracy\n",
    "precision = round(precision_score(y_test, ypred, pos_label=1, average='binary'),2)\n",
    "AUC = round(roc_auc_score(y_test, ypred_prob),2)\n",
    "print(f\"Precision of prediction:{precision:0.2f}, and the AUC is: {AUC:0.2f}\")\n",
    "\n",
    "cm = confusion_matrix(y_test, ypred)\n",
    "cm_matrix = pd.DataFrame(data=cm, columns=['Predict Negative:0', 'Predict Positive:1'], \n",
    "                                 index=['Actual Negative:0', 'Actual Positive:1'])\n",
    "sns.heatmap(cm_matrix, annot=True, fmt='d', cmap='YlGnBu')\n"
   ]
  },
  {
   "attachments": {},
   "cell_type": "markdown",
   "metadata": {},
   "source": [
    "## Cross validation time data"
   ]
  },
  {
   "cell_type": "code",
   "execution_count": 654,
   "metadata": {},
   "outputs": [
    {
     "data": {
      "text/html": [
       "<div>\n",
       "<style scoped>\n",
       "    .dataframe tbody tr th:only-of-type {\n",
       "        vertical-align: middle;\n",
       "    }\n",
       "\n",
       "    .dataframe tbody tr th {\n",
       "        vertical-align: top;\n",
       "    }\n",
       "\n",
       "    .dataframe thead th {\n",
       "        text-align: right;\n",
       "    }\n",
       "</style>\n",
       "<table border=\"1\" class=\"dataframe\">\n",
       "  <thead>\n",
       "    <tr style=\"text-align: right;\">\n",
       "      <th></th>\n",
       "      <th>days_after_earnings_report</th>\n",
       "      <th>sector</th>\n",
       "      <th>ROE</th>\n",
       "      <th>DE</th>\n",
       "      <th>CR</th>\n",
       "      <th>GM</th>\n",
       "      <th>DPR</th>\n",
       "      <th>Acc_Rec_Pay_Ration</th>\n",
       "      <th>ES</th>\n",
       "      <th>DY</th>\n",
       "      <th>...</th>\n",
       "      <th>VIX_DoD</th>\n",
       "      <th>VIX_WoW</th>\n",
       "      <th>VIX_MoM</th>\n",
       "      <th>10YBond</th>\n",
       "      <th>10YB_MoM</th>\n",
       "      <th>10YB_YoY</th>\n",
       "      <th>10YB_200MA_Vector</th>\n",
       "      <th>10Y_Val_to_30MA</th>\n",
       "      <th>10Y_Val_to_200MA</th>\n",
       "      <th>YoY_DY</th>\n",
       "    </tr>\n",
       "  </thead>\n",
       "  <tbody>\n",
       "    <tr>\n",
       "      <th>0</th>\n",
       "      <td>48.0</td>\n",
       "      <td>6</td>\n",
       "      <td>0.020579</td>\n",
       "      <td>1.213657</td>\n",
       "      <td>1.226573</td>\n",
       "      <td>0.373622</td>\n",
       "      <td>0.786611</td>\n",
       "      <td>2.259074</td>\n",
       "      <td>0.972044</td>\n",
       "      <td>3.058483</td>\n",
       "      <td>...</td>\n",
       "      <td>-0.385888</td>\n",
       "      <td>43.412698</td>\n",
       "      <td>48.479869</td>\n",
       "      <td>1.703</td>\n",
       "      <td>8.058376</td>\n",
       "      <td>-26.052974</td>\n",
       "      <td>-0.015955</td>\n",
       "      <td>5.748679</td>\n",
       "      <td>0.647387</td>\n",
       "      <td>109.690527</td>\n",
       "    </tr>\n",
       "    <tr>\n",
       "      <th>1</th>\n",
       "      <td>55.0</td>\n",
       "      <td>6</td>\n",
       "      <td>0.020579</td>\n",
       "      <td>1.213657</td>\n",
       "      <td>1.226573</td>\n",
       "      <td>0.373622</td>\n",
       "      <td>0.786611</td>\n",
       "      <td>2.259074</td>\n",
       "      <td>0.957344</td>\n",
       "      <td>3.012228</td>\n",
       "      <td>...</td>\n",
       "      <td>-14.440895</td>\n",
       "      <td>-25.899281</td>\n",
       "      <td>2.841782</td>\n",
       "      <td>1.632</td>\n",
       "      <td>5.086929</td>\n",
       "      <td>-23.880597</td>\n",
       "      <td>-0.073181</td>\n",
       "      <td>-0.042892</td>\n",
       "      <td>-3.330576</td>\n",
       "      <td>138.288908</td>\n",
       "    </tr>\n",
       "  </tbody>\n",
       "</table>\n",
       "<p>2 rows × 39 columns</p>\n",
       "</div>"
      ],
      "text/plain": [
       "   days_after_earnings_report  sector       ROE        DE        CR        GM  \\\n",
       "0                        48.0       6  0.020579  1.213657  1.226573  0.373622   \n",
       "1                        55.0       6  0.020579  1.213657  1.226573  0.373622   \n",
       "\n",
       "        DPR  Acc_Rec_Pay_Ration        ES        DY  ...    VIX_DoD  \\\n",
       "0  0.786611            2.259074  0.972044  3.058483  ...  -0.385888   \n",
       "1  0.786611            2.259074  0.957344  3.012228  ... -14.440895   \n",
       "\n",
       "     VIX_WoW    VIX_MoM  10YBond  10YB_MoM   10YB_YoY  10YB_200MA_Vector  \\\n",
       "0  43.412698  48.479869    1.703  8.058376 -26.052974          -0.015955   \n",
       "1 -25.899281   2.841782    1.632  5.086929 -23.880597          -0.073181   \n",
       "\n",
       "   10Y_Val_to_30MA  10Y_Val_to_200MA      YoY_DY  \n",
       "0         5.748679          0.647387  109.690527  \n",
       "1        -0.042892         -3.330576  138.288908  \n",
       "\n",
       "[2 rows x 39 columns]"
      ]
     },
     "metadata": {},
     "output_type": "display_data"
    },
    {
     "data": {
      "text/plain": [
       "(121294, 39)"
      ]
     },
     "execution_count": 654,
     "metadata": {},
     "output_type": "execute_result"
    }
   ],
   "source": [
    "df_train.sort_index(ascending = False, inplace = True)\n",
    "df_train.reset_index(inplace = True)\n",
    "df_train.drop('index', axis = 1, inplace = True)\n",
    "\n",
    "display(df_train.head(2))\n",
    "df_train.shape"
   ]
  },
  {
   "cell_type": "code",
   "execution_count": 661,
   "metadata": {},
   "outputs": [
    {
     "name": "stdout",
     "output_type": "stream",
     "text": [
      "======= Fold 0 ========\n",
      "  Train: index=0 : 59293\n",
      "  Test:  index=61294 : 67293\n",
      "2228.0\n",
      "Our accuracy on the validation set is 0.8015, precision is 0.6382, and AUC is 0.8308\n",
      "Our out of fold AUC score is 0.8308 and precision is 0.6382 \n",
      "\n",
      "\n",
      "======= Fold 1 ========\n",
      "  Train: index=0 : 65293\n",
      "  Test:  index=67294 : 73293\n",
      "1400.0\n",
      "Our accuracy on the validation set is 0.5620, precision is 0.4286, and AUC is 0.5563\n",
      "Our out of fold AUC score is 0.6936 and precision is 0.5334 \n",
      "\n",
      "\n",
      "======= Fold 2 ========\n",
      "  Train: index=0 : 71293\n",
      "  Test:  index=73294 : 79293\n",
      "97.0\n",
      "Our accuracy on the validation set is 0.7270, precision is 0.4845, and AUC is 0.5774\n",
      "Our out of fold AUC score is 0.6548 and precision is 0.5171 \n",
      "\n",
      "\n",
      "======= Fold 3 ========\n",
      "  Train: index=0 : 77293\n",
      "  Test:  index=79294 : 85293\n",
      "0.0\n",
      "Our accuracy on the validation set is 0.6295, precision is 0.0000, and AUC is 0.5761\n",
      "Our out of fold AUC score is 0.6352 and precision is 0.3878 \n",
      "\n",
      "\n",
      "======= Fold 4 ========\n",
      "  Train: index=0 : 83293\n",
      "  Test:  index=85294 : 91293\n",
      "350.0\n",
      "Our accuracy on the validation set is 0.6190, precision is 0.4400, and AUC is 0.5363\n",
      "Our out of fold AUC score is 0.6154 and precision is 0.3983 \n",
      "\n",
      "\n",
      "======= Fold 5 ========\n",
      "  Train: index=0 : 89293\n",
      "  Test:  index=91294 : 97293\n",
      "14.0\n",
      "Our accuracy on the validation set is 0.7910, precision is 0.6429, and AUC is 0.5618\n",
      "Our out of fold AUC score is 0.6064 and precision is 0.4390 \n",
      "\n",
      "\n",
      "======= Fold 6 ========\n",
      "  Train: index=0 : 95293\n",
      "  Test:  index=97294 : 103293\n",
      "0.0\n",
      "Our accuracy on the validation set is 0.7897, precision is 0.0000, and AUC is 0.6339\n",
      "Our out of fold AUC score is 0.6104 and precision is 0.3763 \n",
      "\n",
      "\n",
      "======= Fold 7 ========\n",
      "  Train: index=0 : 101293\n",
      "  Test:  index=103294 : 109293\n",
      "0.0\n",
      "Our accuracy on the validation set is 0.7530, precision is 0.0000, and AUC is 0.5999\n",
      "Our out of fold AUC score is 0.6090 and precision is 0.3293 \n",
      "\n",
      "\n",
      "======= Fold 8 ========\n",
      "  Train: index=0 : 107293\n",
      "  Test:  index=109294 : 115293\n",
      "33.0\n",
      "Our accuracy on the validation set is 0.7800, precision is 0.2424, and AUC is 0.5822\n",
      "Our out of fold AUC score is 0.6061 and precision is 0.3196 \n",
      "\n",
      "\n",
      "======= Fold 9 ========\n",
      "  Train: index=0 : 113293\n",
      "  Test:  index=115294 : 121293\n",
      "2541.0\n",
      "Our accuracy on the validation set is 0.5393, precision is 0.1704, and AUC is 0.5137\n",
      "Our out of fold AUC score is 0.5968 and precision is 0.3047 \n",
      "\n",
      "\n"
     ]
    }
   ],
   "source": [
    "y_train = df_train[\"future_30dprice_change\"]\n",
    "x_train = df_train.drop(\"future_30dprice_change\", axis = 1)\n",
    "\n",
    "tscv = TimeSeriesSplit(n_splits=10, test_size=6000, gap=round(4.4*502,0))\n",
    "\n",
    "aucs = []\n",
    "precs = []\n",
    "\n",
    "for i, (train_index, val_idx) in enumerate(tscv.split(df_train)):\n",
    "        print(f\"======= Fold {i} ========\")\n",
    "        print(f\"  Train: index={min(train_index)} : {max(train_index)}\")\n",
    "        print(f\"  Test:  index={min(val_idx)} : {max(val_idx)}\")\n",
    "\n",
    "        X_tr = x_train.loc[train_index]\n",
    "        y_tr = y_train.loc[train_index]\n",
    "\n",
    "        X_val = x_train.loc[val_idx]\n",
    "        y_val = y_train.loc[val_idx] \n",
    "\n",
    "        # Fit Model on Train\n",
    "        clf = lgb.LGBMClassifier(random_state=42,n_jobs = 5, n_estimators = 50)\n",
    "        clf.fit(X_tr, y_tr)\n",
    "        pred = clf.predict(X_val)\n",
    "        print(pred.sum())\n",
    "        if pred.sum() == 0:\n",
    "            \n",
    "        pred_prob = clf.predict_proba(X_val)[:, 1]\n",
    "        acc_score = accuracy_score(y_val, pred)\n",
    "        precision = precision_score(y_val, pred, pos_label=1, average='binary')\n",
    "        auc_score = roc_auc_score(y_val, pred_prob)\n",
    "        \n",
    "        print(\n",
    "        f\"Our accuracy on the validation set is {acc_score:0.4f}, precision is {precision:0.4f}, and AUC is {auc_score:0.4f}\"\n",
    "        )\n",
    "        aucs.append(auc_score)\n",
    "        oof_auc = np.mean(aucs)\n",
    "        precs.append(precision)\n",
    "        precs_auc = np.mean(precs)\n",
    "        print(f'Our out of fold AUC score is {oof_auc:0.4f} and precision is {precs_auc:0.4f} \\n\\n')"
   ]
  },
  {
   "cell_type": "code",
   "execution_count": null,
   "metadata": {},
   "outputs": [],
   "source": [
    "#Creating the x, y variables \n",
    "y_train = df_train[\"future_30dprice_change\"]\n",
    "y_test = df_test[\"future_30dprice_change\"]\n",
    "\n",
    "x_train = df_train.drop(\"future_30dprice_change\", axis = 1)\n",
    "x_test = df_test.drop(\"future_30dprice_change\", axis = 1)\n",
    "\n",
    "\n",
    "\n",
    "lgbm = lgb.LGBMClassifier(random_state=42,n_jobs = 5, n_estimators = 50)\n",
    "lgbm.fit(x_train, y_train, categorical_feature=['sector'])\n",
    "\n",
    "#predicting on test set\n",
    "ypred=lgbm.predict(x_test)\n",
    "ypred_prob = lgbm.predict_proba(x_test)[:, 1]\n",
    "\n",
    "#calculating accuracy\n",
    "precision = round(precision_score(y_test, ypred, pos_label=1, average='binary'),2)\n",
    "AUC = round(roc_auc_score(y_test, ypred_prob),2)\n",
    "print(f\"Precision of prediction:{precision:0.2f}, and the AUC is: {AUC:0.2f}\")\n",
    "\n",
    "cm = confusion_matrix(y_test, ypred)\n",
    "cm_matrix = pd.DataFrame(data=cm, columns=['Predict Negative:0', 'Predict Positive:1'], \n",
    "                                 index=['Actual Negative:0', 'Actual Positive:1'])\n",
    "sns.heatmap(cm_matrix, annot=True, fmt='d', cmap='YlGnBu')"
   ]
  },
  {
   "attachments": {},
   "cell_type": "markdown",
   "metadata": {},
   "source": [
    "#### We got increase of precision from 49% in the regression model to 50% in classification model.\n",
    "I know that we are kind of comparing apples to oranges, but with a target we have in mind this is a great result without model tuning and little efforts."
   ]
  },
  {
   "attachments": {},
   "cell_type": "markdown",
   "metadata": {},
   "source": [
    "#### Let's find the best timeframe to invest testing the classification for all the prediction length"
   ]
  },
  {
   "cell_type": "code",
   "execution_count": 550,
   "metadata": {},
   "outputs": [
    {
     "name": "stderr",
     "output_type": "stream",
     "text": [
      "C:\\Users\\oleg.kazanskyi\\Anaconda3\\envs\\ML_env\\lib\\site-packages\\lightgbm\\basic.py:1702: UserWarning: Using categorical_feature in Dataset.\n",
      "  _log_warning('Using categorical_feature in Dataset.')\n"
     ]
    },
    {
     "name": "stdout",
     "output_type": "stream",
     "text": [
      "\n",
      "\n",
      "\n",
      "==================================================\n",
      "Precision of prediction for 15days:0.38\n",
      "\n",
      "AUC of this classifier for 15days:0.63\n"
     ]
    },
    {
     "data": {
      "image/png": "[encoded data removed]",
      "text/plain": [
       "<Figure size 432x288 with 2 Axes>"
      ]
     },
     "metadata": {
      "needs_background": "light"
     },
     "output_type": "display_data"
    },
    {
     "name": "stdout",
     "output_type": "stream",
     "text": [
      "    Value            Feature   Value, %\n",
      "37    230  days_after_crisis  15.333333\n",
      "36    122           VIX_high   8.133333\n",
      "35    115             sector   7.666667\n",
      "34    113           10YB_YoY   7.533333\n",
      "33    102  10YB_200MA_Vector   6.800000\n",
      "32     86            VIX_MoM   5.733333\n",
      "31     84            10YBond   5.600000\n",
      "30     76   10Y_Val_to_200MA   5.066667\n",
      "29     69    10Y_Val_to_30MA   4.600000\n",
      "28     67            VIX_WoW   4.466667\n"
     ]
    },
    {
     "name": "stderr",
     "output_type": "stream",
     "text": [
      "C:\\Users\\oleg.kazanskyi\\Anaconda3\\envs\\ML_env\\lib\\site-packages\\lightgbm\\basic.py:1702: UserWarning: Using categorical_feature in Dataset.\n",
      "  _log_warning('Using categorical_feature in Dataset.')\n"
     ]
    },
    {
     "name": "stdout",
     "output_type": "stream",
     "text": [
      "\n",
      "\n",
      "\n",
      "==================================================\n",
      "Precision of prediction for 30days:0.50\n",
      "\n",
      "AUC of this classifier for 30days:0.71\n"
     ]
    },
    {
     "data": {
      "image/png": "[encoded data removed]",
      "text/plain": [
       "<Figure size 432x288 with 2 Axes>"
      ]
     },
     "metadata": {
      "needs_background": "light"
     },
     "output_type": "display_data"
    },
    {
     "name": "stdout",
     "output_type": "stream",
     "text": [
      "    Value                     Feature   Value, %\n",
      "37    258           days_after_crisis  17.200000\n",
      "36    168                      sector  11.200000\n",
      "35    108                    10YB_YoY   7.200000\n",
      "34     90                    VIX_high   6.000000\n",
      "33     79           10YB_200MA_Vector   5.266667\n",
      "32     57                     10YBond   3.800000\n",
      "31     56                          PE   3.733333\n",
      "30     48  days_after_earnings_report   3.200000\n",
      "28     44                    10YB_MoM   2.933333\n",
      "29     44            10Y_Val_to_200MA   2.933333\n"
     ]
    },
    {
     "name": "stderr",
     "output_type": "stream",
     "text": [
      "C:\\Users\\oleg.kazanskyi\\Anaconda3\\envs\\ML_env\\lib\\site-packages\\lightgbm\\basic.py:1702: UserWarning: Using categorical_feature in Dataset.\n",
      "  _log_warning('Using categorical_feature in Dataset.')\n"
     ]
    },
    {
     "name": "stdout",
     "output_type": "stream",
     "text": [
      "\n",
      "\n",
      "\n",
      "==================================================\n",
      "Precision of prediction for 60days:0.10\n",
      "\n",
      "AUC of this classifier for 60days:0.23\n"
     ]
    },
    {
     "data": {
      "image/png": "[encoded data removed]",
      "text/plain": [
       "<Figure size 432x288 with 2 Axes>"
      ]
     },
     "metadata": {
      "needs_background": "light"
     },
     "output_type": "display_data"
    },
    {
     "name": "stdout",
     "output_type": "stream",
     "text": [
      "    Value            Feature   Value, %\n",
      "37    206  days_after_crisis  13.733333\n",
      "36    171             sector  11.400000\n",
      "35     74           10YB_YoY   4.933333\n",
      "34     69            10YBond   4.600000\n",
      "33     61           VIX_high   4.066667\n",
      "32     60  10YB_200MA_Vector   4.000000\n",
      "31     53                 CR   3.533333\n",
      "30     52                 PE   3.466667\n",
      "29     51                 DE   3.400000\n",
      "28     44                ROE   2.933333\n"
     ]
    },
    {
     "name": "stderr",
     "output_type": "stream",
     "text": [
      "C:\\Users\\oleg.kazanskyi\\Anaconda3\\envs\\ML_env\\lib\\site-packages\\lightgbm\\basic.py:1702: UserWarning: Using categorical_feature in Dataset.\n",
      "  _log_warning('Using categorical_feature in Dataset.')\n"
     ]
    },
    {
     "name": "stdout",
     "output_type": "stream",
     "text": [
      "\n",
      "\n",
      "\n",
      "==================================================\n",
      "Precision of prediction for 90days:0.31\n",
      "\n",
      "AUC of this classifier for 90days:0.55\n"
     ]
    },
    {
     "data": {
      "image/png": "[encoded data removed]",
      "text/plain": [
       "<Figure size 432x288 with 2 Axes>"
      ]
     },
     "metadata": {
      "needs_background": "light"
     },
     "output_type": "display_data"
    },
    {
     "name": "stdout",
     "output_type": "stream",
     "text": [
      "    Value             Feature   Value, %\n",
      "37    232   days_after_crisis  15.466667\n",
      "36    166              sector  11.066667\n",
      "35     77                  DE   5.133333\n",
      "34     59            10YB_YoY   3.933333\n",
      "33     58                  CR   3.866667\n",
      "32     54  Acc_Rec_Pay_Ration   3.600000\n",
      "31     53                 ROE   3.533333\n",
      "30     50                  PE   3.333333\n",
      "29     50                  DY   3.333333\n",
      "28     44                  GM   2.933333\n"
     ]
    },
    {
     "name": "stderr",
     "output_type": "stream",
     "text": [
      "C:\\Users\\oleg.kazanskyi\\Anaconda3\\envs\\ML_env\\lib\\site-packages\\lightgbm\\basic.py:1702: UserWarning: Using categorical_feature in Dataset.\n",
      "  _log_warning('Using categorical_feature in Dataset.')\n"
     ]
    },
    {
     "name": "stdout",
     "output_type": "stream",
     "text": [
      "\n",
      "\n",
      "\n",
      "==================================================\n",
      "Precision of prediction for 120days:0.11\n",
      "\n",
      "AUC of this classifier for 120days:0.46\n"
     ]
    },
    {
     "data": {
      "image/png": "[encoded data removed]",
      "text/plain": [
       "<Figure size 432x288 with 2 Axes>"
      ]
     },
     "metadata": {
      "needs_background": "light"
     },
     "output_type": "display_data"
    },
    {
     "name": "stdout",
     "output_type": "stream",
     "text": [
      "    Value             Feature   Value, %\n",
      "37    186   days_after_crisis  12.400000\n",
      "36    174              sector  11.600000\n",
      "35     80                  DE   5.333333\n",
      "34     65  Acc_Rec_Pay_Ration   4.333333\n",
      "33     58                 ROE   3.866667\n",
      "32     53   EPS_1Y_exp_Change   3.533333\n",
      "31     51                  CR   3.400000\n",
      "30     50                  DY   3.333333\n",
      "29     48         PEG_Forward   3.200000\n",
      "28     47              YoY_GM   3.133333\n"
     ]
    },
    {
     "name": "stderr",
     "output_type": "stream",
     "text": [
      "C:\\Users\\oleg.kazanskyi\\Anaconda3\\envs\\ML_env\\lib\\site-packages\\lightgbm\\basic.py:1702: UserWarning: Using categorical_feature in Dataset.\n",
      "  _log_warning('Using categorical_feature in Dataset.')\n"
     ]
    },
    {
     "name": "stdout",
     "output_type": "stream",
     "text": [
      "\n",
      "\n",
      "\n",
      "==================================================\n",
      "Precision of prediction for 150days:0.14\n",
      "\n",
      "AUC of this classifier for 150days:0.53\n"
     ]
    },
    {
     "data": {
      "image/png": "[encoded data removed]",
      "text/plain": [
       "<Figure size 432x288 with 2 Axes>"
      ]
     },
     "metadata": {
      "needs_background": "light"
     },
     "output_type": "display_data"
    },
    {
     "name": "stdout",
     "output_type": "stream",
     "text": [
      "    Value             Feature   Value, %\n",
      "37    174              sector  11.600000\n",
      "36    162   days_after_crisis  10.800000\n",
      "35     77                  DE   5.133333\n",
      "34     66  Acc_Rec_Pay_Ration   4.400000\n",
      "33     62                  CR   4.133333\n",
      "32     61                  DY   4.066667\n",
      "31     58   EPS_1Y_exp_Change   3.866667\n",
      "30     56              YoY_GM   3.733333\n",
      "29     54      EPS_YoY_Growth   3.600000\n",
      "28     52            VIX_high   3.466667\n"
     ]
    }
   ],
   "source": [
    "precisions_list = []\n",
    "AUC_list = []\n",
    "feature_importances = []\n",
    "list_of_classification_models = []\n",
    "list_of_test_df = []\n",
    "list_of_ypred = []\n",
    "list_of_ypred_proba = []\n",
    "\n",
    "for j, i in enumerate(targets_all):\n",
    "    remove_redundant_list = list(targets_all)\n",
    "    remove_redundant_list.remove(i)\n",
    "\n",
    "    #df_compact_temp = df_compact.drop(remove_redundant_list,axis = 1)\n",
    "    #df_compact_temp = df_compact_temp[df_compact_temp[i].notna()]\n",
    "    #df_train, df_test = train_test_split(df_compact_temp, test_size=0.2, random_state=42)\n",
    "    df_train, df_test = train_dfs_list_copy[j], test_dfs_list_copy[j]\n",
    "    df_train = df_train.drop(remove_redundant_list,axis = 1)\n",
    "    df_train = df_train[df_train[i].notna()]\n",
    "    df_test = df_test.drop(remove_redundant_list,axis = 1)\n",
    "    df_test = df_test[df_test[i].notna()]\n",
    "\n",
    "    df_train.drop([\"stock\"], axis = 1, inplace = True)\n",
    "    df_test.drop([\"stock\"], axis = 1, inplace = True)\n",
    "    list_of_test_df.append(df_test)\n",
    "\n",
    "    le = LabelEncoder()\n",
    "    le.fit(df_train[\"sector\"])\n",
    "    df_train[\"sector\"] = le.transform(df_train[\"sector\"])\n",
    "    df_test[\"sector\"] = le.transform(df_test[\"sector\"])\n",
    "\n",
    "    #Creating the x, y variables \n",
    "    y_train = df_train[i]\n",
    "    y_test = df_test[i]\n",
    "\n",
    "    x_train = df_train.drop(i, axis = 1)\n",
    "    x_test = df_test.drop(i, axis = 1)\n",
    "\n",
    "    lgbm = lgb.LGBMClassifier(random_state=42,n_jobs = 5, n_estimators = 50)\n",
    "    lgbm.fit(x_train, y_train, categorical_feature=['sector'])\n",
    "    list_of_classification_models.append(lgbm)\n",
    "\n",
    "    #predicting on test set\n",
    "    ypred=lgbm.predict(x_test)\n",
    "    ypred_prob = lgbm.predict_proba(x_test)[:, 1]\n",
    "    list_of_ypred.append(ypred)\n",
    "    list_of_ypred_proba.append(ypred_prob)\n",
    "\n",
    "    #calculating accuracy\n",
    "    precision = round(precision_score(y_test, ypred, pos_label=1, average='binary'),2)\n",
    "    AUC = round(roc_auc_score(y_test, ypred_prob),2)\n",
    "    print(\"\\n\"*3+\"=\"*50+\"\\n\"+f\"Precision of prediction for {periods[j]}:{precision:0.2f}\")\n",
    "    print(\"\\n\"+f\"AUC of this classifier for {periods[j]}:{AUC:0.2f}\")\n",
    "    precisions_list.append(precision)\n",
    "    AUC_list.append(AUC)\n",
    "\n",
    "    cm = confusion_matrix(y_test, ypred)\n",
    "    cm_matrix = pd.DataFrame(data=cm, columns=['Predict Negative:0', 'Predict Positive:1'], \n",
    "                                     index=['Actual Negative:0', 'Actual Positive:1'])\n",
    "    sns.heatmap(cm_matrix, annot=True, fmt='d', cmap='YlGnBu')\n",
    "    plt.show()\n",
    "    \n",
    "    feature_imp = pd.DataFrame(sorted(zip(lgbm.feature_importances_,x_train.columns)), columns=['Value','Feature'])\n",
    "    feature_imp[\"Value, %\"] = (feature_imp['Value'] / feature_imp['Value'].sum()) * 100\n",
    "    print(feature_imp.sort_values(by='Value, %', ascending=False)[:10])\n",
    "    feature_importances.append(feature_imp[[\"Feature\", \"Value, %\"]])"
   ]
  },
  {
   "attachments": {},
   "cell_type": "markdown",
   "metadata": {},
   "source": [
    "### Let's summarize the precision level we got for every record"
   ]
  },
  {
   "cell_type": "code",
   "execution_count": 551,
   "metadata": {},
   "outputs": [
    {
     "name": "stdout",
     "output_type": "stream",
     "text": [
      "                         Precision achieved  AUC achieved\n",
      "Forecasted Period, days                                  \n",
      "15                                     38.0          63.0\n",
      "30                                     50.0          71.0\n",
      "60                                     10.0          23.0\n",
      "90                                     31.0          55.0\n",
      "120                                    11.0          46.0\n",
      "150                                    14.0          53.0\n"
     ]
    }
   ],
   "source": [
    "precisions_list = [round(x*100,2) for x in precisions_list]\n",
    "AUC_list = [round(x*100,2) for x in AUC_list]\n",
    "\n",
    "precisions_compare_dt = {\"Precision achieved\":precisions_list,\"AUC achieved\":AUC_list}\n",
    "precisions_compare_df= pd.DataFrame(precisions_compare_dt, index=index)\n",
    "precisions_compare_df.index.name = \"Forecasted Period, days\"\n",
    "\n",
    "print(precisions_compare_df)"
   ]
  },
  {
   "attachments": {},
   "cell_type": "markdown",
   "metadata": {},
   "source": [
    "The max precision we achieved is for 30days prediction timeframe and it's 50%.\n",
    "\n",
    "We also need to remember that to be secure we are not predictiong when the price goes up, but when it goes up for more than 6% in case of 30 days and 4.1% in case of 15 days prediction.\n",
    "\n",
    "I trully wonder what might be the total precision if we compare it with the zero level.\n",
    "We have indexes untouched so lets compare."
   ]
  },
  {
   "cell_type": "code",
   "execution_count": 556,
   "metadata": {},
   "outputs": [],
   "source": [
    "# first let's create a new column with the 30days prediction classifier: 0 when price dropped and 1 when it's increased.\n",
    "df_30d_train = train_dfs_list[1]\n",
    "df_30d_test = test_dfs_list[1]\n",
    "\n",
    "df_30d_train.loc[df_30d_train[\"future_30dprice_change\"]<0.1, \"30dprice_change_classification\"] = 0\n",
    "df_30d_train.loc[df_30d_train[\"future_30dprice_change\"]>=0.1, \"30dprice_change_classification\"] = 1\n",
    "df_30d_test.loc[df_30d_test[\"future_30dprice_change\"]<0.1, \"30dprice_change_classification\"] = 0\n",
    "df_30d_test.loc[df_30d_test[\"future_30dprice_change\"]>=0.1, \"30dprice_change_classification\"] = 1"
   ]
  },
  {
   "cell_type": "code",
   "execution_count": 566,
   "metadata": {},
   "outputs": [
    {
     "name": "stdout",
     "output_type": "stream",
     "text": [
      "(6491, 46)\n"
     ]
    },
    {
     "data": {
      "text/plain": [
       "6491"
      ]
     },
     "execution_count": 566,
     "metadata": {},
     "output_type": "execute_result"
    }
   ],
   "source": [
    "print(df_30d_test.shape)\n",
    "len(list_of_ypred[1])"
   ]
  },
  {
   "cell_type": "code",
   "execution_count": 567,
   "metadata": {},
   "outputs": [],
   "source": [
    "#let's join prediction result to the test dataframe and get indexes\n",
    "df_prediction = df_30d_test.copy()\n",
    "df_prediction[\"prediction\"] = list_of_ypred[1]\n",
    "df_prediction = df_prediction[\"prediction\"]"
   ]
  },
  {
   "cell_type": "code",
   "execution_count": 568,
   "metadata": {},
   "outputs": [],
   "source": [
    "#let's connect prediction result by indexes to the main dataframe\n",
    "df_30_compare =  df_30d_test[[\"future_30dprice_change\",\"30dprice_change_classification\"]]\n",
    "df_30_compare = df_30_compare.join(df_prediction, how = 'left')\n",
    "df_30_compare = df_30_compare[df_30_compare[\"prediction\"].notnull()]"
   ]
  },
  {
   "cell_type": "code",
   "execution_count": 569,
   "metadata": {},
   "outputs": [
    {
     "data": {
      "text/html": [
       "<div>\n",
       "<style scoped>\n",
       "    .dataframe tbody tr th:only-of-type {\n",
       "        vertical-align: middle;\n",
       "    }\n",
       "\n",
       "    .dataframe tbody tr th {\n",
       "        vertical-align: top;\n",
       "    }\n",
       "\n",
       "    .dataframe thead th {\n",
       "        text-align: right;\n",
       "    }\n",
       "</style>\n",
       "<table border=\"1\" class=\"dataframe\">\n",
       "  <thead>\n",
       "    <tr style=\"text-align: right;\">\n",
       "      <th></th>\n",
       "      <th>prediction</th>\n",
       "      <th>Value, %</th>\n",
       "    </tr>\n",
       "    <tr>\n",
       "      <th>30dprice_change_classification</th>\n",
       "      <th></th>\n",
       "      <th></th>\n",
       "    </tr>\n",
       "  </thead>\n",
       "  <tbody>\n",
       "    <tr>\n",
       "      <th>0.0</th>\n",
       "      <td>442.0</td>\n",
       "      <td>30.715775</td>\n",
       "    </tr>\n",
       "    <tr>\n",
       "      <th>1.0</th>\n",
       "      <td>997.0</td>\n",
       "      <td>69.284225</td>\n",
       "    </tr>\n",
       "  </tbody>\n",
       "</table>\n",
       "</div>"
      ],
      "text/plain": [
       "                                prediction   Value, %\n",
       "30dprice_change_classification                       \n",
       "0.0                                  442.0  30.715775\n",
       "1.0                                  997.0  69.284225"
      ]
     },
     "execution_count": 569,
     "metadata": {},
     "output_type": "execute_result"
    }
   ],
   "source": [
    "# Now let's see how many negative values were really predicted as positive\n",
    "df_30_compare = df_30_compare[[\"30dprice_change_classification\",\"prediction\"]].groupby(\"30dprice_change_classification\").sum()\n",
    "df_30_compare[\"Value, %\"] = (df_30_compare['prediction'] / df_30_compare['prediction'].sum()) * 100\n",
    "df_30_compare"
   ]
  },
  {
   "attachments": {},
   "cell_type": "markdown",
   "metadata": {},
   "source": [
    "## 69% PRECISION!!!!!"
   ]
  },
  {
   "attachments": {},
   "cell_type": "markdown",
   "metadata": {},
   "source": [
    "This is a great result so far. \n",
    "\n",
    "Let's check if we can make it higher playing with the LightGBM probability"
   ]
  },
  {
   "cell_type": "code",
   "execution_count": 609,
   "metadata": {},
   "outputs": [
    {
     "data": {
      "text/html": [
       "<div>\n",
       "<style scoped>\n",
       "    .dataframe tbody tr th:only-of-type {\n",
       "        vertical-align: middle;\n",
       "    }\n",
       "\n",
       "    .dataframe tbody tr th {\n",
       "        vertical-align: top;\n",
       "    }\n",
       "\n",
       "    .dataframe thead th {\n",
       "        text-align: right;\n",
       "    }\n",
       "</style>\n",
       "<table border=\"1\" class=\"dataframe\">\n",
       "  <thead>\n",
       "    <tr style=\"text-align: right;\">\n",
       "      <th></th>\n",
       "      <th>30dprice_change_classification</th>\n",
       "      <th>proba</th>\n",
       "    </tr>\n",
       "  </thead>\n",
       "  <tbody>\n",
       "    <tr>\n",
       "      <th>2002</th>\n",
       "      <td>1.0</td>\n",
       "      <td>0.212079</td>\n",
       "    </tr>\n",
       "    <tr>\n",
       "      <th>2003</th>\n",
       "      <td>0.0</td>\n",
       "      <td>0.340736</td>\n",
       "    </tr>\n",
       "    <tr>\n",
       "      <th>2004</th>\n",
       "      <td>1.0</td>\n",
       "      <td>0.337511</td>\n",
       "    </tr>\n",
       "    <tr>\n",
       "      <th>2005</th>\n",
       "      <td>1.0</td>\n",
       "      <td>0.237776</td>\n",
       "    </tr>\n",
       "    <tr>\n",
       "      <th>2006</th>\n",
       "      <td>1.0</td>\n",
       "      <td>0.289579</td>\n",
       "    </tr>\n",
       "  </tbody>\n",
       "</table>\n",
       "</div>"
      ],
      "text/plain": [
       "      30dprice_change_classification     proba\n",
       "2002                             1.0  0.212079\n",
       "2003                             0.0  0.340736\n",
       "2004                             1.0  0.337511\n",
       "2005                             1.0  0.237776\n",
       "2006                             1.0  0.289579"
      ]
     },
     "metadata": {},
     "output_type": "display_data"
    }
   ],
   "source": [
    "df_30_compare =  df_30d_test[[\"30dprice_change_classification\"]]\n",
    "df_30_compare[\"proba\"] = list_of_ypred_proba[1]\n",
    "display(df_30_compare.head(5))"
   ]
  },
  {
   "cell_type": "code",
   "execution_count": 612,
   "metadata": {},
   "outputs": [
    {
     "data": {
      "text/html": [
       "<div>\n",
       "<style scoped>\n",
       "    .dataframe tbody tr th:only-of-type {\n",
       "        vertical-align: middle;\n",
       "    }\n",
       "\n",
       "    .dataframe tbody tr th {\n",
       "        vertical-align: top;\n",
       "    }\n",
       "\n",
       "    .dataframe thead th {\n",
       "        text-align: right;\n",
       "    }\n",
       "</style>\n",
       "<table border=\"1\" class=\"dataframe\">\n",
       "  <thead>\n",
       "    <tr style=\"text-align: right;\">\n",
       "      <th></th>\n",
       "      <th>class_calc</th>\n",
       "      <th>Value, %</th>\n",
       "    </tr>\n",
       "    <tr>\n",
       "      <th>30dprice_change_classification</th>\n",
       "      <th></th>\n",
       "      <th></th>\n",
       "    </tr>\n",
       "  </thead>\n",
       "  <tbody>\n",
       "    <tr>\n",
       "      <th>0.0</th>\n",
       "      <td>442</td>\n",
       "      <td>30.715775</td>\n",
       "    </tr>\n",
       "    <tr>\n",
       "      <th>1.0</th>\n",
       "      <td>997</td>\n",
       "      <td>69.284225</td>\n",
       "    </tr>\n",
       "  </tbody>\n",
       "</table>\n",
       "</div>"
      ],
      "text/plain": [
       "                                class_calc   Value, %\n",
       "30dprice_change_classification                       \n",
       "0.0                                    442  30.715775\n",
       "1.0                                    997  69.284225"
      ]
     },
     "metadata": {},
     "output_type": "display_data"
    },
    {
     "data": {
      "text/html": [
       "<div>\n",
       "<style scoped>\n",
       "    .dataframe tbody tr th:only-of-type {\n",
       "        vertical-align: middle;\n",
       "    }\n",
       "\n",
       "    .dataframe tbody tr th {\n",
       "        vertical-align: top;\n",
       "    }\n",
       "\n",
       "    .dataframe thead th {\n",
       "        text-align: right;\n",
       "    }\n",
       "</style>\n",
       "<table border=\"1\" class=\"dataframe\">\n",
       "  <thead>\n",
       "    <tr style=\"text-align: right;\">\n",
       "      <th></th>\n",
       "      <th>class_calc</th>\n",
       "      <th>Value, %</th>\n",
       "    </tr>\n",
       "    <tr>\n",
       "      <th>30dprice_change_classification</th>\n",
       "      <th></th>\n",
       "      <th></th>\n",
       "    </tr>\n",
       "  </thead>\n",
       "  <tbody>\n",
       "    <tr>\n",
       "      <th>0.0</th>\n",
       "      <td>195</td>\n",
       "      <td>29.061103</td>\n",
       "    </tr>\n",
       "    <tr>\n",
       "      <th>1.0</th>\n",
       "      <td>476</td>\n",
       "      <td>70.938897</td>\n",
       "    </tr>\n",
       "  </tbody>\n",
       "</table>\n",
       "</div>"
      ],
      "text/plain": [
       "                                class_calc   Value, %\n",
       "30dprice_change_classification                       \n",
       "0.0                                    195  29.061103\n",
       "1.0                                    476  70.938897"
      ]
     },
     "metadata": {},
     "output_type": "display_data"
    },
    {
     "data": {
      "text/html": [
       "<div>\n",
       "<style scoped>\n",
       "    .dataframe tbody tr th:only-of-type {\n",
       "        vertical-align: middle;\n",
       "    }\n",
       "\n",
       "    .dataframe tbody tr th {\n",
       "        vertical-align: top;\n",
       "    }\n",
       "\n",
       "    .dataframe thead th {\n",
       "        text-align: right;\n",
       "    }\n",
       "</style>\n",
       "<table border=\"1\" class=\"dataframe\">\n",
       "  <thead>\n",
       "    <tr style=\"text-align: right;\">\n",
       "      <th></th>\n",
       "      <th>class_calc</th>\n",
       "      <th>Value, %</th>\n",
       "    </tr>\n",
       "    <tr>\n",
       "      <th>30dprice_change_classification</th>\n",
       "      <th></th>\n",
       "      <th></th>\n",
       "    </tr>\n",
       "  </thead>\n",
       "  <tbody>\n",
       "    <tr>\n",
       "      <th>0.0</th>\n",
       "      <td>57</td>\n",
       "      <td>35.403727</td>\n",
       "    </tr>\n",
       "    <tr>\n",
       "      <th>1.0</th>\n",
       "      <td>104</td>\n",
       "      <td>64.596273</td>\n",
       "    </tr>\n",
       "  </tbody>\n",
       "</table>\n",
       "</div>"
      ],
      "text/plain": [
       "                                class_calc   Value, %\n",
       "30dprice_change_classification                       \n",
       "0.0                                     57  35.403727\n",
       "1.0                                    104  64.596273"
      ]
     },
     "metadata": {},
     "output_type": "display_data"
    },
    {
     "data": {
      "text/html": [
       "<div>\n",
       "<style scoped>\n",
       "    .dataframe tbody tr th:only-of-type {\n",
       "        vertical-align: middle;\n",
       "    }\n",
       "\n",
       "    .dataframe tbody tr th {\n",
       "        vertical-align: top;\n",
       "    }\n",
       "\n",
       "    .dataframe thead th {\n",
       "        text-align: right;\n",
       "    }\n",
       "</style>\n",
       "<table border=\"1\" class=\"dataframe\">\n",
       "  <thead>\n",
       "    <tr style=\"text-align: right;\">\n",
       "      <th></th>\n",
       "      <th>class_calc</th>\n",
       "      <th>Value, %</th>\n",
       "    </tr>\n",
       "    <tr>\n",
       "      <th>30dprice_change_classification</th>\n",
       "      <th></th>\n",
       "      <th></th>\n",
       "    </tr>\n",
       "  </thead>\n",
       "  <tbody>\n",
       "    <tr>\n",
       "      <th>0.0</th>\n",
       "      <td>5</td>\n",
       "      <td>38.461538</td>\n",
       "    </tr>\n",
       "    <tr>\n",
       "      <th>1.0</th>\n",
       "      <td>8</td>\n",
       "      <td>61.538462</td>\n",
       "    </tr>\n",
       "  </tbody>\n",
       "</table>\n",
       "</div>"
      ],
      "text/plain": [
       "                                class_calc   Value, %\n",
       "30dprice_change_classification                       \n",
       "0.0                                      5  38.461538\n",
       "1.0                                      8  61.538462"
      ]
     },
     "metadata": {},
     "output_type": "display_data"
    }
   ],
   "source": [
    "threshold = [0.5,0.55,0.6,0.65]\n",
    "for i in threshold:\n",
    "    df_30_compare.loc[df_30_compare[\"proba\"]<i, \"class_calc\"] = 0\n",
    "    df_30_compare.loc[df_30_compare[\"proba\"]>=i, \"class_calc\"] = 1\n",
    "    \n",
    "    df_new = df_30_compare[[\"30dprice_change_classification\",\"class_calc\"]].groupby(\"30dprice_change_classification\").sum()\n",
    "    df_new[\"Value, %\"] = (df_new['class_calc'] / df_new['class_calc'].sum()) * 100\n",
    "    display(df_new)"
   ]
  },
  {
   "attachments": {},
   "cell_type": "markdown",
   "metadata": {},
   "source": [
    "We achieved the maximum precision of 70.9% with the increased probability threshold to 55%"
   ]
  }
 ],
 "metadata": {
  "kernelspec": {
   "display_name": "Python 3 (ipykernel)",
   "language": "python",
   "name": "python3"
  },
  "language_info": {
   "codemirror_mode": {
    "name": "ipython",
    "version": 3
   },
   "file_extension": ".py",
   "mimetype": "text/x-python",
   "name": "python",
   "nbconvert_exporter": "python",
   "pygments_lexer": "ipython3",
   "version": "3.9.12"
  }
 },
 "nbformat": 4,
 "nbformat_minor": 4
}
