{
 "cells": [
  {
   "attachments": {},
   "cell_type": "markdown",
   "metadata": {},
   "source": [
    "# ML Part Regression"
   ]
  },
  {
   "cell_type": "code",
   "execution_count": 531,
   "metadata": {},
   "outputs": [],
   "source": [
    "#df_compact_30 = df_compact.drop([\"future_15dprice_change\",\"future_60dprice_change\",\"future_90dprice_change\",\"future_120dprice_change\",\"future_150dprice_change\"],axis = 1)\n",
    "#df_train_gen , df_test_gen = df_train.copy(), df_test.copy()\n",
    "df_train, df_test = train_dfs_list[0], test_dfs_list[0]"
   ]
  },
  {
   "cell_type": "code",
   "execution_count": 532,
   "metadata": {},
   "outputs": [],
   "source": [
    "df_train = df_train.drop([\"future_15dprice_change\",\"future_60dprice_change\",\"future_90dprice_change\",\"future_120dprice_change\",\"future_150dprice_change\"],axis = 1)\n",
    "df_test = df_test.drop([\"future_15dprice_change\",\"future_60dprice_change\",\"future_90dprice_change\",\"future_120dprice_change\",\"future_150dprice_change\"],axis = 1)"
   ]
  },
  {
   "cell_type": "code",
   "execution_count": 533,
   "metadata": {},
   "outputs": [],
   "source": [
    "#df_compact_30 = df_compact_30[df_compact_30['future_30dprice_change'].notna()]\n",
    "df_train = df_train[df_train['future_30dprice_change'].notna()]\n",
    "df_test = df_test[df_test['future_30dprice_change'].notna()]"
   ]
  },
  {
   "cell_type": "code",
   "execution_count": 534,
   "metadata": {},
   "outputs": [],
   "source": [
    "#df_train, df_test = train_test_split(df_compact_30, test_size=0.2, random_state=42)"
   ]
  },
  {
   "attachments": {},
   "cell_type": "markdown",
   "metadata": {},
   "source": [
    "Light GBM can work with categoricl features 8x faster without using OneHotEncoder.\n",
    "But transforming string to int is still required"
   ]
  },
  {
   "cell_type": "code",
   "execution_count": 535,
   "metadata": {},
   "outputs": [],
   "source": [
    "le = LabelEncoder()\n",
    "le.fit(df_train[\"sector\"])\n",
    "\n",
    "\n",
    "df_train[\"sector\"] = le.transform(df_train[\"sector\"])\n",
    "df_test[\"sector\"] = le.transform(df_test[\"sector\"])"
   ]
  },
  {
   "cell_type": "code",
   "execution_count": 536,
   "metadata": {},
   "outputs": [],
   "source": [
    "df_train.drop('stock', axis = 1, inplace = True)\n",
    "df_test.drop('stock', axis = 1, inplace = True)"
   ]
  },
  {
   "cell_type": "code",
   "execution_count": 537,
   "metadata": {},
   "outputs": [],
   "source": [
    "#Creating the x, y variables \n",
    "y_train = df_train['future_30dprice_change']\n",
    "y_test = df_test['future_30dprice_change']\n",
    "\n",
    "x_train = df_train.drop('future_30dprice_change', axis = 1)\n",
    "x_test = df_test.drop('future_30dprice_change', axis = 1)"
   ]
  },
  {
   "attachments": {},
   "cell_type": "markdown",
   "metadata": {},
   "source": [
    "### Creating a model"
   ]
  },
  {
   "cell_type": "code",
   "execution_count": 538,
   "metadata": {},
   "outputs": [
    {
     "name": "stderr",
     "output_type": "stream",
     "text": [
      "C:\\Users\\oleg.kazanskyi\\Anaconda3\\envs\\ML_env\\lib\\site-packages\\lightgbm\\basic.py:1702: UserWarning: Using categorical_feature in Dataset.\n",
      "  _log_warning('Using categorical_feature in Dataset.')\n"
     ]
    },
    {
     "data": {
      "text/plain": [
       "LGBMRegressor(n_estimators=50, n_jobs=5, random_state=42)"
      ]
     },
     "execution_count": 538,
     "metadata": {},
     "output_type": "execute_result"
    }
   ],
   "source": [
    "lgbm = lgb.LGBMRegressor(random_state=42,n_jobs = 5, n_estimators = 50)\n",
    "lgbm.fit(x_train, y_train, categorical_feature=['sector'])"
   ]
  },
  {
   "cell_type": "code",
   "execution_count": 539,
   "metadata": {},
   "outputs": [],
   "source": [
    "#predicting on test set\n",
    "ypred=lgbm.predict(x_test)"
   ]
  },
  {
   "cell_type": "code",
   "execution_count": 540,
   "metadata": {},
   "outputs": [
    {
     "name": "stdout",
     "output_type": "stream",
     "text": [
      "Accuracy of prediction:9.0528\n"
     ]
    }
   ],
   "source": [
    "#calculating accuracy\n",
    "accuracy_30d = mae(y_test, ypred)\n",
    "print(f\"Accuracy of prediction:{accuracy_30d:0.4f}\")"
   ]
  },
  {
   "cell_type": "code",
   "execution_count": 541,
   "metadata": {},
   "outputs": [
    {
     "data": {
      "image/png": "[encoded data removed]",
      "text/plain": [
       "<Figure size 720x720 with 1 Axes>"
      ]
     },
     "metadata": {
      "needs_background": "light"
     },
     "output_type": "display_data"
    }
   ],
   "source": [
    "def true_predict_plot(y_val, ypred, title):\n",
    "    plt.figure(figsize=(10,10))\n",
    "    plt.scatter(y_val, ypred, c='crimson')\n",
    "    plt.yscale('linear')\n",
    "    plt.xscale('linear')\n",
    "\n",
    "    p1 = max(max(ypred), max(y_val))\n",
    "    p2 = min(min(ypred), min(y_val))\n",
    "    #plt.plot([p1, p2], [p1, p2], 'b-')\n",
    "    plt.xlabel('True Values', fontsize=15)\n",
    "    plt.ylabel('Predictions', fontsize=15)\n",
    "    plt.ylim(-150, 150)\n",
    "    plt.xlim(-150, 150)\n",
    "    #plt.axis('equal')\n",
    "    plt.axvline(x=0)\n",
    "    plt.axhline(y=0)\n",
    "    plt.title(title)\n",
    "    plt.show()\n",
    "    \n",
    "true_predict_plot(y_test, ypred,'30days price forecast')"
   ]
  },
  {
   "cell_type": "code",
   "execution_count": 542,
   "metadata": {},
   "outputs": [
    {
     "name": "stdout",
     "output_type": "stream",
     "text": [
      "         Real  Value, %\n",
      "Correct                \n",
      "0        2382      43.0\n",
      "1        3157      57.0\n",
      "\n",
      "Total cases evaluated: 5539\n"
     ]
    }
   ],
   "source": [
    "def accuracy_df(y_test, ypred):\n",
    "    df_y_vals = pd.DataFrame()\n",
    "    df_y_vals[\"Real\"] = y_test\n",
    "    df_y_vals[\"Prediction\"] = ypred\n",
    "    df_y_vals[\"Delta\"] = df_y_vals[\"Real\"] - df_y_vals[\"Prediction\"]\n",
    "    df_y_vals[\"Correct\"] = 0\n",
    "    df_y_vals.loc[((df_y_vals['Real'] >0) & (df_y_vals['Prediction'] >0)) | ((df_y_vals['Real'] <0) & (df_y_vals['Prediction'] <0)),'Correct'] = 1\n",
    "\n",
    "    true_false_values = df_y_vals.groupby(\"Correct\").count().Real.to_frame()\n",
    "\n",
    "    true_false_values[\"Value, %\"] = (true_false_values['Real'] / true_false_values['Real'].sum()) * 100\n",
    "    true_false_values[\"Value, %\"] = true_false_values[\"Value, %\"].round(2)\n",
    "    print(true_false_values)\n",
    "\n",
    "    print(\"\\nTotal cases evaluated:\",true_false_values.Real.sum())\n",
    "    return true_false_values\n",
    "\n",
    "acc_percent_30d = accuracy_df(y_test, ypred)\n",
    "acc_percent_30d = acc_percent_30d[\"Value, %\"][1]"
   ]
  },
  {
   "attachments": {},
   "cell_type": "markdown",
   "metadata": {},
   "source": [
    "We got 57% acuracy for the 500 companies. That is not bad. Let's check if we get better results with the other prediction periods."
   ]
  },
  {
   "attachments": {},
   "cell_type": "markdown",
   "metadata": {},
   "source": [
    "### Let's see how we perform with the other forecast periods"
   ]
  },
  {
   "cell_type": "code",
   "execution_count": 543,
   "metadata": {},
   "outputs": [
    {
     "name": "stderr",
     "output_type": "stream",
     "text": [
      "C:\\Users\\oleg.kazanskyi\\Anaconda3\\envs\\ML_env\\lib\\site-packages\\lightgbm\\basic.py:1702: UserWarning: Using categorical_feature in Dataset.\n",
      "  _log_warning('Using categorical_feature in Dataset.')\n"
     ]
    },
    {
     "data": {
      "image/png": "[encoded data removed]",
      "text/plain": [
       "<Figure size 720x720 with 1 Axes>"
      ]
     },
     "metadata": {
      "needs_background": "light"
     },
     "output_type": "display_data"
    },
    {
     "name": "stdout",
     "output_type": "stream",
     "text": [
      "Accuracy of prediction:6.1166\n",
      "\n",
      "\n",
      "Increase or decrease predicted correctly:\n",
      "         Real  Value, %\n",
      "Correct                \n",
      "0        3814     58.31\n",
      "1        2727     41.69\n",
      "\n",
      "Total cases evaluated: 6541\n",
      "    Value                     Feature   Value, %\n",
      "37    214           days_after_crisis  14.266667\n",
      "36    137                    VIX_high   9.133333\n",
      "35    116                      sector   7.733333\n",
      "34    103                    10YB_YoY   6.866667\n",
      "33    102                     VIX_WoW   6.800000\n",
      "32     96                     VIX_MoM   6.400000\n",
      "31     69             10Y_Val_to_30MA   4.600000\n",
      "30     67                     10YBond   4.466667\n",
      "29     63            10Y_Val_to_200MA   4.200000\n",
      "28     60           10YB_200MA_Vector   4.000000\n",
      "27     59                    10YB_MoM   3.933333\n",
      "26     40                     VIX_DoD   2.666667\n",
      "25     39                          PE   2.600000\n",
      "24     38                      YoY_DY   2.533333\n",
      "23     34              EPS_YoY_Growth   2.266667\n",
      "22     31                      YoY_PE   2.066667\n",
      "20     23           EPS_1Y_exp_Change   1.533333\n",
      "21     23                         ROE   1.533333\n",
      "19     22  days_after_earnings_report   1.466667\n",
      "18     21                          DY   1.400000\n",
      "17     17                          ES   1.133333\n",
      "16     17          EPS_QoQ_frcst_diff   1.133333\n",
      "15     14                      YoY_CR   0.933333\n",
      "14     13                EPS_surprise   0.866667\n",
      "13     11                          CR   0.733333\n",
      "12     10                          DE   0.666667\n",
      "11      9               YoY_Piotroski   0.600000\n",
      "9       8                     YoY_DPR   0.533333\n",
      "10      8                      YoY_GM   0.533333\n",
      "8       5                    YoY_PEGF   0.333333\n",
      "7       5                    YoY_PEGB   0.333333\n",
      "6       5                          GM   0.333333\n",
      "5       5                         DPR   0.333333\n",
      "4       4                 PEG_Forward   0.266667\n",
      "3       4          Acc_Rec_Pay_Ration   0.266667\n",
      "2       3                      YoY_ES   0.200000\n",
      "1       3               PEG_Backwards   0.200000\n",
      "0       2             Piotroski_Score   0.133333\n"
     ]
    },
    {
     "name": "stderr",
     "output_type": "stream",
     "text": [
      "C:\\Users\\oleg.kazanskyi\\Anaconda3\\envs\\ML_env\\lib\\site-packages\\lightgbm\\basic.py:1702: UserWarning: Using categorical_feature in Dataset.\n",
      "  _log_warning('Using categorical_feature in Dataset.')\n"
     ]
    },
    {
     "data": {
      "image/png": "[encoded data removed]",
      "text/plain": [
       "<Figure size 720x720 with 1 Axes>"
      ]
     },
     "metadata": {
      "needs_background": "light"
     },
     "output_type": "display_data"
    },
    {
     "name": "stdout",
     "output_type": "stream",
     "text": [
      "Accuracy of prediction:9.3239\n",
      "\n",
      "\n",
      "Increase or decrease predicted correctly:\n",
      "         Real  Value, %\n",
      "Correct                \n",
      "0        3304      50.9\n",
      "1        3187      49.1\n",
      "\n",
      "Total cases evaluated: 6491\n",
      "    Value                     Feature   Value, %\n",
      "37    228           days_after_crisis  15.200000\n",
      "36    153                      sector  10.200000\n",
      "35     97                    10YB_YoY   6.466667\n",
      "34     95                    VIX_high   6.333333\n",
      "33     69           10YB_200MA_Vector   4.600000\n",
      "32     62                     VIX_MoM   4.133333\n",
      "31     55                     10YBond   3.666667\n",
      "30     52                      YoY_PE   3.466667\n",
      "29     51             10Y_Val_to_30MA   3.400000\n",
      "28     49            10Y_Val_to_200MA   3.266667\n",
      "27     45              EPS_YoY_Growth   3.000000\n",
      "26     44                      YoY_DY   2.933333\n",
      "25     43                          PE   2.866667\n",
      "24     38                          DY   2.533333\n",
      "23     38                    10YB_MoM   2.533333\n",
      "22     33                         ROE   2.200000\n",
      "21     33                          ES   2.200000\n",
      "20     28                          CR   1.866667\n",
      "19     27                     VIX_WoW   1.800000\n",
      "18     24                EPS_surprise   1.600000\n",
      "17     21                      YoY_CR   1.400000\n",
      "16     18           EPS_1Y_exp_Change   1.200000\n",
      "15     18                          DE   1.200000\n",
      "14     17  days_after_earnings_report   1.133333\n",
      "13     17                     VIX_DoD   1.133333\n",
      "12     16                          GM   1.066667\n",
      "10     15                      YoY_GM   1.000000\n",
      "11     15                    YoY_PEGF   1.000000\n",
      "9      14               YoY_Piotroski   0.933333\n",
      "8      14                    YoY_PEGB   0.933333\n",
      "7      14                     YoY_DPR   0.933333\n",
      "6      13          EPS_QoQ_frcst_diff   0.866667\n",
      "5      13          Acc_Rec_Pay_Ration   0.866667\n",
      "4       9                      YoY_ES   0.600000\n",
      "3       9                         DPR   0.600000\n",
      "2       7               PEG_Backwards   0.466667\n",
      "1       5                 PEG_Forward   0.333333\n",
      "0       1             Piotroski_Score   0.066667\n"
     ]
    },
    {
     "name": "stderr",
     "output_type": "stream",
     "text": [
      "C:\\Users\\oleg.kazanskyi\\Anaconda3\\envs\\ML_env\\lib\\site-packages\\lightgbm\\basic.py:1702: UserWarning: Using categorical_feature in Dataset.\n",
      "  _log_warning('Using categorical_feature in Dataset.')\n"
     ]
    },
    {
     "data": {
      "image/png": "[encoded data removed]",
      "text/plain": [
       "<Figure size 720x720 with 1 Axes>"
      ]
     },
     "metadata": {
      "needs_background": "light"
     },
     "output_type": "display_data"
    },
    {
     "name": "stdout",
     "output_type": "stream",
     "text": [
      "Accuracy of prediction:13.8357\n",
      "\n",
      "\n",
      "Increase or decrease predicted correctly:\n",
      "         Real  Value, %\n",
      "Correct                \n",
      "0        4625     72.37\n",
      "1        1766     27.63\n",
      "\n",
      "Total cases evaluated: 6391\n",
      "    Value                     Feature   Value, %\n",
      "37    192           days_after_crisis  12.800000\n",
      "36    171                      sector  11.400000\n",
      "35     63           10YB_200MA_Vector   4.200000\n",
      "34     58                    10YB_YoY   3.866667\n",
      "33     56                    VIX_high   3.733333\n",
      "32     54                          PE   3.600000\n",
      "31     54                          DY   3.600000\n",
      "30     54                     10YBond   3.600000\n",
      "28     53                         ROE   3.533333\n",
      "29     53                      YoY_DY   3.533333\n",
      "27     52                          CR   3.466667\n",
      "26     48                      YoY_PE   3.200000\n",
      "25     45                          ES   3.000000\n",
      "24     41           EPS_1Y_exp_Change   2.733333\n",
      "23     40                EPS_surprise   2.666667\n",
      "22     39                      YoY_CR   2.600000\n",
      "20     35                          DE   2.333333\n",
      "21     35              EPS_YoY_Growth   2.333333\n",
      "19     33                          GM   2.200000\n",
      "18     32            10Y_Val_to_200MA   2.133333\n",
      "17     24          Acc_Rec_Pay_Ration   1.600000\n",
      "16     23                    YoY_PEGF   1.533333\n",
      "15     23                         DPR   1.533333\n",
      "14     22                     VIX_WoW   1.466667\n",
      "13     21                    YoY_PEGB   1.400000\n",
      "12     21                     VIX_MoM   1.400000\n",
      "10     19                      YoY_ES   1.266667\n",
      "9      19                     YoY_DPR   1.266667\n",
      "11     19                      YoY_GM   1.266667\n",
      "8      17               YoY_Piotroski   1.133333\n",
      "7      17                 PEG_Forward   1.133333\n",
      "6      17             10Y_Val_to_30MA   1.133333\n",
      "5      12               PEG_Backwards   0.800000\n",
      "4      11                    10YB_MoM   0.733333\n",
      "3      10          EPS_QoQ_frcst_diff   0.666667\n",
      "2       7  days_after_earnings_report   0.466667\n",
      "1       7                     VIX_DoD   0.466667\n",
      "0       3             Piotroski_Score   0.200000\n"
     ]
    },
    {
     "name": "stderr",
     "output_type": "stream",
     "text": [
      "C:\\Users\\oleg.kazanskyi\\Anaconda3\\envs\\ML_env\\lib\\site-packages\\lightgbm\\basic.py:1702: UserWarning: Using categorical_feature in Dataset.\n",
      "  _log_warning('Using categorical_feature in Dataset.')\n"
     ]
    },
    {
     "data": {
      "image/png": "[encoded data removed]",
      "text/plain": [
       "<Figure size 720x720 with 1 Axes>"
      ]
     },
     "metadata": {
      "needs_background": "light"
     },
     "output_type": "display_data"
    },
    {
     "name": "stdout",
     "output_type": "stream",
     "text": [
      "Accuracy of prediction:12.7986\n",
      "\n",
      "\n",
      "Increase or decrease predicted correctly:\n",
      "         Real  Value, %\n",
      "Correct                \n",
      "0        3417     54.32\n",
      "1        2874     45.68\n",
      "\n",
      "Total cases evaluated: 6291\n",
      "    Value                     Feature   Value, %\n",
      "37    202           days_after_crisis  13.466667\n",
      "36    199                      sector  13.266667\n",
      "35     72                          CR   4.800000\n",
      "34     66           EPS_1Y_exp_Change   4.400000\n",
      "33     65                          PE   4.333333\n",
      "32     56                          DY   3.733333\n",
      "31     55                    10YB_YoY   3.666667\n",
      "30     52                      YoY_DY   3.466667\n",
      "29     47                      YoY_CR   3.133333\n",
      "28     44                          DE   2.933333\n",
      "27     43                          ES   2.866667\n",
      "26     42              EPS_YoY_Growth   2.800000\n",
      "25     41                         ROE   2.733333\n",
      "24     39                    VIX_high   2.600000\n",
      "23     39                          GM   2.600000\n",
      "22     38                      YoY_GM   2.533333\n",
      "21     34            10Y_Val_to_200MA   2.266667\n",
      "20     32          Acc_Rec_Pay_Ration   2.133333\n",
      "19     31                      YoY_ES   2.066667\n",
      "18     30                      YoY_PE   2.000000\n",
      "17     30                EPS_surprise   2.000000\n",
      "16     30                         DPR   2.000000\n",
      "15     30                     10YBond   2.000000\n",
      "14     30           10YB_200MA_Vector   2.000000\n",
      "13     28                    YoY_PEGF   1.866667\n",
      "12     26                 PEG_Forward   1.733333\n",
      "10     19                     YoY_DPR   1.266667\n",
      "11     19                    YoY_PEGB   1.266667\n",
      "9      17               YoY_Piotroski   1.133333\n",
      "8      14               PEG_Backwards   0.933333\n",
      "7       9                     VIX_MoM   0.600000\n",
      "6       8             Piotroski_Score   0.533333\n",
      "5       7             10Y_Val_to_30MA   0.466667\n",
      "2       2                    10YB_MoM   0.133333\n",
      "4       2  days_after_earnings_report   0.133333\n",
      "3       2          EPS_QoQ_frcst_diff   0.133333\n",
      "1       0                     VIX_WoW   0.000000\n",
      "0       0                     VIX_DoD   0.000000\n"
     ]
    },
    {
     "name": "stderr",
     "output_type": "stream",
     "text": [
      "C:\\Users\\oleg.kazanskyi\\Anaconda3\\envs\\ML_env\\lib\\site-packages\\lightgbm\\basic.py:1702: UserWarning: Using categorical_feature in Dataset.\n",
      "  _log_warning('Using categorical_feature in Dataset.')\n"
     ]
    },
    {
     "data": {
      "image/png": "[encoded data removed]",
      "text/plain": [
       "<Figure size 720x720 with 1 Axes>"
      ]
     },
     "metadata": {
      "needs_background": "light"
     },
     "output_type": "display_data"
    },
    {
     "name": "stdout",
     "output_type": "stream",
     "text": [
      "Accuracy of prediction:17.8491\n",
      "\n",
      "\n",
      "Increase or decrease predicted correctly:\n",
      "         Real  Value, %\n",
      "Correct                \n",
      "0        3447     55.68\n",
      "1        2744     44.32\n",
      "\n",
      "Total cases evaluated: 6191\n",
      "    Value                     Feature   Value, %\n",
      "37    196                      sector  13.066667\n",
      "36    162           days_after_crisis  10.800000\n",
      "35     82           EPS_1Y_exp_Change   5.466667\n",
      "34     77                          DY   5.133333\n",
      "33     62                          PE   4.133333\n",
      "32     61                          CR   4.066667\n",
      "31     57                          GM   3.800000\n",
      "30     55                      YoY_DY   3.666667\n",
      "29     51                          DE   3.400000\n",
      "28     45              EPS_YoY_Growth   3.000000\n",
      "27     43                      YoY_CR   2.866667\n",
      "26     42                         ROE   2.800000\n",
      "25     42            10Y_Val_to_200MA   2.800000\n",
      "24     41          Acc_Rec_Pay_Ration   2.733333\n",
      "23     39                          ES   2.600000\n",
      "22     38                    VIX_high   2.533333\n",
      "21     37                    10YB_YoY   2.466667\n",
      "20     35                    YoY_PEGF   2.333333\n",
      "19     35                      YoY_GM   2.333333\n",
      "18     34                      YoY_PE   2.266667\n",
      "17     32           10YB_200MA_Vector   2.133333\n",
      "16     31                EPS_surprise   2.066667\n",
      "15     30                     10YBond   2.000000\n",
      "14     27                 PEG_Forward   1.800000\n",
      "13     27                         DPR   1.800000\n",
      "12     26                      YoY_ES   1.733333\n",
      "11     22               YoY_Piotroski   1.466667\n",
      "10     17                     YoY_DPR   1.133333\n",
      "9      13                     VIX_MoM   0.866667\n",
      "8      10             Piotroski_Score   0.666667\n",
      "7      10               PEG_Backwards   0.666667\n",
      "6       6                    YoY_PEGB   0.400000\n",
      "5       6                    10YB_MoM   0.400000\n",
      "4       5             10Y_Val_to_30MA   0.333333\n",
      "3       2  days_after_earnings_report   0.133333\n",
      "2       1                     VIX_WoW   0.066667\n",
      "1       1          EPS_QoQ_frcst_diff   0.066667\n",
      "0       0                     VIX_DoD   0.000000\n"
     ]
    },
    {
     "name": "stderr",
     "output_type": "stream",
     "text": [
      "C:\\Users\\oleg.kazanskyi\\Anaconda3\\envs\\ML_env\\lib\\site-packages\\lightgbm\\basic.py:1702: UserWarning: Using categorical_feature in Dataset.\n",
      "  _log_warning('Using categorical_feature in Dataset.')\n"
     ]
    },
    {
     "data": {
      "image/png": "[encoded data removed]",
      "text/plain": [
       "<Figure size 720x720 with 1 Axes>"
      ]
     },
     "metadata": {
      "needs_background": "light"
     },
     "output_type": "display_data"
    },
    {
     "name": "stdout",
     "output_type": "stream",
     "text": [
      "Accuracy of prediction:21.4898\n",
      "\n",
      "\n",
      "Increase or decrease predicted correctly:\n",
      "         Real  Value, %\n",
      "Correct                \n",
      "0        3440     56.48\n",
      "1        2651     43.52\n",
      "\n",
      "Total cases evaluated: 6091\n",
      "    Value                     Feature   Value, %\n",
      "37    198                      sector  13.200000\n",
      "36    135           days_after_crisis   9.000000\n",
      "35     92           EPS_1Y_exp_Change   6.133333\n",
      "34     74                          DY   4.933333\n",
      "33     63                          CR   4.200000\n",
      "32     59                          DE   3.933333\n",
      "31     56          Acc_Rec_Pay_Ration   3.733333\n",
      "30     53              EPS_YoY_Growth   3.533333\n",
      "29     52                          PE   3.466667\n",
      "28     51                         ROE   3.400000\n",
      "27     45                      YoY_DY   3.000000\n",
      "26     45                    VIX_high   3.000000\n",
      "25     45                          GM   3.000000\n",
      "24     44                          ES   2.933333\n",
      "23     42                      YoY_CR   2.800000\n",
      "22     40                    YoY_PEGF   2.666667\n",
      "21     37                 PEG_Forward   2.466667\n",
      "20     33                      YoY_PE   2.200000\n",
      "19     33                      YoY_GM   2.200000\n",
      "18     33                EPS_surprise   2.200000\n",
      "17     32                         DPR   2.133333\n",
      "16     29                    10YB_YoY   1.933333\n",
      "15     28           10YB_200MA_Vector   1.866667\n",
      "14     26                      YoY_ES   1.733333\n",
      "13     25            10Y_Val_to_200MA   1.666667\n",
      "12     23                     10YBond   1.533333\n",
      "11     19               YoY_Piotroski   1.266667\n",
      "10     18                     YoY_DPR   1.200000\n",
      "9      14                    YoY_PEGB   0.933333\n",
      "8      14               PEG_Backwards   0.933333\n",
      "7      13                     VIX_MoM   0.866667\n",
      "6      10             Piotroski_Score   0.666667\n",
      "5       8                    10YB_MoM   0.533333\n",
      "4       4          EPS_QoQ_frcst_diff   0.266667\n",
      "3       4             10Y_Val_to_30MA   0.266667\n",
      "2       2                     VIX_WoW   0.133333\n",
      "1       1                     VIX_DoD   0.066667\n",
      "0       0  days_after_earnings_report   0.000000\n"
     ]
    }
   ],
   "source": [
    "targets_all =[\"future_15dprice_change\",\"future_30dprice_change\",\"future_60dprice_change\",\"future_90dprice_change\",\"future_120dprice_change\",\"future_150dprice_change\"]\n",
    "periods = [\"15days\", \"30days\", \"60days\", \"90days\", \"120days\", \"150days\"]\n",
    "\n",
    "MAEs = []\n",
    "acc_percent_list = []\n",
    "feature_importances = []\n",
    "list_of_regression_models = []\n",
    "\n",
    "for j, i in enumerate(targets_all):\n",
    "    remove_redundant_list = list(targets_all)\n",
    "    remove_redundant_list.remove(i)\n",
    "\n",
    "    #df_compact_temp = df_compact.drop(remove_redundant_list,axis = 1)\n",
    "    #df_compact_temp = df_compact_temp[df_compact_temp[i].notna()]\n",
    "    \n",
    "    df_train, df_test = train_dfs_list[j], test_dfs_list[j]\n",
    "    df_train = df_train.drop(remove_redundant_list,axis = 1).copy()\n",
    "    df_test = df_test.drop(remove_redundant_list,axis = 1).copy()\n",
    "    df_train = df_train[df_train[i].notna()]\n",
    "    df_test = df_test[df_test[i].notna()]\n",
    "    #df_train, df_test = train_test_split(df_compact_temp, test_size=0.2, random_state=42)\n",
    "\n",
    "    df_train.drop([\"stock\"], axis = 1, inplace = True)\n",
    "    df_test.drop([\"stock\"], axis = 1, inplace = True)\n",
    "\n",
    "    le = LabelEncoder()\n",
    "    le.fit(df_train[\"sector\"])\n",
    "    df_train[\"sector\"] = le.transform(df_train[\"sector\"])\n",
    "    df_test[\"sector\"] = le.transform(df_test[\"sector\"])\n",
    "\n",
    "    #Creating the x, y variables \n",
    "    y_train = df_train[i]\n",
    "    y_test = df_test[i]\n",
    "\n",
    "    x_train = df_train.drop(i, axis = 1)\n",
    "    x_test = df_test.drop(i, axis = 1)\n",
    "\n",
    "    lgbm = lgb.LGBMRegressor(random_state=42,n_jobs = 5, n_estimators = 50)\n",
    "    list_of_regression_models.append(lgbm)\n",
    "    lgbm.fit(x_train, y_train, categorical_feature=['sector'])\n",
    "\n",
    "    #predicting on test set\n",
    "    ypred=lgbm.predict(x_test)\n",
    "\n",
    "    true_predict_plot(y_test, ypred, periods[j] +' price forecast')\n",
    "\n",
    "    #calculating accuracy\n",
    "    from sklearn.metrics import mean_absolute_error as mae\n",
    "    accuracy = mae(y_test, ypred)\n",
    "    MAEs.append(accuracy)\n",
    "    print(f\"Accuracy of prediction:{accuracy:0.4f}\")\n",
    "\n",
    "    print(\"\\n\\nIncrease or decrease predicted correctly:\")\n",
    "    acc_percent = accuracy_df(y_test, ypred)\n",
    "    acc_percent = acc_percent[\"Value, %\"][1]\n",
    "    acc_percent_list.append(acc_percent)\n",
    "    \n",
    "    feature_imp = pd.DataFrame(sorted(zip(lgbm.feature_importances_,x_train.columns)), columns=['Value','Feature'])\n",
    "    feature_imp[\"Value, %\"] = (feature_imp['Value'] / feature_imp['Value'].sum()) * 100\n",
    "    print(feature_imp.sort_values(by='Value, %', ascending=False))\n",
    "    feature_importances.append(feature_imp[[\"Feature\", \"Value, %\"]])"
   ]
  },
  {
   "attachments": {},
   "cell_type": "markdown",
   "metadata": {},
   "source": [
    "### Result summarization"
   ]
  },
  {
   "cell_type": "code",
   "execution_count": 544,
   "metadata": {},
   "outputs": [
    {
     "name": "stdout",
     "output_type": "stream",
     "text": [
      "                         Absolute Error  Correctly Predicted Price Direction\n",
      "Forecasted Period, days                                                     \n",
      "15                               611.66                                41.69\n",
      "30                               932.39                                49.10\n",
      "60                              1383.57                                27.63\n",
      "90                              1279.86                                45.68\n",
      "120                             1784.91                                44.32\n",
      "150                             2148.98                                43.52\n"
     ]
    }
   ],
   "source": [
    "MAEs = [round(x*100,2) for x in MAEs]\n",
    "\n",
    "index = [15,30,60,90,120,150]\n",
    "accuracy_compare_dt = {\"Absolute Error\":MAEs,\"Correctly Predicted Price Direction\":acc_percent_list}\n",
    "accuracy_compare_df= pd.DataFrame(accuracy_compare_dt, index=index)\n",
    "accuracy_compare_df.index.name = \"Forecasted Period, days\"\n",
    "\n",
    "print(accuracy_compare_df)"
   ]
  },
  {
   "attachments": {},
   "cell_type": "markdown",
   "metadata": {},
   "source": [
    "We see that error is above 50% that states that the model performance is poor."
   ]
  },
  {
   "cell_type": "code",
   "execution_count": 545,
   "metadata": {},
   "outputs": [
    {
     "data": {
      "text/html": [
       "<div>\n",
       "<style scoped>\n",
       "    .dataframe tbody tr th:only-of-type {\n",
       "        vertical-align: middle;\n",
       "    }\n",
       "\n",
       "    .dataframe tbody tr th {\n",
       "        vertical-align: top;\n",
       "    }\n",
       "\n",
       "    .dataframe thead th {\n",
       "        text-align: right;\n",
       "    }\n",
       "</style>\n",
       "<table border=\"1\" class=\"dataframe\">\n",
       "  <thead>\n",
       "    <tr style=\"text-align: right;\">\n",
       "      <th></th>\n",
       "      <th>0</th>\n",
       "      <th>1</th>\n",
       "      <th>2</th>\n",
       "      <th>3</th>\n",
       "      <th>4</th>\n",
       "      <th>5</th>\n",
       "      <th>6</th>\n",
       "      <th>7</th>\n",
       "      <th>8</th>\n",
       "      <th>9</th>\n",
       "      <th>...</th>\n",
       "      <th>28</th>\n",
       "      <th>29</th>\n",
       "      <th>30</th>\n",
       "      <th>31</th>\n",
       "      <th>32</th>\n",
       "      <th>33</th>\n",
       "      <th>34</th>\n",
       "      <th>35</th>\n",
       "      <th>36</th>\n",
       "      <th>37</th>\n",
       "    </tr>\n",
       "  </thead>\n",
       "  <tbody>\n",
       "    <tr>\n",
       "      <th>15</th>\n",
       "      <td>days_after_crisis</td>\n",
       "      <td>VIX_high</td>\n",
       "      <td>sector</td>\n",
       "      <td>10YB_YoY</td>\n",
       "      <td>VIX_WoW</td>\n",
       "      <td>VIX_MoM</td>\n",
       "      <td>10Y_Val_to_30MA</td>\n",
       "      <td>10YBond</td>\n",
       "      <td>10Y_Val_to_200MA</td>\n",
       "      <td>10YB_200MA_Vector</td>\n",
       "      <td>...</td>\n",
       "      <td>YoY_GM</td>\n",
       "      <td>YoY_PEGF</td>\n",
       "      <td>YoY_PEGB</td>\n",
       "      <td>GM</td>\n",
       "      <td>DPR</td>\n",
       "      <td>PEG_Forward</td>\n",
       "      <td>Acc_Rec_Pay_Ration</td>\n",
       "      <td>YoY_ES</td>\n",
       "      <td>PEG_Backwards</td>\n",
       "      <td>Piotroski_Score</td>\n",
       "    </tr>\n",
       "    <tr>\n",
       "      <th>30</th>\n",
       "      <td>days_after_crisis</td>\n",
       "      <td>sector</td>\n",
       "      <td>10YB_YoY</td>\n",
       "      <td>VIX_high</td>\n",
       "      <td>10YB_200MA_Vector</td>\n",
       "      <td>VIX_MoM</td>\n",
       "      <td>10YBond</td>\n",
       "      <td>YoY_PE</td>\n",
       "      <td>10Y_Val_to_30MA</td>\n",
       "      <td>10Y_Val_to_200MA</td>\n",
       "      <td>...</td>\n",
       "      <td>YoY_Piotroski</td>\n",
       "      <td>YoY_PEGB</td>\n",
       "      <td>YoY_DPR</td>\n",
       "      <td>EPS_QoQ_frcst_diff</td>\n",
       "      <td>Acc_Rec_Pay_Ration</td>\n",
       "      <td>YoY_ES</td>\n",
       "      <td>DPR</td>\n",
       "      <td>PEG_Backwards</td>\n",
       "      <td>PEG_Forward</td>\n",
       "      <td>Piotroski_Score</td>\n",
       "    </tr>\n",
       "    <tr>\n",
       "      <th>60</th>\n",
       "      <td>days_after_crisis</td>\n",
       "      <td>sector</td>\n",
       "      <td>10YB_200MA_Vector</td>\n",
       "      <td>10YB_YoY</td>\n",
       "      <td>VIX_high</td>\n",
       "      <td>PE</td>\n",
       "      <td>DY</td>\n",
       "      <td>10YBond</td>\n",
       "      <td>ROE</td>\n",
       "      <td>YoY_DY</td>\n",
       "      <td>...</td>\n",
       "      <td>YoY_GM</td>\n",
       "      <td>YoY_Piotroski</td>\n",
       "      <td>PEG_Forward</td>\n",
       "      <td>10Y_Val_to_30MA</td>\n",
       "      <td>PEG_Backwards</td>\n",
       "      <td>10YB_MoM</td>\n",
       "      <td>EPS_QoQ_frcst_diff</td>\n",
       "      <td>days_after_earnings_report</td>\n",
       "      <td>VIX_DoD</td>\n",
       "      <td>Piotroski_Score</td>\n",
       "    </tr>\n",
       "    <tr>\n",
       "      <th>90</th>\n",
       "      <td>days_after_crisis</td>\n",
       "      <td>sector</td>\n",
       "      <td>CR</td>\n",
       "      <td>EPS_1Y_exp_Change</td>\n",
       "      <td>PE</td>\n",
       "      <td>DY</td>\n",
       "      <td>10YB_YoY</td>\n",
       "      <td>YoY_DY</td>\n",
       "      <td>YoY_CR</td>\n",
       "      <td>DE</td>\n",
       "      <td>...</td>\n",
       "      <td>YoY_Piotroski</td>\n",
       "      <td>PEG_Backwards</td>\n",
       "      <td>VIX_MoM</td>\n",
       "      <td>Piotroski_Score</td>\n",
       "      <td>10Y_Val_to_30MA</td>\n",
       "      <td>10YB_MoM</td>\n",
       "      <td>days_after_earnings_report</td>\n",
       "      <td>EPS_QoQ_frcst_diff</td>\n",
       "      <td>VIX_WoW</td>\n",
       "      <td>VIX_DoD</td>\n",
       "    </tr>\n",
       "    <tr>\n",
       "      <th>120</th>\n",
       "      <td>sector</td>\n",
       "      <td>days_after_crisis</td>\n",
       "      <td>EPS_1Y_exp_Change</td>\n",
       "      <td>DY</td>\n",
       "      <td>PE</td>\n",
       "      <td>CR</td>\n",
       "      <td>GM</td>\n",
       "      <td>YoY_DY</td>\n",
       "      <td>DE</td>\n",
       "      <td>EPS_YoY_Growth</td>\n",
       "      <td>...</td>\n",
       "      <td>VIX_MoM</td>\n",
       "      <td>Piotroski_Score</td>\n",
       "      <td>PEG_Backwards</td>\n",
       "      <td>YoY_PEGB</td>\n",
       "      <td>10YB_MoM</td>\n",
       "      <td>10Y_Val_to_30MA</td>\n",
       "      <td>days_after_earnings_report</td>\n",
       "      <td>VIX_WoW</td>\n",
       "      <td>EPS_QoQ_frcst_diff</td>\n",
       "      <td>VIX_DoD</td>\n",
       "    </tr>\n",
       "    <tr>\n",
       "      <th>150</th>\n",
       "      <td>sector</td>\n",
       "      <td>days_after_crisis</td>\n",
       "      <td>EPS_1Y_exp_Change</td>\n",
       "      <td>DY</td>\n",
       "      <td>CR</td>\n",
       "      <td>DE</td>\n",
       "      <td>Acc_Rec_Pay_Ration</td>\n",
       "      <td>EPS_YoY_Growth</td>\n",
       "      <td>PE</td>\n",
       "      <td>ROE</td>\n",
       "      <td>...</td>\n",
       "      <td>YoY_PEGB</td>\n",
       "      <td>PEG_Backwards</td>\n",
       "      <td>VIX_MoM</td>\n",
       "      <td>Piotroski_Score</td>\n",
       "      <td>10YB_MoM</td>\n",
       "      <td>EPS_QoQ_frcst_diff</td>\n",
       "      <td>10Y_Val_to_30MA</td>\n",
       "      <td>VIX_WoW</td>\n",
       "      <td>VIX_DoD</td>\n",
       "      <td>days_after_earnings_report</td>\n",
       "    </tr>\n",
       "  </tbody>\n",
       "</table>\n",
       "<p>6 rows × 38 columns</p>\n",
       "</div>"
      ],
      "text/plain": [
       "                    0                  1                  2   \\\n",
       "15   days_after_crisis           VIX_high             sector   \n",
       "30   days_after_crisis             sector           10YB_YoY   \n",
       "60   days_after_crisis             sector  10YB_200MA_Vector   \n",
       "90   days_after_crisis             sector                 CR   \n",
       "120             sector  days_after_crisis  EPS_1Y_exp_Change   \n",
       "150             sector  days_after_crisis  EPS_1Y_exp_Change   \n",
       "\n",
       "                    3                  4        5                   6   \\\n",
       "15            10YB_YoY            VIX_WoW  VIX_MoM     10Y_Val_to_30MA   \n",
       "30            VIX_high  10YB_200MA_Vector  VIX_MoM             10YBond   \n",
       "60            10YB_YoY           VIX_high       PE                  DY   \n",
       "90   EPS_1Y_exp_Change                 PE       DY            10YB_YoY   \n",
       "120                 DY                 PE       CR                  GM   \n",
       "150                 DY                 CR       DE  Acc_Rec_Pay_Ration   \n",
       "\n",
       "                 7                 8                  9   ...             28  \\\n",
       "15          10YBond  10Y_Val_to_200MA  10YB_200MA_Vector  ...         YoY_GM   \n",
       "30           YoY_PE   10Y_Val_to_30MA   10Y_Val_to_200MA  ...  YoY_Piotroski   \n",
       "60          10YBond               ROE             YoY_DY  ...         YoY_GM   \n",
       "90           YoY_DY            YoY_CR                 DE  ...  YoY_Piotroski   \n",
       "120          YoY_DY                DE     EPS_YoY_Growth  ...        VIX_MoM   \n",
       "150  EPS_YoY_Growth                PE                ROE  ...       YoY_PEGB   \n",
       "\n",
       "                  29             30                  31                  32  \\\n",
       "15          YoY_PEGF       YoY_PEGB                  GM                 DPR   \n",
       "30          YoY_PEGB        YoY_DPR  EPS_QoQ_frcst_diff  Acc_Rec_Pay_Ration   \n",
       "60     YoY_Piotroski    PEG_Forward     10Y_Val_to_30MA       PEG_Backwards   \n",
       "90     PEG_Backwards        VIX_MoM     Piotroski_Score     10Y_Val_to_30MA   \n",
       "120  Piotroski_Score  PEG_Backwards            YoY_PEGB            10YB_MoM   \n",
       "150    PEG_Backwards        VIX_MoM     Piotroski_Score            10YB_MoM   \n",
       "\n",
       "                     33                          34  \\\n",
       "15          PEG_Forward          Acc_Rec_Pay_Ration   \n",
       "30               YoY_ES                         DPR   \n",
       "60             10YB_MoM          EPS_QoQ_frcst_diff   \n",
       "90             10YB_MoM  days_after_earnings_report   \n",
       "120     10Y_Val_to_30MA  days_after_earnings_report   \n",
       "150  EPS_QoQ_frcst_diff             10Y_Val_to_30MA   \n",
       "\n",
       "                             35                  36  \\\n",
       "15                       YoY_ES       PEG_Backwards   \n",
       "30                PEG_Backwards         PEG_Forward   \n",
       "60   days_after_earnings_report             VIX_DoD   \n",
       "90           EPS_QoQ_frcst_diff             VIX_WoW   \n",
       "120                     VIX_WoW  EPS_QoQ_frcst_diff   \n",
       "150                     VIX_WoW             VIX_DoD   \n",
       "\n",
       "                             37  \n",
       "15              Piotroski_Score  \n",
       "30              Piotroski_Score  \n",
       "60              Piotroski_Score  \n",
       "90                      VIX_DoD  \n",
       "120                     VIX_DoD  \n",
       "150  days_after_earnings_report  \n",
       "\n",
       "[6 rows x 38 columns]"
      ]
     },
     "execution_count": 545,
     "metadata": {},
     "output_type": "execute_result"
    }
   ],
   "source": [
    "all_features_evolution = []\n",
    "for i, j in enumerate(feature_importances):\n",
    "    features_sorted = feature_importances[i].sort_values(by='Value, %', ascending=False)[\"Feature\"].tolist()\n",
    "    all_features_evolution.append(features_sorted)\n",
    "\n",
    "features_evolution = pd.DataFrame(all_features_evolution, index = index)\n",
    "accuracy_compare_df.index.name = \"Forecasted Period, days\"\n",
    "features_evolution"
   ]
  },
  {
   "attachments": {},
   "cell_type": "markdown",
   "metadata": {},
   "source": [
    "As we see our model finds external factors as bonds rate and fear level as the best predictors even for the long term forecast. \n",
    "Dividends change timing also play it's role as the industry compny works in.\n",
    "My expectation was to see PE ratio in the top 5, but it seems it doesn't play a big role. "
   ]
  },
  {
   "attachments": {},
   "cell_type": "markdown",
   "metadata": {},
   "source": [
    "## Changing the perspective"
   ]
  }
 ],
 "metadata": {
  "kernelspec": {
   "display_name": "Python 3 (ipykernel)",
   "language": "python",
   "name": "python3"
  },
  "language_info": {
   "codemirror_mode": {
    "name": "ipython",
    "version": 3
   },
   "file_extension": ".py",
   "mimetype": "text/x-python",
   "name": "python",
   "nbconvert_exporter": "python",
   "pygments_lexer": "ipython3",
   "version": "3.9.12"
  }
 },
 "nbformat": 4,
 "nbformat_minor": 4
}
