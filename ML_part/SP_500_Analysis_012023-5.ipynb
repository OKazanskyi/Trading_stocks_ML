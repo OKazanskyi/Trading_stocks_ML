{
 "cells": [
  {
   "attachments": {},
   "cell_type": "markdown",
   "metadata": {},
   "source": [
    "# Final Word\n",
    "\n",
    "On average with every winning bet we can get about 5.8% of stock value. If it is true, it's an amazing result for 14 days trade.\n",
    "\n",
    "We see that some bets lead to loss of  15.5%, at the same time max gain of the win bet is 33%.\n",
    "\n",
    "Overall the results looks promising, and the level of precision is way higher than I expected after testing the model on validation.\n",
    "\n",
    "I really would like to go live with the model."
   ]
  },
  {
   "attachments": {},
   "cell_type": "markdown",
   "metadata": {},
   "source": [
    "### Save the model as joblib"
   ]
  },
  {
   "cell_type": "code",
   "execution_count": null,
   "metadata": {},
   "outputs": [],
   "source": [
    "#Saving the label encoder\n",
    "filename = 'C:\\\\Users\\\\oleg.kazanskyi\\\\OneDrive - Danaher\\\\Documents\\\\Trading Python\\\\Models\\\\label_encoder_012023.joblib'\n",
    "joblib.dump(le, filename)"
   ]
  },
  {
   "cell_type": "code",
   "execution_count": null,
   "metadata": {},
   "outputs": [],
   "source": [
    "#Saving the models\n",
    "for i, period in enumerate(periods):\n",
    "    folder = 'C:\\\\Users\\\\oleg.kazanskyi\\\\OneDrive - Danaher\\\\Documents\\\\Trading Python\\\\Models\\\\'\n",
    "    full_path = os.path.join(folder,period+\"_model.joblib\")\n",
    "    joblib.dump(list_of_classification_models[i], full_path)"
   ]
  }
 ],
 "metadata": {
  "kernelspec": {
   "display_name": "Python 3 (ipykernel)",
   "language": "python",
   "name": "python3"
  },
  "language_info": {
   "codemirror_mode": {
    "name": "ipython",
    "version": 3
   },
   "file_extension": ".py",
   "mimetype": "text/x-python",
   "name": "python",
   "nbconvert_exporter": "python",
   "pygments_lexer": "ipython3",
   "version": "3.9.12"
  }
 },
 "nbformat": 4,
 "nbformat_minor": 4
}
